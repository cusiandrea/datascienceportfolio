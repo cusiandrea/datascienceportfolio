{
  "cells": [
    {
      "cell_type": "markdown",
      "metadata": {
        "id": "view-in-github",
        "colab_type": "text"
      },
      "source": [
        "<a href=\"https://colab.research.google.com/github/cusiandrea/datascienceportfolio/blob/main/Sentiment_Analysis_portfolio.ipynb\" target=\"_parent\"><img src=\"https://colab.research.google.com/assets/colab-badge.svg\" alt=\"Open In Colab\"/></a>"
      ]
    },
    {
      "cell_type": "markdown",
      "source": [
        "#Sentiment analysis exercise\n",
        "\n",
        "The goal is to build a classification model in order to classify a movie review as positive or negative.\n",
        "The classification is also performed wiht a pre-trained Spacy model."
      ],
      "metadata": {
        "id": "gUcjm-x1Oezt"
      },
      "id": "gUcjm-x1Oezt"
    },
    {
      "cell_type": "code",
      "source": [
        "import pandas as pd\n",
        "import numpy as np"
      ],
      "metadata": {
        "id": "-4MrMPFeQjUy"
      },
      "id": "-4MrMPFeQjUy",
      "execution_count": 157,
      "outputs": []
    },
    {
      "cell_type": "markdown",
      "source": [
        "##The dataset"
      ],
      "metadata": {
        "id": "IKOERYqiOefe"
      },
      "id": "IKOERYqiOefe"
    },
    {
      "cell_type": "code",
      "source": [
        "from google.colab import drive\n",
        "drive.mount('/content/drive')"
      ],
      "metadata": {
        "colab": {
          "base_uri": "https://localhost:8080/"
        },
        "id": "Dkc3_4TdPSXP",
        "outputId": "5b9522a6-0f09-42c9-8139-32c34d24ae82"
      },
      "id": "Dkc3_4TdPSXP",
      "execution_count": 158,
      "outputs": [
        {
          "output_type": "stream",
          "name": "stdout",
          "text": [
            "Drive already mounted at /content/drive; to attempt to forcibly remount, call drive.mount(\"/content/drive\", force_remount=True).\n"
          ]
        }
      ]
    },
    {
      "cell_type": "markdown",
      "source": [
        "A portion of IMDB reviews dataset is loaded"
      ],
      "metadata": {
        "id": "fDdXGsvWsP-_"
      },
      "id": "fDdXGsvWsP-_"
    },
    {
      "cell_type": "code",
      "source": [
        "dataset = pd.read_csv('/content/drive/MyDrive/Colab Notebooks/08 - Natural Language Processing/datasets/Sentiment_Analysis/SMALL_IMDB.csv')"
      ],
      "metadata": {
        "id": "LMDD5vG7Owqb"
      },
      "id": "LMDD5vG7Owqb",
      "execution_count": 159,
      "outputs": []
    },
    {
      "cell_type": "code",
      "source": [
        "dataset.head()"
      ],
      "metadata": {
        "colab": {
          "base_uri": "https://localhost:8080/",
          "height": 206
        },
        "id": "5gbzT_wVQ66o",
        "outputId": "d2e49b5c-cc78-49f6-ff54-dd4191abea65"
      },
      "id": "5gbzT_wVQ66o",
      "execution_count": 160,
      "outputs": [
        {
          "output_type": "execute_result",
          "data": {
            "text/plain": [
              "                                              review sentiment\n",
              "0  If there were two parts that the physically to...  positive\n",
              "1  As a reviewer has already commented, this made...  positive\n",
              "2  Gday Mates! just watched Croc Hunter the movie...  negative\n",
              "3  I will admit that I'm only a college student a...  negative\n",
              "4  This is possibly the worst film I have ever se...  negative"
            ],
            "text/html": [
              "\n",
              "  <div id=\"df-7c023ac8-5082-470c-9211-5c6d02d9e753\" class=\"colab-df-container\">\n",
              "    <div>\n",
              "<style scoped>\n",
              "    .dataframe tbody tr th:only-of-type {\n",
              "        vertical-align: middle;\n",
              "    }\n",
              "\n",
              "    .dataframe tbody tr th {\n",
              "        vertical-align: top;\n",
              "    }\n",
              "\n",
              "    .dataframe thead th {\n",
              "        text-align: right;\n",
              "    }\n",
              "</style>\n",
              "<table border=\"1\" class=\"dataframe\">\n",
              "  <thead>\n",
              "    <tr style=\"text-align: right;\">\n",
              "      <th></th>\n",
              "      <th>review</th>\n",
              "      <th>sentiment</th>\n",
              "    </tr>\n",
              "  </thead>\n",
              "  <tbody>\n",
              "    <tr>\n",
              "      <th>0</th>\n",
              "      <td>If there were two parts that the physically to...</td>\n",
              "      <td>positive</td>\n",
              "    </tr>\n",
              "    <tr>\n",
              "      <th>1</th>\n",
              "      <td>As a reviewer has already commented, this made...</td>\n",
              "      <td>positive</td>\n",
              "    </tr>\n",
              "    <tr>\n",
              "      <th>2</th>\n",
              "      <td>Gday Mates! just watched Croc Hunter the movie...</td>\n",
              "      <td>negative</td>\n",
              "    </tr>\n",
              "    <tr>\n",
              "      <th>3</th>\n",
              "      <td>I will admit that I'm only a college student a...</td>\n",
              "      <td>negative</td>\n",
              "    </tr>\n",
              "    <tr>\n",
              "      <th>4</th>\n",
              "      <td>This is possibly the worst film I have ever se...</td>\n",
              "      <td>negative</td>\n",
              "    </tr>\n",
              "  </tbody>\n",
              "</table>\n",
              "</div>\n",
              "    <div class=\"colab-df-buttons\">\n",
              "\n",
              "  <div class=\"colab-df-container\">\n",
              "    <button class=\"colab-df-convert\" onclick=\"convertToInteractive('df-7c023ac8-5082-470c-9211-5c6d02d9e753')\"\n",
              "            title=\"Convert this dataframe to an interactive table.\"\n",
              "            style=\"display:none;\">\n",
              "\n",
              "  <svg xmlns=\"http://www.w3.org/2000/svg\" height=\"24px\" viewBox=\"0 -960 960 960\">\n",
              "    <path d=\"M120-120v-720h720v720H120Zm60-500h600v-160H180v160Zm220 220h160v-160H400v160Zm0 220h160v-160H400v160ZM180-400h160v-160H180v160Zm440 0h160v-160H620v160ZM180-180h160v-160H180v160Zm440 0h160v-160H620v160Z\"/>\n",
              "  </svg>\n",
              "    </button>\n",
              "\n",
              "  <style>\n",
              "    .colab-df-container {\n",
              "      display:flex;\n",
              "      gap: 12px;\n",
              "    }\n",
              "\n",
              "    .colab-df-convert {\n",
              "      background-color: #E8F0FE;\n",
              "      border: none;\n",
              "      border-radius: 50%;\n",
              "      cursor: pointer;\n",
              "      display: none;\n",
              "      fill: #1967D2;\n",
              "      height: 32px;\n",
              "      padding: 0 0 0 0;\n",
              "      width: 32px;\n",
              "    }\n",
              "\n",
              "    .colab-df-convert:hover {\n",
              "      background-color: #E2EBFA;\n",
              "      box-shadow: 0px 1px 2px rgba(60, 64, 67, 0.3), 0px 1px 3px 1px rgba(60, 64, 67, 0.15);\n",
              "      fill: #174EA6;\n",
              "    }\n",
              "\n",
              "    .colab-df-buttons div {\n",
              "      margin-bottom: 4px;\n",
              "    }\n",
              "\n",
              "    [theme=dark] .colab-df-convert {\n",
              "      background-color: #3B4455;\n",
              "      fill: #D2E3FC;\n",
              "    }\n",
              "\n",
              "    [theme=dark] .colab-df-convert:hover {\n",
              "      background-color: #434B5C;\n",
              "      box-shadow: 0px 1px 3px 1px rgba(0, 0, 0, 0.15);\n",
              "      filter: drop-shadow(0px 1px 2px rgba(0, 0, 0, 0.3));\n",
              "      fill: #FFFFFF;\n",
              "    }\n",
              "  </style>\n",
              "\n",
              "    <script>\n",
              "      const buttonEl =\n",
              "        document.querySelector('#df-7c023ac8-5082-470c-9211-5c6d02d9e753 button.colab-df-convert');\n",
              "      buttonEl.style.display =\n",
              "        google.colab.kernel.accessAllowed ? 'block' : 'none';\n",
              "\n",
              "      async function convertToInteractive(key) {\n",
              "        const element = document.querySelector('#df-7c023ac8-5082-470c-9211-5c6d02d9e753');\n",
              "        const dataTable =\n",
              "          await google.colab.kernel.invokeFunction('convertToInteractive',\n",
              "                                                    [key], {});\n",
              "        if (!dataTable) return;\n",
              "\n",
              "        const docLinkHtml = 'Like what you see? Visit the ' +\n",
              "          '<a target=\"_blank\" href=https://colab.research.google.com/notebooks/data_table.ipynb>data table notebook</a>'\n",
              "          + ' to learn more about interactive tables.';\n",
              "        element.innerHTML = '';\n",
              "        dataTable['output_type'] = 'display_data';\n",
              "        await google.colab.output.renderOutput(dataTable, element);\n",
              "        const docLink = document.createElement('div');\n",
              "        docLink.innerHTML = docLinkHtml;\n",
              "        element.appendChild(docLink);\n",
              "      }\n",
              "    </script>\n",
              "  </div>\n",
              "\n",
              "\n",
              "<div id=\"df-976f8835-f42a-4a5a-a85a-b6cfbc2c8a09\">\n",
              "  <button class=\"colab-df-quickchart\" onclick=\"quickchart('df-976f8835-f42a-4a5a-a85a-b6cfbc2c8a09')\"\n",
              "            title=\"Suggest charts\"\n",
              "            style=\"display:none;\">\n",
              "\n",
              "<svg xmlns=\"http://www.w3.org/2000/svg\" height=\"24px\"viewBox=\"0 0 24 24\"\n",
              "     width=\"24px\">\n",
              "    <g>\n",
              "        <path d=\"M19 3H5c-1.1 0-2 .9-2 2v14c0 1.1.9 2 2 2h14c1.1 0 2-.9 2-2V5c0-1.1-.9-2-2-2zM9 17H7v-7h2v7zm4 0h-2V7h2v10zm4 0h-2v-4h2v4z\"/>\n",
              "    </g>\n",
              "</svg>\n",
              "  </button>\n",
              "\n",
              "<style>\n",
              "  .colab-df-quickchart {\n",
              "      --bg-color: #E8F0FE;\n",
              "      --fill-color: #1967D2;\n",
              "      --hover-bg-color: #E2EBFA;\n",
              "      --hover-fill-color: #174EA6;\n",
              "      --disabled-fill-color: #AAA;\n",
              "      --disabled-bg-color: #DDD;\n",
              "  }\n",
              "\n",
              "  [theme=dark] .colab-df-quickchart {\n",
              "      --bg-color: #3B4455;\n",
              "      --fill-color: #D2E3FC;\n",
              "      --hover-bg-color: #434B5C;\n",
              "      --hover-fill-color: #FFFFFF;\n",
              "      --disabled-bg-color: #3B4455;\n",
              "      --disabled-fill-color: #666;\n",
              "  }\n",
              "\n",
              "  .colab-df-quickchart {\n",
              "    background-color: var(--bg-color);\n",
              "    border: none;\n",
              "    border-radius: 50%;\n",
              "    cursor: pointer;\n",
              "    display: none;\n",
              "    fill: var(--fill-color);\n",
              "    height: 32px;\n",
              "    padding: 0;\n",
              "    width: 32px;\n",
              "  }\n",
              "\n",
              "  .colab-df-quickchart:hover {\n",
              "    background-color: var(--hover-bg-color);\n",
              "    box-shadow: 0 1px 2px rgba(60, 64, 67, 0.3), 0 1px 3px 1px rgba(60, 64, 67, 0.15);\n",
              "    fill: var(--button-hover-fill-color);\n",
              "  }\n",
              "\n",
              "  .colab-df-quickchart-complete:disabled,\n",
              "  .colab-df-quickchart-complete:disabled:hover {\n",
              "    background-color: var(--disabled-bg-color);\n",
              "    fill: var(--disabled-fill-color);\n",
              "    box-shadow: none;\n",
              "  }\n",
              "\n",
              "  .colab-df-spinner {\n",
              "    border: 2px solid var(--fill-color);\n",
              "    border-color: transparent;\n",
              "    border-bottom-color: var(--fill-color);\n",
              "    animation:\n",
              "      spin 1s steps(1) infinite;\n",
              "  }\n",
              "\n",
              "  @keyframes spin {\n",
              "    0% {\n",
              "      border-color: transparent;\n",
              "      border-bottom-color: var(--fill-color);\n",
              "      border-left-color: var(--fill-color);\n",
              "    }\n",
              "    20% {\n",
              "      border-color: transparent;\n",
              "      border-left-color: var(--fill-color);\n",
              "      border-top-color: var(--fill-color);\n",
              "    }\n",
              "    30% {\n",
              "      border-color: transparent;\n",
              "      border-left-color: var(--fill-color);\n",
              "      border-top-color: var(--fill-color);\n",
              "      border-right-color: var(--fill-color);\n",
              "    }\n",
              "    40% {\n",
              "      border-color: transparent;\n",
              "      border-right-color: var(--fill-color);\n",
              "      border-top-color: var(--fill-color);\n",
              "    }\n",
              "    60% {\n",
              "      border-color: transparent;\n",
              "      border-right-color: var(--fill-color);\n",
              "    }\n",
              "    80% {\n",
              "      border-color: transparent;\n",
              "      border-right-color: var(--fill-color);\n",
              "      border-bottom-color: var(--fill-color);\n",
              "    }\n",
              "    90% {\n",
              "      border-color: transparent;\n",
              "      border-bottom-color: var(--fill-color);\n",
              "    }\n",
              "  }\n",
              "</style>\n",
              "\n",
              "  <script>\n",
              "    async function quickchart(key) {\n",
              "      const quickchartButtonEl =\n",
              "        document.querySelector('#' + key + ' button');\n",
              "      quickchartButtonEl.disabled = true;  // To prevent multiple clicks.\n",
              "      quickchartButtonEl.classList.add('colab-df-spinner');\n",
              "      try {\n",
              "        const charts = await google.colab.kernel.invokeFunction(\n",
              "            'suggestCharts', [key], {});\n",
              "      } catch (error) {\n",
              "        console.error('Error during call to suggestCharts:', error);\n",
              "      }\n",
              "      quickchartButtonEl.classList.remove('colab-df-spinner');\n",
              "      quickchartButtonEl.classList.add('colab-df-quickchart-complete');\n",
              "    }\n",
              "    (() => {\n",
              "      let quickchartButtonEl =\n",
              "        document.querySelector('#df-976f8835-f42a-4a5a-a85a-b6cfbc2c8a09 button');\n",
              "      quickchartButtonEl.style.display =\n",
              "        google.colab.kernel.accessAllowed ? 'block' : 'none';\n",
              "    })();\n",
              "  </script>\n",
              "</div>\n",
              "\n",
              "    </div>\n",
              "  </div>\n"
            ],
            "application/vnd.google.colaboratory.intrinsic+json": {
              "type": "dataframe",
              "variable_name": "dataset",
              "summary": "{\n  \"name\": \"dataset\",\n  \"rows\": 10000,\n  \"fields\": [\n    {\n      \"column\": \"review\",\n      \"properties\": {\n        \"dtype\": \"string\",\n        \"num_unique_values\": 9983,\n        \"samples\": [\n          \"Ghost Town starts as Kate Barrett (Catherine Hickland) drives along an isolated desert road, her car suddenly breaks down & she hears horses hoofs approaching... Deputy Sheriff Langley (Frank Luz) of Riverton County is called in to investigate Kate's disappearance after her father reports her missing. He finds her broken down car & drives off looking for her, unfortunately his car breaks down too & he has to walk. Langley ends up at at a deserted rundown ghost town, much to his shock Langley soon discovers that it is quite literally a ghost town as it's populated by the ghosts of it's former residents & is run by the evil Devlin (Jimmie F. Skaggs) who has kidnapped Kate for reasons never explained & it's up to Langley to rescue her & end the towns curse...<br /><br />The one & only directorial effort of Richard Governor this odd film didn't really do much for me & I didn't like it all that much. The script by Duke Sandefur tries to mix the horror & western genres which it doesn't do to any great effect. Have you ever wondered why there aren't more horror western hybrid films out there? Well, neither have I but if I were to ask myself such a question I would find all the answers in Ghost Town because it's not very good. The two genres just don't mix that well. There are plenty of clich\\u00e9s, on the western side of things there's the innocent townsfolk who are to scared to stand up to a gang of thugs who are terrorising them, the shoot-outs in the main street, saloon bars with swing doors & prostitutes upstairs & horror wise there's plenty of cobwebs, some ghosts, an ancient curse, talking corpses & a few violent kills. I was just very underwhelmed by it, I suppose there's nothing terribly wrong with it other than it's just dull & the two genres don't sit together that well. There are a few holes in the plot too, why did Devlin kidnap Kate? I know she resembled his previous girlfriend but how did he know that & what was he going to do with her anyway? We never know why this ghost town is full of ghosts either, I mean what's keeping them there & what caused them to come back as ghosts? Then there's the bit at the end where Devlin after being shot says he can't be killed only for Langley to kill him a few seconds later, I mean why didn't the bullets work in the first place?<br /><br />Director Governor does alright, there's a nice horror film atmosphere with some well lit cobweb strewn sets & the standard Hollywood western town is represented here with a central street with wooden buildings lining either side of it. I wouldn't say it's scary because it isn't, there's not much tension either & the film drags in places despite being only just over 80 odd minutes in length. Forget about any gore, there a few bloody gunshot wounds, an after the fact shot of two people with their throats slit & someone is impaled with a metal pole & that's it.<br /><br />I'd have imagined the budget was pretty small here, it's reasonably well made & is competent if nothing else. Credit where credit's due the period costumes & sets are pretty good actually. The acting is alright but no-ones going to win any awards.<br /><br />Ghost Town is a strange film, I'm not really sure who it's meant to appeal to & it certainly didn't appeal to me. Anyone looking for a western will be annoyed with the dumb horror elements while anyone looking for a horror film will be bored by the western elements. It's something a bit different but that doesn't mean it's any good, worth a watch if your desperate but don't bust a gut to see it.\",\n          \"This movie was more of a passage into manhood for one gay man, and how he must deal with everyone. His mother is depressed, his younger sister is a pain, his older sister is somewhat accepting. The relationship looks good with his boyfriend/exhooker and he leaves his family to try life with this first guy. Unfortunately, the new guy screws around on him and says it really didn't mean anything. Our young gay man goes bonkers and ends up in the looney bin and eventually leaves, dumping his new lover and starting over. We are left with him starting over and viewing, not participating, in happiness. So maybe things will go better for him in the future. The ending was kind of a downer but the whole movie was entirely realistic and so I will let this real ending slip bye with a high rating.\",\n          \"Finally, I can connect the dots between Return of the Jedi and Phantom Menace. We see here where Lucas lost touch with what made the original Star Wars films great and began to descend into the plot less tripe that ruined episodes 1-3. This film is more like one of those cheesy low-budget 80s swords and sorcerer films than anything worthy of being associated with the Star Wars saga. As with the Jar-Jar character, this seems targeted at children (and the toy market). The battle scenes are particularly bad. It was depressing to see Sian Phillips' incredible talent go to such a waste, after her classic performance in I, Claudius.\"\n        ],\n        \"semantic_type\": \"\",\n        \"description\": \"\"\n      }\n    },\n    {\n      \"column\": \"sentiment\",\n      \"properties\": {\n        \"dtype\": \"category\",\n        \"num_unique_values\": 2,\n        \"samples\": [\n          \"negative\",\n          \"positive\"\n        ],\n        \"semantic_type\": \"\",\n        \"description\": \"\"\n      }\n    }\n  ]\n}"
            }
          },
          "metadata": {},
          "execution_count": 160
        }
      ]
    },
    {
      "cell_type": "code",
      "source": [
        "dataset.info()"
      ],
      "metadata": {
        "colab": {
          "base_uri": "https://localhost:8080/"
        },
        "id": "2h-VbhiwRA4R",
        "outputId": "e0e7ee6d-a533-4732-8f9a-f183ff50c788"
      },
      "id": "2h-VbhiwRA4R",
      "execution_count": 161,
      "outputs": [
        {
          "output_type": "stream",
          "name": "stdout",
          "text": [
            "<class 'pandas.core.frame.DataFrame'>\n",
            "RangeIndex: 10000 entries, 0 to 9999\n",
            "Data columns (total 2 columns):\n",
            " #   Column     Non-Null Count  Dtype \n",
            "---  ------     --------------  ----- \n",
            " 0   review     10000 non-null  object\n",
            " 1   sentiment  10000 non-null  object\n",
            "dtypes: object(2)\n",
            "memory usage: 156.4+ KB\n"
          ]
        }
      ]
    },
    {
      "cell_type": "markdown",
      "source": [
        "The dataset has 10.000 samples and 2 columns (the review and its sentiment)"
      ],
      "metadata": {
        "id": "68-zkFAQse-U"
      },
      "id": "68-zkFAQse-U"
    },
    {
      "cell_type": "code",
      "source": [
        "dataset.isna().sum()"
      ],
      "metadata": {
        "colab": {
          "base_uri": "https://localhost:8080/",
          "height": 147
        },
        "id": "7HF7QTzXREhJ",
        "outputId": "537d2493-4657-4b01-cfa3-46c2f1137d50"
      },
      "id": "7HF7QTzXREhJ",
      "execution_count": 162,
      "outputs": [
        {
          "output_type": "execute_result",
          "data": {
            "text/plain": [
              "review       0\n",
              "sentiment    0\n",
              "dtype: int64"
            ],
            "text/html": [
              "<div>\n",
              "<style scoped>\n",
              "    .dataframe tbody tr th:only-of-type {\n",
              "        vertical-align: middle;\n",
              "    }\n",
              "\n",
              "    .dataframe tbody tr th {\n",
              "        vertical-align: top;\n",
              "    }\n",
              "\n",
              "    .dataframe thead th {\n",
              "        text-align: right;\n",
              "    }\n",
              "</style>\n",
              "<table border=\"1\" class=\"dataframe\">\n",
              "  <thead>\n",
              "    <tr style=\"text-align: right;\">\n",
              "      <th></th>\n",
              "      <th>0</th>\n",
              "    </tr>\n",
              "  </thead>\n",
              "  <tbody>\n",
              "    <tr>\n",
              "      <th>review</th>\n",
              "      <td>0</td>\n",
              "    </tr>\n",
              "    <tr>\n",
              "      <th>sentiment</th>\n",
              "      <td>0</td>\n",
              "    </tr>\n",
              "  </tbody>\n",
              "</table>\n",
              "</div><br><label><b>dtype:</b> int64</label>"
            ]
          },
          "metadata": {},
          "execution_count": 162
        }
      ]
    },
    {
      "cell_type": "code",
      "source": [
        "dataset.duplicated().sum()"
      ],
      "metadata": {
        "colab": {
          "base_uri": "https://localhost:8080/"
        },
        "id": "Sx4JqBzERJ1_",
        "outputId": "2c810395-d9cb-45b1-f01c-af1d567c45db"
      },
      "id": "Sx4JqBzERJ1_",
      "execution_count": 163,
      "outputs": [
        {
          "output_type": "execute_result",
          "data": {
            "text/plain": [
              "17"
            ]
          },
          "metadata": {},
          "execution_count": 163
        }
      ]
    },
    {
      "cell_type": "code",
      "source": [
        "dataset.drop_duplicates(inplace=True)"
      ],
      "metadata": {
        "id": "XEIoIkvURg1p"
      },
      "id": "XEIoIkvURg1p",
      "execution_count": 164,
      "outputs": []
    },
    {
      "cell_type": "markdown",
      "source": [
        "The dataset does not have missing data and has only 17 duplicated samples, which are removed"
      ],
      "metadata": {
        "id": "0mktr2jJsujH"
      },
      "id": "0mktr2jJsujH"
    },
    {
      "cell_type": "code",
      "source": [
        "import matplotlib.pyplot as plt\n",
        "colors = ['blue', 'red']\n",
        "plt.bar(['positive', 'negative'], [dataset['sentiment'].value_counts()[0], dataset['sentiment'].value_counts()[1]], color=colors)\n",
        "plt.xlabel('Labels')\n",
        "plt.ylabel('N samples')\n",
        "plt.show()"
      ],
      "metadata": {
        "colab": {
          "base_uri": "https://localhost:8080/",
          "height": 538
        },
        "id": "iDe5VX0oSTr_",
        "outputId": "61968549-4f4b-41c7-df67-388ca99e27cf"
      },
      "id": "iDe5VX0oSTr_",
      "execution_count": 165,
      "outputs": [
        {
          "output_type": "stream",
          "name": "stderr",
          "text": [
            "<ipython-input-165-772e50d3ddcb>:3: FutureWarning: Series.__getitem__ treating keys as positions is deprecated. In a future version, integer keys will always be treated as labels (consistent with DataFrame behavior). To access a value by position, use `ser.iloc[pos]`\n",
            "  plt.bar(['positive', 'negative'], [dataset['sentiment'].value_counts()[0], dataset['sentiment'].value_counts()[1]], color=colors)\n",
            "<ipython-input-165-772e50d3ddcb>:3: FutureWarning: Series.__getitem__ treating keys as positions is deprecated. In a future version, integer keys will always be treated as labels (consistent with DataFrame behavior). To access a value by position, use `ser.iloc[pos]`\n",
            "  plt.bar(['positive', 'negative'], [dataset['sentiment'].value_counts()[0], dataset['sentiment'].value_counts()[1]], color=colors)\n"
          ]
        },
        {
          "output_type": "display_data",
          "data": {
            "text/plain": [
              "<Figure size 640x480 with 1 Axes>"
            ],
            "image/png": "[encoded data removed]"
          },
          "metadata": {}
        }
      ]
    },
    {
      "cell_type": "markdown",
      "source": [
        "The two sentiment classes (positive and negative) are well balanced in the dataset.\n",
        "\n",
        "These labels are converted in a numeric format"
      ],
      "metadata": {
        "id": "01iAlRFMs4YB"
      },
      "id": "01iAlRFMs4YB"
    },
    {
      "cell_type": "code",
      "source": [
        "label_mapping = {'positive': 1, 'negative': 0}\n",
        "dataset['sentiment'] = dataset['sentiment'].map(label_mapping)\n",
        "dataset.head()"
      ],
      "metadata": {
        "colab": {
          "base_uri": "https://localhost:8080/",
          "height": 206
        },
        "id": "4WqfXfCNTdL0",
        "outputId": "b6108922-7375-4c3e-bfd6-8b1a5a3a4154"
      },
      "id": "4WqfXfCNTdL0",
      "execution_count": 166,
      "outputs": [
        {
          "output_type": "execute_result",
          "data": {
            "text/plain": [
              "                                              review  sentiment\n",
              "0  If there were two parts that the physically to...          1\n",
              "1  As a reviewer has already commented, this made...          1\n",
              "2  Gday Mates! just watched Croc Hunter the movie...          0\n",
              "3  I will admit that I'm only a college student a...          0\n",
              "4  This is possibly the worst film I have ever se...          0"
            ],
            "text/html": [
              "\n",
              "  <div id=\"df-8855af3b-4071-4516-acbb-f4ba63f83b93\" class=\"colab-df-container\">\n",
              "    <div>\n",
              "<style scoped>\n",
              "    .dataframe tbody tr th:only-of-type {\n",
              "        vertical-align: middle;\n",
              "    }\n",
              "\n",
              "    .dataframe tbody tr th {\n",
              "        vertical-align: top;\n",
              "    }\n",
              "\n",
              "    .dataframe thead th {\n",
              "        text-align: right;\n",
              "    }\n",
              "</style>\n",
              "<table border=\"1\" class=\"dataframe\">\n",
              "  <thead>\n",
              "    <tr style=\"text-align: right;\">\n",
              "      <th></th>\n",
              "      <th>review</th>\n",
              "      <th>sentiment</th>\n",
              "    </tr>\n",
              "  </thead>\n",
              "  <tbody>\n",
              "    <tr>\n",
              "      <th>0</th>\n",
              "      <td>If there were two parts that the physically to...</td>\n",
              "      <td>1</td>\n",
              "    </tr>\n",
              "    <tr>\n",
              "      <th>1</th>\n",
              "      <td>As a reviewer has already commented, this made...</td>\n",
              "      <td>1</td>\n",
              "    </tr>\n",
              "    <tr>\n",
              "      <th>2</th>\n",
              "      <td>Gday Mates! just watched Croc Hunter the movie...</td>\n",
              "      <td>0</td>\n",
              "    </tr>\n",
              "    <tr>\n",
              "      <th>3</th>\n",
              "      <td>I will admit that I'm only a college student a...</td>\n",
              "      <td>0</td>\n",
              "    </tr>\n",
              "    <tr>\n",
              "      <th>4</th>\n",
              "      <td>This is possibly the worst film I have ever se...</td>\n",
              "      <td>0</td>\n",
              "    </tr>\n",
              "  </tbody>\n",
              "</table>\n",
              "</div>\n",
              "    <div class=\"colab-df-buttons\">\n",
              "\n",
              "  <div class=\"colab-df-container\">\n",
              "    <button class=\"colab-df-convert\" onclick=\"convertToInteractive('df-8855af3b-4071-4516-acbb-f4ba63f83b93')\"\n",
              "            title=\"Convert this dataframe to an interactive table.\"\n",
              "            style=\"display:none;\">\n",
              "\n",
              "  <svg xmlns=\"http://www.w3.org/2000/svg\" height=\"24px\" viewBox=\"0 -960 960 960\">\n",
              "    <path d=\"M120-120v-720h720v720H120Zm60-500h600v-160H180v160Zm220 220h160v-160H400v160Zm0 220h160v-160H400v160ZM180-400h160v-160H180v160Zm440 0h160v-160H620v160ZM180-180h160v-160H180v160Zm440 0h160v-160H620v160Z\"/>\n",
              "  </svg>\n",
              "    </button>\n",
              "\n",
              "  <style>\n",
              "    .colab-df-container {\n",
              "      display:flex;\n",
              "      gap: 12px;\n",
              "    }\n",
              "\n",
              "    .colab-df-convert {\n",
              "      background-color: #E8F0FE;\n",
              "      border: none;\n",
              "      border-radius: 50%;\n",
              "      cursor: pointer;\n",
              "      display: none;\n",
              "      fill: #1967D2;\n",
              "      height: 32px;\n",
              "      padding: 0 0 0 0;\n",
              "      width: 32px;\n",
              "    }\n",
              "\n",
              "    .colab-df-convert:hover {\n",
              "      background-color: #E2EBFA;\n",
              "      box-shadow: 0px 1px 2px rgba(60, 64, 67, 0.3), 0px 1px 3px 1px rgba(60, 64, 67, 0.15);\n",
              "      fill: #174EA6;\n",
              "    }\n",
              "\n",
              "    .colab-df-buttons div {\n",
              "      margin-bottom: 4px;\n",
              "    }\n",
              "\n",
              "    [theme=dark] .colab-df-convert {\n",
              "      background-color: #3B4455;\n",
              "      fill: #D2E3FC;\n",
              "    }\n",
              "\n",
              "    [theme=dark] .colab-df-convert:hover {\n",
              "      background-color: #434B5C;\n",
              "      box-shadow: 0px 1px 3px 1px rgba(0, 0, 0, 0.15);\n",
              "      filter: drop-shadow(0px 1px 2px rgba(0, 0, 0, 0.3));\n",
              "      fill: #FFFFFF;\n",
              "    }\n",
              "  </style>\n",
              "\n",
              "    <script>\n",
              "      const buttonEl =\n",
              "        document.querySelector('#df-8855af3b-4071-4516-acbb-f4ba63f83b93 button.colab-df-convert');\n",
              "      buttonEl.style.display =\n",
              "        google.colab.kernel.accessAllowed ? 'block' : 'none';\n",
              "\n",
              "      async function convertToInteractive(key) {\n",
              "        const element = document.querySelector('#df-8855af3b-4071-4516-acbb-f4ba63f83b93');\n",
              "        const dataTable =\n",
              "          await google.colab.kernel.invokeFunction('convertToInteractive',\n",
              "                                                    [key], {});\n",
              "        if (!dataTable) return;\n",
              "\n",
              "        const docLinkHtml = 'Like what you see? Visit the ' +\n",
              "          '<a target=\"_blank\" href=https://colab.research.google.com/notebooks/data_table.ipynb>data table notebook</a>'\n",
              "          + ' to learn more about interactive tables.';\n",
              "        element.innerHTML = '';\n",
              "        dataTable['output_type'] = 'display_data';\n",
              "        await google.colab.output.renderOutput(dataTable, element);\n",
              "        const docLink = document.createElement('div');\n",
              "        docLink.innerHTML = docLinkHtml;\n",
              "        element.appendChild(docLink);\n",
              "      }\n",
              "    </script>\n",
              "  </div>\n",
              "\n",
              "\n",
              "<div id=\"df-8c7312ef-fd52-4cf1-b0ad-88cbafd4767c\">\n",
              "  <button class=\"colab-df-quickchart\" onclick=\"quickchart('df-8c7312ef-fd52-4cf1-b0ad-88cbafd4767c')\"\n",
              "            title=\"Suggest charts\"\n",
              "            style=\"display:none;\">\n",
              "\n",
              "<svg xmlns=\"http://www.w3.org/2000/svg\" height=\"24px\"viewBox=\"0 0 24 24\"\n",
              "     width=\"24px\">\n",
              "    <g>\n",
              "        <path d=\"M19 3H5c-1.1 0-2 .9-2 2v14c0 1.1.9 2 2 2h14c1.1 0 2-.9 2-2V5c0-1.1-.9-2-2-2zM9 17H7v-7h2v7zm4 0h-2V7h2v10zm4 0h-2v-4h2v4z\"/>\n",
              "    </g>\n",
              "</svg>\n",
              "  </button>\n",
              "\n",
              "<style>\n",
              "  .colab-df-quickchart {\n",
              "      --bg-color: #E8F0FE;\n",
              "      --fill-color: #1967D2;\n",
              "      --hover-bg-color: #E2EBFA;\n",
              "      --hover-fill-color: #174EA6;\n",
              "      --disabled-fill-color: #AAA;\n",
              "      --disabled-bg-color: #DDD;\n",
              "  }\n",
              "\n",
              "  [theme=dark] .colab-df-quickchart {\n",
              "      --bg-color: #3B4455;\n",
              "      --fill-color: #D2E3FC;\n",
              "      --hover-bg-color: #434B5C;\n",
              "      --hover-fill-color: #FFFFFF;\n",
              "      --disabled-bg-color: #3B4455;\n",
              "      --disabled-fill-color: #666;\n",
              "  }\n",
              "\n",
              "  .colab-df-quickchart {\n",
              "    background-color: var(--bg-color);\n",
              "    border: none;\n",
              "    border-radius: 50%;\n",
              "    cursor: pointer;\n",
              "    display: none;\n",
              "    fill: var(--fill-color);\n",
              "    height: 32px;\n",
              "    padding: 0;\n",
              "    width: 32px;\n",
              "  }\n",
              "\n",
              "  .colab-df-quickchart:hover {\n",
              "    background-color: var(--hover-bg-color);\n",
              "    box-shadow: 0 1px 2px rgba(60, 64, 67, 0.3), 0 1px 3px 1px rgba(60, 64, 67, 0.15);\n",
              "    fill: var(--button-hover-fill-color);\n",
              "  }\n",
              "\n",
              "  .colab-df-quickchart-complete:disabled,\n",
              "  .colab-df-quickchart-complete:disabled:hover {\n",
              "    background-color: var(--disabled-bg-color);\n",
              "    fill: var(--disabled-fill-color);\n",
              "    box-shadow: none;\n",
              "  }\n",
              "\n",
              "  .colab-df-spinner {\n",
              "    border: 2px solid var(--fill-color);\n",
              "    border-color: transparent;\n",
              "    border-bottom-color: var(--fill-color);\n",
              "    animation:\n",
              "      spin 1s steps(1) infinite;\n",
              "  }\n",
              "\n",
              "  @keyframes spin {\n",
              "    0% {\n",
              "      border-color: transparent;\n",
              "      border-bottom-color: var(--fill-color);\n",
              "      border-left-color: var(--fill-color);\n",
              "    }\n",
              "    20% {\n",
              "      border-color: transparent;\n",
              "      border-left-color: var(--fill-color);\n",
              "      border-top-color: var(--fill-color);\n",
              "    }\n",
              "    30% {\n",
              "      border-color: transparent;\n",
              "      border-left-color: var(--fill-color);\n",
              "      border-top-color: var(--fill-color);\n",
              "      border-right-color: var(--fill-color);\n",
              "    }\n",
              "    40% {\n",
              "      border-color: transparent;\n",
              "      border-right-color: var(--fill-color);\n",
              "      border-top-color: var(--fill-color);\n",
              "    }\n",
              "    60% {\n",
              "      border-color: transparent;\n",
              "      border-right-color: var(--fill-color);\n",
              "    }\n",
              "    80% {\n",
              "      border-color: transparent;\n",
              "      border-right-color: var(--fill-color);\n",
              "      border-bottom-color: var(--fill-color);\n",
              "    }\n",
              "    90% {\n",
              "      border-color: transparent;\n",
              "      border-bottom-color: var(--fill-color);\n",
              "    }\n",
              "  }\n",
              "</style>\n",
              "\n",
              "  <script>\n",
              "    async function quickchart(key) {\n",
              "      const quickchartButtonEl =\n",
              "        document.querySelector('#' + key + ' button');\n",
              "      quickchartButtonEl.disabled = true;  // To prevent multiple clicks.\n",
              "      quickchartButtonEl.classList.add('colab-df-spinner');\n",
              "      try {\n",
              "        const charts = await google.colab.kernel.invokeFunction(\n",
              "            'suggestCharts', [key], {});\n",
              "      } catch (error) {\n",
              "        console.error('Error during call to suggestCharts:', error);\n",
              "      }\n",
              "      quickchartButtonEl.classList.remove('colab-df-spinner');\n",
              "      quickchartButtonEl.classList.add('colab-df-quickchart-complete');\n",
              "    }\n",
              "    (() => {\n",
              "      let quickchartButtonEl =\n",
              "        document.querySelector('#df-8c7312ef-fd52-4cf1-b0ad-88cbafd4767c button');\n",
              "      quickchartButtonEl.style.display =\n",
              "        google.colab.kernel.accessAllowed ? 'block' : 'none';\n",
              "    })();\n",
              "  </script>\n",
              "</div>\n",
              "\n",
              "    </div>\n",
              "  </div>\n"
            ],
            "application/vnd.google.colaboratory.intrinsic+json": {
              "type": "dataframe",
              "variable_name": "dataset",
              "summary": "{\n  \"name\": \"dataset\",\n  \"rows\": 9983,\n  \"fields\": [\n    {\n      \"column\": \"review\",\n      \"properties\": {\n        \"dtype\": \"string\",\n        \"num_unique_values\": 9983,\n        \"samples\": [\n          \"Ghost Town starts as Kate Barrett (Catherine Hickland) drives along an isolated desert road, her car suddenly breaks down & she hears horses hoofs approaching... Deputy Sheriff Langley (Frank Luz) of Riverton County is called in to investigate Kate's disappearance after her father reports her missing. He finds her broken down car & drives off looking for her, unfortunately his car breaks down too & he has to walk. Langley ends up at at a deserted rundown ghost town, much to his shock Langley soon discovers that it is quite literally a ghost town as it's populated by the ghosts of it's former residents & is run by the evil Devlin (Jimmie F. Skaggs) who has kidnapped Kate for reasons never explained & it's up to Langley to rescue her & end the towns curse...<br /><br />The one & only directorial effort of Richard Governor this odd film didn't really do much for me & I didn't like it all that much. The script by Duke Sandefur tries to mix the horror & western genres which it doesn't do to any great effect. Have you ever wondered why there aren't more horror western hybrid films out there? Well, neither have I but if I were to ask myself such a question I would find all the answers in Ghost Town because it's not very good. The two genres just don't mix that well. There are plenty of clich\\u00e9s, on the western side of things there's the innocent townsfolk who are to scared to stand up to a gang of thugs who are terrorising them, the shoot-outs in the main street, saloon bars with swing doors & prostitutes upstairs & horror wise there's plenty of cobwebs, some ghosts, an ancient curse, talking corpses & a few violent kills. I was just very underwhelmed by it, I suppose there's nothing terribly wrong with it other than it's just dull & the two genres don't sit together that well. There are a few holes in the plot too, why did Devlin kidnap Kate? I know she resembled his previous girlfriend but how did he know that & what was he going to do with her anyway? We never know why this ghost town is full of ghosts either, I mean what's keeping them there & what caused them to come back as ghosts? Then there's the bit at the end where Devlin after being shot says he can't be killed only for Langley to kill him a few seconds later, I mean why didn't the bullets work in the first place?<br /><br />Director Governor does alright, there's a nice horror film atmosphere with some well lit cobweb strewn sets & the standard Hollywood western town is represented here with a central street with wooden buildings lining either side of it. I wouldn't say it's scary because it isn't, there's not much tension either & the film drags in places despite being only just over 80 odd minutes in length. Forget about any gore, there a few bloody gunshot wounds, an after the fact shot of two people with their throats slit & someone is impaled with a metal pole & that's it.<br /><br />I'd have imagined the budget was pretty small here, it's reasonably well made & is competent if nothing else. Credit where credit's due the period costumes & sets are pretty good actually. The acting is alright but no-ones going to win any awards.<br /><br />Ghost Town is a strange film, I'm not really sure who it's meant to appeal to & it certainly didn't appeal to me. Anyone looking for a western will be annoyed with the dumb horror elements while anyone looking for a horror film will be bored by the western elements. It's something a bit different but that doesn't mean it's any good, worth a watch if your desperate but don't bust a gut to see it.\",\n          \"This movie was more of a passage into manhood for one gay man, and how he must deal with everyone. His mother is depressed, his younger sister is a pain, his older sister is somewhat accepting. The relationship looks good with his boyfriend/exhooker and he leaves his family to try life with this first guy. Unfortunately, the new guy screws around on him and says it really didn't mean anything. Our young gay man goes bonkers and ends up in the looney bin and eventually leaves, dumping his new lover and starting over. We are left with him starting over and viewing, not participating, in happiness. So maybe things will go better for him in the future. The ending was kind of a downer but the whole movie was entirely realistic and so I will let this real ending slip bye with a high rating.\",\n          \"Finally, I can connect the dots between Return of the Jedi and Phantom Menace. We see here where Lucas lost touch with what made the original Star Wars films great and began to descend into the plot less tripe that ruined episodes 1-3. This film is more like one of those cheesy low-budget 80s swords and sorcerer films than anything worthy of being associated with the Star Wars saga. As with the Jar-Jar character, this seems targeted at children (and the toy market). The battle scenes are particularly bad. It was depressing to see Sian Phillips' incredible talent go to such a waste, after her classic performance in I, Claudius.\"\n        ],\n        \"semantic_type\": \"\",\n        \"description\": \"\"\n      }\n    },\n    {\n      \"column\": \"sentiment\",\n      \"properties\": {\n        \"dtype\": \"number\",\n        \"std\": 0,\n        \"min\": 0,\n        \"max\": 1,\n        \"num_unique_values\": 2,\n        \"samples\": [\n          0,\n          1\n        ],\n        \"semantic_type\": \"\",\n        \"description\": \"\"\n      }\n    }\n  ]\n}"
            }
          },
          "metadata": {},
          "execution_count": 166
        }
      ]
    },
    {
      "cell_type": "markdown",
      "source": [
        "##Naive Bayes Model"
      ],
      "metadata": {
        "id": "huGYnQgrOewP"
      },
      "id": "huGYnQgrOewP"
    },
    {
      "cell_type": "markdown",
      "source": [
        "A text cleaning function is defined, in order to keep only the meaningful content of the reviews.\n",
        "\n",
        "In particular:\n",
        "* words are put in lowercase\n",
        "* punctuation is removed\n",
        "* words are lemmatized\n",
        "* stopwords are removed\n",
        "* numbers are removed\n",
        "* Spacy library is imported and an english language model is loaded"
      ],
      "metadata": {
        "id": "5RDndxW3tYWB"
      },
      "id": "5RDndxW3tYWB"
    },
    {
      "cell_type": "code",
      "execution_count": 167,
      "id": "8acdfa73",
      "metadata": {
        "colab": {
          "base_uri": "https://localhost:8080/"
        },
        "id": "8acdfa73",
        "outputId": "4cc2c233-fb44-403f-f77f-ffa31faf1dda"
      },
      "outputs": [
        {
          "output_type": "stream",
          "name": "stderr",
          "text": [
            "[nltk_data] Downloading package stopwords to /root/nltk_data...\n",
            "[nltk_data]   Package stopwords is already up-to-date!\n",
            "/usr/local/lib/python3.10/dist-packages/spacy/util.py:1740: UserWarning: [W111] Jupyter notebook detected: if using `prefer_gpu()` or `require_gpu()`, include it in the same cell right before `spacy.load()` to ensure that the model is loaded on the correct device. More information: http://spacy.io/usage/v3#jupyter-notebook-gpu\n",
            "  warnings.warn(Warnings.W111)\n"
          ]
        }
      ],
      "source": [
        "import nltk\n",
        "nltk.download('stopwords')\n",
        "from nltk.corpus import stopwords\n",
        "import string\n",
        "import spacy\n",
        "import re\n",
        "\n",
        "english_stopwords = stopwords.words('english')\n",
        "nlp = spacy.load('en_core_web_sm')\n",
        "punctuation = set(string.punctuation)\n",
        "\n",
        "def data_cleaner(sentence):\n",
        "    sentence = sentence.lower()\n",
        "    for c in string.punctuation:\n",
        "        sentence = sentence.replace(c, \" \")\n",
        "    document = nlp(sentence)\n",
        "    sentence = ' '.join(token.lemma_ for token in document)\n",
        "    sentence = ' '.join(word for word in sentence.split() if word not in english_stopwords)\n",
        "    sentence = re.sub('\\d', '', sentence)\n",
        "\n",
        "    return sentence"
      ]
    },
    {
      "cell_type": "markdown",
      "source": [
        "Every review is cleaned and saved in a list called *reviews_cleaned*"
      ],
      "metadata": {
        "id": "jTwUVUmcudHL"
      },
      "id": "jTwUVUmcudHL"
    },
    {
      "cell_type": "code",
      "source": [
        "reviews = dataset['review']\n",
        "\n",
        "reviews_cleaned = []\n",
        "for r in reviews:\n",
        "    reviews_cleaned.append(data_cleaner(r))"
      ],
      "metadata": {
        "id": "S5yH6tJ6XiEQ"
      },
      "id": "S5yH6tJ6XiEQ",
      "execution_count": 169,
      "outputs": []
    },
    {
      "cell_type": "markdown",
      "source": [
        "Let's compare a review and its cleaned version"
      ],
      "metadata": {
        "id": "DbJ42L_QuRuw"
      },
      "id": "DbJ42L_QuRuw"
    },
    {
      "cell_type": "code",
      "source": [
        "dataset['review'][0]"
      ],
      "metadata": {
        "colab": {
          "base_uri": "https://localhost:8080/",
          "height": 105
        },
        "id": "hmmDBuC_ZbDa",
        "outputId": "91459d6b-c4b5-422b-d642-182b3da6fdf6"
      },
      "id": "hmmDBuC_ZbDa",
      "execution_count": 170,
      "outputs": [
        {
          "output_type": "execute_result",
          "data": {
            "text/plain": [
              "\"If there were two parts that the physically towering, ugly-charismatic actor Gérard Depardieu was born, as a Frenchman, to play, it must surely have been Cyrano de Bergerac and the orator Georges Danton. Here he dominates the film both through the breadth of his shoulders and the power of his voice; his charisma carries the part despite the fact that it is made clear that the character has as much blood on his hands as any of the rest of them. Danton feasts while the people of Paris starve... but he is the one man who can challenge the tyranny imposed by the dreaded Committee of Public Safety in the name of 'freedom', and he is presented as the hero of the film -- despite the fact that the source play practically idolises his opponent Robespierre!<br /><br />For those who know the characters from history, there is interest to be had in identifying the minor parts: the frog-faced Tallien, Couthon the cripple, Fouquier-Tinville the tribunal's prosecutor, the dashing fop St-Just, the epic painter David. But the script cuts little slack in this respect; names are often late in coming if minor characters are identified at all, and there is no Hollywood-style 'info-dump' to make sure that the audience can place events in their historical context. The film takes it for granted that you know what has gone before, and what will happen after -- sometimes it takes too much for granted, as when it relies on a close knowledge of dates to provide the sting to its tail in the fact that Robespierre followed Danton shortly to the scaffold.<br /><br />Considered as a film, it's not entirely satisfactory in that it ebbs away towards the end. The structure of the story leads up to some great confrontation between the protagonists in the courtroom or some dramatic climax to the trial, which, thanks to history, never actually happens. Things just fizzle out: there is no revolt, there is no overthrow of tyranny, there is no assumption of power by the victor, there is no triumph on either side. It may be historically accurate, but it's not entirely satisfying as the outcome of a screen scenario -- it seems an odd place to stop. As others have commented, it might have been more logical to take events up to the end of the Terror and show in apposition the fall of Robespierre.\""
            ],
            "application/vnd.google.colaboratory.intrinsic+json": {
              "type": "string"
            }
          },
          "metadata": {},
          "execution_count": 170
        }
      ]
    },
    {
      "cell_type": "code",
      "source": [
        "reviews_cleaned[0]"
      ],
      "metadata": {
        "colab": {
          "base_uri": "https://localhost:8080/",
          "height": 105
        },
        "id": "NX9vfyFTZQqo",
        "outputId": "1c7b52ec-adc6-43eb-d2f2-f9dac81ff398"
      },
      "id": "NX9vfyFTZQqo",
      "execution_count": 171,
      "outputs": [
        {
          "data": {
            "application/vnd.google.colaboratory.intrinsic+json": {
              "type": "string"
            },
            "text/plain": [
              "'two part physically tower ugly charismatic actor gérard depardieu bear frenchman play must surely cyrano de bergerac orator george danton dominate film breadth shoulder power voice charisma carry part despite fact make clear character much blood hand rest danton feast people paris starve one man challenge tyranny impose dread committee public safety name freedom present hero film despite fact source play practically idolise opponent robespierre br br know character history interest identify minor part frog face tallien couthon cripple fouqui tinville tribunal prosecutor dash fop st epic painter david script cut little slack respect name often late come minor character identify hollywood style info dump make sure audience place event historical context film take grant know go happen sometimes take much grant rely close knowledge date provide sting tail fact robespierre follow danton shortly scaffold br br consider film entirely satisfactory ebb away towards end structure story lead great confrontation protagonist courtroom dramatic climax trial thank history never actually happen thing fizzle revolt overthrow tyranny assumption power victor triumph either side may historically accurate entirely satisfying outcome screen scenario seem odd place stop comment might logical take event end terror show apposition fall robespierre'"
            ]
          },
          "execution_count": 171,
          "metadata": {},
          "output_type": "execute_result"
        }
      ]
    },
    {
      "cell_type": "markdown",
      "source": [
        "The cleaned dataset is split in train and test set"
      ],
      "metadata": {
        "id": "TpexA5yAuakY"
      },
      "id": "TpexA5yAuakY"
    },
    {
      "cell_type": "code",
      "execution_count": 172,
      "id": "6f2714ef",
      "metadata": {
        "id": "6f2714ef"
      },
      "outputs": [],
      "source": [
        "from sklearn.model_selection import train_test_split\n",
        "\n",
        "X_train, X_test, y_train, y_test = train_test_split(reviews_cleaned, dataset['sentiment'], test_size=0.2, random_state=0)"
      ]
    },
    {
      "cell_type": "markdown",
      "source": [
        "In order to be read by the model, text needs to be vectorized"
      ],
      "metadata": {
        "id": "HCwlStRguv8M"
      },
      "id": "HCwlStRguv8M"
    },
    {
      "cell_type": "code",
      "source": [
        "from sklearn.feature_extraction.text import CountVectorizer\n",
        "\n",
        "vec = CountVectorizer()\n",
        "X_train_vectorized = vec.fit_transform(X_train).toarray()\n",
        "X_test_vectorized = vec.transform(X_test).toarray()"
      ],
      "metadata": {
        "id": "XzrFYQ3WPNVY"
      },
      "id": "XzrFYQ3WPNVY",
      "execution_count": 173,
      "outputs": []
    },
    {
      "cell_type": "markdown",
      "source": [
        "A Multinomial Naive Bayes classification model is defined.\n",
        "\n",
        "The performance on the test set is quite good (83%)"
      ],
      "metadata": {
        "id": "llmuiAoou2He"
      },
      "id": "llmuiAoou2He"
    },
    {
      "cell_type": "code",
      "source": [
        "from sklearn.naive_bayes import MultinomialNB\n",
        "\n",
        "NB_model = MultinomialNB()\n",
        "NB_model.fit(X_train_vectorized, y_train)"
      ],
      "metadata": {
        "id": "Ti7LfoOVPNYM",
        "colab": {
          "base_uri": "https://localhost:8080/",
          "height": 80
        },
        "outputId": "698e31b3-5cf5-4aed-ed91-9d090539f2e6"
      },
      "id": "Ti7LfoOVPNYM",
      "execution_count": 174,
      "outputs": [
        {
          "output_type": "execute_result",
          "data": {
            "text/plain": [
              "MultinomialNB()"
            ],
            "text/html": [
              "<style>#sk-container-id-2 {\n",
              "  /* Definition of color scheme common for light and dark mode */\n",
              "  --sklearn-color-text: black;\n",
              "  --sklearn-color-line: gray;\n",
              "  /* Definition of color scheme for unfitted estimators */\n",
              "  --sklearn-color-unfitted-level-0: #fff5e6;\n",
              "  --sklearn-color-unfitted-level-1: #f6e4d2;\n",
              "  --sklearn-color-unfitted-level-2: #ffe0b3;\n",
              "  --sklearn-color-unfitted-level-3: chocolate;\n",
              "  /* Definition of color scheme for fitted estimators */\n",
              "  --sklearn-color-fitted-level-0: #f0f8ff;\n",
              "  --sklearn-color-fitted-level-1: #d4ebff;\n",
              "  --sklearn-color-fitted-level-2: #b3dbfd;\n",
              "  --sklearn-color-fitted-level-3: cornflowerblue;\n",
              "\n",
              "  /* Specific color for light theme */\n",
              "  --sklearn-color-text-on-default-background: var(--sg-text-color, var(--theme-code-foreground, var(--jp-content-font-color1, black)));\n",
              "  --sklearn-color-background: var(--sg-background-color, var(--theme-background, var(--jp-layout-color0, white)));\n",
              "  --sklearn-color-border-box: var(--sg-text-color, var(--theme-code-foreground, var(--jp-content-font-color1, black)));\n",
              "  --sklearn-color-icon: #696969;\n",
              "\n",
              "  @media (prefers-color-scheme: dark) {\n",
              "    /* Redefinition of color scheme for dark theme */\n",
              "    --sklearn-color-text-on-default-background: var(--sg-text-color, var(--theme-code-foreground, var(--jp-content-font-color1, white)));\n",
              "    --sklearn-color-background: var(--sg-background-color, var(--theme-background, var(--jp-layout-color0, #111)));\n",
              "    --sklearn-color-border-box: var(--sg-text-color, var(--theme-code-foreground, var(--jp-content-font-color1, white)));\n",
              "    --sklearn-color-icon: #878787;\n",
              "  }\n",
              "}\n",
              "\n",
              "#sk-container-id-2 {\n",
              "  color: var(--sklearn-color-text);\n",
              "}\n",
              "\n",
              "#sk-container-id-2 pre {\n",
              "  padding: 0;\n",
              "}\n",
              "\n",
              "#sk-container-id-2 input.sk-hidden--visually {\n",
              "  border: 0;\n",
              "  clip: rect(1px 1px 1px 1px);\n",
              "  clip: rect(1px, 1px, 1px, 1px);\n",
              "  height: 1px;\n",
              "  margin: -1px;\n",
              "  overflow: hidden;\n",
              "  padding: 0;\n",
              "  position: absolute;\n",
              "  width: 1px;\n",
              "}\n",
              "\n",
              "#sk-container-id-2 div.sk-dashed-wrapped {\n",
              "  border: 1px dashed var(--sklearn-color-line);\n",
              "  margin: 0 0.4em 0.5em 0.4em;\n",
              "  box-sizing: border-box;\n",
              "  padding-bottom: 0.4em;\n",
              "  background-color: var(--sklearn-color-background);\n",
              "}\n",
              "\n",
              "#sk-container-id-2 div.sk-container {\n",
              "  /* jupyter's `normalize.less` sets `[hidden] { display: none; }`\n",
              "     but bootstrap.min.css set `[hidden] { display: none !important; }`\n",
              "     so we also need the `!important` here to be able to override the\n",
              "     default hidden behavior on the sphinx rendered scikit-learn.org.\n",
              "     See: https://github.com/scikit-learn/scikit-learn/issues/21755 */\n",
              "  display: inline-block !important;\n",
              "  position: relative;\n",
              "}\n",
              "\n",
              "#sk-container-id-2 div.sk-text-repr-fallback {\n",
              "  display: none;\n",
              "}\n",
              "\n",
              "div.sk-parallel-item,\n",
              "div.sk-serial,\n",
              "div.sk-item {\n",
              "  /* draw centered vertical line to link estimators */\n",
              "  background-image: linear-gradient(var(--sklearn-color-text-on-default-background), var(--sklearn-color-text-on-default-background));\n",
              "  background-size: 2px 100%;\n",
              "  background-repeat: no-repeat;\n",
              "  background-position: center center;\n",
              "}\n",
              "\n",
              "/* Parallel-specific style estimator block */\n",
              "\n",
              "#sk-container-id-2 div.sk-parallel-item::after {\n",
              "  content: \"\";\n",
              "  width: 100%;\n",
              "  border-bottom: 2px solid var(--sklearn-color-text-on-default-background);\n",
              "  flex-grow: 1;\n",
              "}\n",
              "\n",
              "#sk-container-id-2 div.sk-parallel {\n",
              "  display: flex;\n",
              "  align-items: stretch;\n",
              "  justify-content: center;\n",
              "  background-color: var(--sklearn-color-background);\n",
              "  position: relative;\n",
              "}\n",
              "\n",
              "#sk-container-id-2 div.sk-parallel-item {\n",
              "  display: flex;\n",
              "  flex-direction: column;\n",
              "}\n",
              "\n",
              "#sk-container-id-2 div.sk-parallel-item:first-child::after {\n",
              "  align-self: flex-end;\n",
              "  width: 50%;\n",
              "}\n",
              "\n",
              "#sk-container-id-2 div.sk-parallel-item:last-child::after {\n",
              "  align-self: flex-start;\n",
              "  width: 50%;\n",
              "}\n",
              "\n",
              "#sk-container-id-2 div.sk-parallel-item:only-child::after {\n",
              "  width: 0;\n",
              "}\n",
              "\n",
              "/* Serial-specific style estimator block */\n",
              "\n",
              "#sk-container-id-2 div.sk-serial {\n",
              "  display: flex;\n",
              "  flex-direction: column;\n",
              "  align-items: center;\n",
              "  background-color: var(--sklearn-color-background);\n",
              "  padding-right: 1em;\n",
              "  padding-left: 1em;\n",
              "}\n",
              "\n",
              "\n",
              "/* Toggleable style: style used for estimator/Pipeline/ColumnTransformer box that is\n",
              "clickable and can be expanded/collapsed.\n",
              "- Pipeline and ColumnTransformer use this feature and define the default style\n",
              "- Estimators will overwrite some part of the style using the `sk-estimator` class\n",
              "*/\n",
              "\n",
              "/* Pipeline and ColumnTransformer style (default) */\n",
              "\n",
              "#sk-container-id-2 div.sk-toggleable {\n",
              "  /* Default theme specific background. It is overwritten whether we have a\n",
              "  specific estimator or a Pipeline/ColumnTransformer */\n",
              "  background-color: var(--sklearn-color-background);\n",
              "}\n",
              "\n",
              "/* Toggleable label */\n",
              "#sk-container-id-2 label.sk-toggleable__label {\n",
              "  cursor: pointer;\n",
              "  display: block;\n",
              "  width: 100%;\n",
              "  margin-bottom: 0;\n",
              "  padding: 0.5em;\n",
              "  box-sizing: border-box;\n",
              "  text-align: center;\n",
              "}\n",
              "\n",
              "#sk-container-id-2 label.sk-toggleable__label-arrow:before {\n",
              "  /* Arrow on the left of the label */\n",
              "  content: \"▸\";\n",
              "  float: left;\n",
              "  margin-right: 0.25em;\n",
              "  color: var(--sklearn-color-icon);\n",
              "}\n",
              "\n",
              "#sk-container-id-2 label.sk-toggleable__label-arrow:hover:before {\n",
              "  color: var(--sklearn-color-text);\n",
              "}\n",
              "\n",
              "/* Toggleable content - dropdown */\n",
              "\n",
              "#sk-container-id-2 div.sk-toggleable__content {\n",
              "  max-height: 0;\n",
              "  max-width: 0;\n",
              "  overflow: hidden;\n",
              "  text-align: left;\n",
              "  /* unfitted */\n",
              "  background-color: var(--sklearn-color-unfitted-level-0);\n",
              "}\n",
              "\n",
              "#sk-container-id-2 div.sk-toggleable__content.fitted {\n",
              "  /* fitted */\n",
              "  background-color: var(--sklearn-color-fitted-level-0);\n",
              "}\n",
              "\n",
              "#sk-container-id-2 div.sk-toggleable__content pre {\n",
              "  margin: 0.2em;\n",
              "  border-radius: 0.25em;\n",
              "  color: var(--sklearn-color-text);\n",
              "  /* unfitted */\n",
              "  background-color: var(--sklearn-color-unfitted-level-0);\n",
              "}\n",
              "\n",
              "#sk-container-id-2 div.sk-toggleable__content.fitted pre {\n",
              "  /* unfitted */\n",
              "  background-color: var(--sklearn-color-fitted-level-0);\n",
              "}\n",
              "\n",
              "#sk-container-id-2 input.sk-toggleable__control:checked~div.sk-toggleable__content {\n",
              "  /* Expand drop-down */\n",
              "  max-height: 200px;\n",
              "  max-width: 100%;\n",
              "  overflow: auto;\n",
              "}\n",
              "\n",
              "#sk-container-id-2 input.sk-toggleable__control:checked~label.sk-toggleable__label-arrow:before {\n",
              "  content: \"▾\";\n",
              "}\n",
              "\n",
              "/* Pipeline/ColumnTransformer-specific style */\n",
              "\n",
              "#sk-container-id-2 div.sk-label input.sk-toggleable__control:checked~label.sk-toggleable__label {\n",
              "  color: var(--sklearn-color-text);\n",
              "  background-color: var(--sklearn-color-unfitted-level-2);\n",
              "}\n",
              "\n",
              "#sk-container-id-2 div.sk-label.fitted input.sk-toggleable__control:checked~label.sk-toggleable__label {\n",
              "  background-color: var(--sklearn-color-fitted-level-2);\n",
              "}\n",
              "\n",
              "/* Estimator-specific style */\n",
              "\n",
              "/* Colorize estimator box */\n",
              "#sk-container-id-2 div.sk-estimator input.sk-toggleable__control:checked~label.sk-toggleable__label {\n",
              "  /* unfitted */\n",
              "  background-color: var(--sklearn-color-unfitted-level-2);\n",
              "}\n",
              "\n",
              "#sk-container-id-2 div.sk-estimator.fitted input.sk-toggleable__control:checked~label.sk-toggleable__label {\n",
              "  /* fitted */\n",
              "  background-color: var(--sklearn-color-fitted-level-2);\n",
              "}\n",
              "\n",
              "#sk-container-id-2 div.sk-label label.sk-toggleable__label,\n",
              "#sk-container-id-2 div.sk-label label {\n",
              "  /* The background is the default theme color */\n",
              "  color: var(--sklearn-color-text-on-default-background);\n",
              "}\n",
              "\n",
              "/* On hover, darken the color of the background */\n",
              "#sk-container-id-2 div.sk-label:hover label.sk-toggleable__label {\n",
              "  color: var(--sklearn-color-text);\n",
              "  background-color: var(--sklearn-color-unfitted-level-2);\n",
              "}\n",
              "\n",
              "/* Label box, darken color on hover, fitted */\n",
              "#sk-container-id-2 div.sk-label.fitted:hover label.sk-toggleable__label.fitted {\n",
              "  color: var(--sklearn-color-text);\n",
              "  background-color: var(--sklearn-color-fitted-level-2);\n",
              "}\n",
              "\n",
              "/* Estimator label */\n",
              "\n",
              "#sk-container-id-2 div.sk-label label {\n",
              "  font-family: monospace;\n",
              "  font-weight: bold;\n",
              "  display: inline-block;\n",
              "  line-height: 1.2em;\n",
              "}\n",
              "\n",
              "#sk-container-id-2 div.sk-label-container {\n",
              "  text-align: center;\n",
              "}\n",
              "\n",
              "/* Estimator-specific */\n",
              "#sk-container-id-2 div.sk-estimator {\n",
              "  font-family: monospace;\n",
              "  border: 1px dotted var(--sklearn-color-border-box);\n",
              "  border-radius: 0.25em;\n",
              "  box-sizing: border-box;\n",
              "  margin-bottom: 0.5em;\n",
              "  /* unfitted */\n",
              "  background-color: var(--sklearn-color-unfitted-level-0);\n",
              "}\n",
              "\n",
              "#sk-container-id-2 div.sk-estimator.fitted {\n",
              "  /* fitted */\n",
              "  background-color: var(--sklearn-color-fitted-level-0);\n",
              "}\n",
              "\n",
              "/* on hover */\n",
              "#sk-container-id-2 div.sk-estimator:hover {\n",
              "  /* unfitted */\n",
              "  background-color: var(--sklearn-color-unfitted-level-2);\n",
              "}\n",
              "\n",
              "#sk-container-id-2 div.sk-estimator.fitted:hover {\n",
              "  /* fitted */\n",
              "  background-color: var(--sklearn-color-fitted-level-2);\n",
              "}\n",
              "\n",
              "/* Specification for estimator info (e.g. \"i\" and \"?\") */\n",
              "\n",
              "/* Common style for \"i\" and \"?\" */\n",
              "\n",
              ".sk-estimator-doc-link,\n",
              "a:link.sk-estimator-doc-link,\n",
              "a:visited.sk-estimator-doc-link {\n",
              "  float: right;\n",
              "  font-size: smaller;\n",
              "  line-height: 1em;\n",
              "  font-family: monospace;\n",
              "  background-color: var(--sklearn-color-background);\n",
              "  border-radius: 1em;\n",
              "  height: 1em;\n",
              "  width: 1em;\n",
              "  text-decoration: none !important;\n",
              "  margin-left: 1ex;\n",
              "  /* unfitted */\n",
              "  border: var(--sklearn-color-unfitted-level-1) 1pt solid;\n",
              "  color: var(--sklearn-color-unfitted-level-1);\n",
              "}\n",
              "\n",
              ".sk-estimator-doc-link.fitted,\n",
              "a:link.sk-estimator-doc-link.fitted,\n",
              "a:visited.sk-estimator-doc-link.fitted {\n",
              "  /* fitted */\n",
              "  border: var(--sklearn-color-fitted-level-1) 1pt solid;\n",
              "  color: var(--sklearn-color-fitted-level-1);\n",
              "}\n",
              "\n",
              "/* On hover */\n",
              "div.sk-estimator:hover .sk-estimator-doc-link:hover,\n",
              ".sk-estimator-doc-link:hover,\n",
              "div.sk-label-container:hover .sk-estimator-doc-link:hover,\n",
              ".sk-estimator-doc-link:hover {\n",
              "  /* unfitted */\n",
              "  background-color: var(--sklearn-color-unfitted-level-3);\n",
              "  color: var(--sklearn-color-background);\n",
              "  text-decoration: none;\n",
              "}\n",
              "\n",
              "div.sk-estimator.fitted:hover .sk-estimator-doc-link.fitted:hover,\n",
              ".sk-estimator-doc-link.fitted:hover,\n",
              "div.sk-label-container:hover .sk-estimator-doc-link.fitted:hover,\n",
              ".sk-estimator-doc-link.fitted:hover {\n",
              "  /* fitted */\n",
              "  background-color: var(--sklearn-color-fitted-level-3);\n",
              "  color: var(--sklearn-color-background);\n",
              "  text-decoration: none;\n",
              "}\n",
              "\n",
              "/* Span, style for the box shown on hovering the info icon */\n",
              ".sk-estimator-doc-link span {\n",
              "  display: none;\n",
              "  z-index: 9999;\n",
              "  position: relative;\n",
              "  font-weight: normal;\n",
              "  right: .2ex;\n",
              "  padding: .5ex;\n",
              "  margin: .5ex;\n",
              "  width: min-content;\n",
              "  min-width: 20ex;\n",
              "  max-width: 50ex;\n",
              "  color: var(--sklearn-color-text);\n",
              "  box-shadow: 2pt 2pt 4pt #999;\n",
              "  /* unfitted */\n",
              "  background: var(--sklearn-color-unfitted-level-0);\n",
              "  border: .5pt solid var(--sklearn-color-unfitted-level-3);\n",
              "}\n",
              "\n",
              ".sk-estimator-doc-link.fitted span {\n",
              "  /* fitted */\n",
              "  background: var(--sklearn-color-fitted-level-0);\n",
              "  border: var(--sklearn-color-fitted-level-3);\n",
              "}\n",
              "\n",
              ".sk-estimator-doc-link:hover span {\n",
              "  display: block;\n",
              "}\n",
              "\n",
              "/* \"?\"-specific style due to the `<a>` HTML tag */\n",
              "\n",
              "#sk-container-id-2 a.estimator_doc_link {\n",
              "  float: right;\n",
              "  font-size: 1rem;\n",
              "  line-height: 1em;\n",
              "  font-family: monospace;\n",
              "  background-color: var(--sklearn-color-background);\n",
              "  border-radius: 1rem;\n",
              "  height: 1rem;\n",
              "  width: 1rem;\n",
              "  text-decoration: none;\n",
              "  /* unfitted */\n",
              "  color: var(--sklearn-color-unfitted-level-1);\n",
              "  border: var(--sklearn-color-unfitted-level-1) 1pt solid;\n",
              "}\n",
              "\n",
              "#sk-container-id-2 a.estimator_doc_link.fitted {\n",
              "  /* fitted */\n",
              "  border: var(--sklearn-color-fitted-level-1) 1pt solid;\n",
              "  color: var(--sklearn-color-fitted-level-1);\n",
              "}\n",
              "\n",
              "/* On hover */\n",
              "#sk-container-id-2 a.estimator_doc_link:hover {\n",
              "  /* unfitted */\n",
              "  background-color: var(--sklearn-color-unfitted-level-3);\n",
              "  color: var(--sklearn-color-background);\n",
              "  text-decoration: none;\n",
              "}\n",
              "\n",
              "#sk-container-id-2 a.estimator_doc_link.fitted:hover {\n",
              "  /* fitted */\n",
              "  background-color: var(--sklearn-color-fitted-level-3);\n",
              "}\n",
              "</style><div id=\"sk-container-id-2\" class=\"sk-top-container\"><div class=\"sk-text-repr-fallback\"><pre>MultinomialNB()</pre><b>In a Jupyter environment, please rerun this cell to show the HTML representation or trust the notebook. <br />On GitHub, the HTML representation is unable to render, please try loading this page with nbviewer.org.</b></div><div class=\"sk-container\" hidden><div class=\"sk-item\"><div class=\"sk-estimator fitted sk-toggleable\"><input class=\"sk-toggleable__control sk-hidden--visually\" id=\"sk-estimator-id-2\" type=\"checkbox\" checked><label for=\"sk-estimator-id-2\" class=\"sk-toggleable__label fitted sk-toggleable__label-arrow fitted\">&nbsp;&nbsp;MultinomialNB<a class=\"sk-estimator-doc-link fitted\" rel=\"noreferrer\" target=\"_blank\" href=\"https://scikit-learn.org/1.5/modules/generated/sklearn.naive_bayes.MultinomialNB.html\">?<span>Documentation for MultinomialNB</span></a><span class=\"sk-estimator-doc-link fitted\">i<span>Fitted</span></span></label><div class=\"sk-toggleable__content fitted\"><pre>MultinomialNB()</pre></div> </div></div></div></div>"
            ]
          },
          "metadata": {},
          "execution_count": 174
        }
      ]
    },
    {
      "cell_type": "code",
      "source": [
        "NB_model.score(X_train_vectorized, y_train)"
      ],
      "metadata": {
        "colab": {
          "base_uri": "https://localhost:8080/"
        },
        "id": "rW94dXg6vD1v",
        "outputId": "5ecfe067-b10c-4be7-c0df-c69e44f69155"
      },
      "id": "rW94dXg6vD1v",
      "execution_count": 175,
      "outputs": [
        {
          "output_type": "execute_result",
          "data": {
            "text/plain": [
              "0.9286250939143501"
            ]
          },
          "metadata": {},
          "execution_count": 175
        }
      ]
    },
    {
      "cell_type": "code",
      "source": [
        "NB_model.score(X_test_vectorized, y_test)"
      ],
      "metadata": {
        "id": "F6ykRB9_PNa_",
        "colab": {
          "base_uri": "https://localhost:8080/"
        },
        "outputId": "62da82be-09a2-43fe-dfb4-99fa6e20c32d"
      },
      "id": "F6ykRB9_PNa_",
      "execution_count": 176,
      "outputs": [
        {
          "output_type": "execute_result",
          "data": {
            "text/plain": [
              "0.8337506259389084"
            ]
          },
          "metadata": {},
          "execution_count": 176
        }
      ]
    },
    {
      "cell_type": "markdown",
      "source": [
        "The following function returns the sentiment prediction (along with its probabilities) of a given review"
      ],
      "metadata": {
        "id": "4iIIuNP1vV5j"
      },
      "id": "4iIIuNP1vV5j"
    },
    {
      "cell_type": "code",
      "source": [
        "def NB_prediction(sentence):\n",
        "  \"\"\"\n",
        "  Returns the sentiment prediction (along with its probabilities) of a given review\n",
        "  \"\"\"\n",
        "  sentence_vectorized = vec.transform([data_cleaner(sentence)])\n",
        "  print('Probability negative: ', np.round(NB_model.predict_proba(sentence_vectorized)[0][0],2))\n",
        "  print('Probability positive: ', np.round(NB_model.predict_proba(sentence_vectorized)[0][1],2))\n",
        "  if NB_model.predict(sentence_vectorized)[0] == 0:\n",
        "    print('Predicted negative')\n",
        "  else:\n",
        "    print('Predicted positive')\n",
        "  return"
      ],
      "metadata": {
        "id": "Ie9EQ8EOad4m"
      },
      "id": "Ie9EQ8EOad4m",
      "execution_count": 178,
      "outputs": []
    },
    {
      "cell_type": "markdown",
      "source": [
        "Some examples:"
      ],
      "metadata": {
        "id": "tzdJdJBnv53n"
      },
      "id": "tzdJdJBnv53n"
    },
    {
      "cell_type": "code",
      "source": [
        "NB_prediction('Awesome movie, I loved it')"
      ],
      "metadata": {
        "id": "jU2BzdkNZlwJ",
        "colab": {
          "base_uri": "https://localhost:8080/"
        },
        "outputId": "c0609b6c-698b-4718-ef76-b3b86ab14d66"
      },
      "id": "jU2BzdkNZlwJ",
      "execution_count": 180,
      "outputs": [
        {
          "output_type": "stream",
          "name": "stdout",
          "text": [
            "Probability negative:  0.2\n",
            "Probability positive:  0.8\n",
            "Predicted positive\n"
          ]
        }
      ]
    },
    {
      "cell_type": "code",
      "source": [
        "NB_prediction('Awesome music but awful photography')"
      ],
      "metadata": {
        "colab": {
          "base_uri": "https://localhost:8080/"
        },
        "id": "FvGA76oxcUkt",
        "outputId": "2fe97fee-fd02-4518-9fad-53b6d0120b1b"
      },
      "id": "FvGA76oxcUkt",
      "execution_count": 181,
      "outputs": [
        {
          "output_type": "stream",
          "name": "stdout",
          "text": [
            "Probability negative:  0.65\n",
            "Probability positive:  0.35\n",
            "Predicted negative\n"
          ]
        }
      ]
    },
    {
      "cell_type": "code",
      "source": [
        "NB_prediction('It is a terrible movie')"
      ],
      "metadata": {
        "id": "FtS44CyMPNdo",
        "colab": {
          "base_uri": "https://localhost:8080/"
        },
        "outputId": "6d2f3f3e-6773-4d5e-c24c-d9169b64bb84"
      },
      "id": "FtS44CyMPNdo",
      "execution_count": 182,
      "outputs": [
        {
          "output_type": "stream",
          "name": "stdout",
          "text": [
            "Probability negative:  0.9\n",
            "Probability positive:  0.1\n",
            "Predicted negative\n"
          ]
        }
      ]
    },
    {
      "cell_type": "markdown",
      "source": [
        "##Spacy pre-trained model"
      ],
      "metadata": {
        "id": "M4eP2VEPa9Zf"
      },
      "id": "M4eP2VEPa9Zf"
    },
    {
      "cell_type": "code",
      "source": [
        "#!pip install spacytextblob"
      ],
      "metadata": {
        "collapsed": true,
        "id": "7hvJjVDGdlAi"
      },
      "id": "7hvJjVDGdlAi",
      "execution_count": 183,
      "outputs": []
    },
    {
      "cell_type": "markdown",
      "source": [
        "**Spacytextblob** is a pipeline component that enables sentiment analysis using the TextBlob library, which is imported and added to the Spacy model downloaded previously."
      ],
      "metadata": {
        "id": "gY9EwjmiwGnb"
      },
      "id": "gY9EwjmiwGnb"
    },
    {
      "cell_type": "code",
      "execution_count": 184,
      "id": "cc7b4b0f",
      "metadata": {
        "id": "cc7b4b0f",
        "colab": {
          "base_uri": "https://localhost:8080/"
        },
        "outputId": "1635eeeb-efa8-4d6c-9997-4e229dffb358"
      },
      "outputs": [
        {
          "output_type": "execute_result",
          "data": {
            "text/plain": [
              "<spacytextblob.spacytextblob.SpacyTextBlob at 0x79e17e960490>"
            ]
          },
          "metadata": {},
          "execution_count": 184
        }
      ],
      "source": [
        "from spacytextblob.spacytextblob import SpacyTextBlob\n",
        "nlp.add_pipe('spacytextblob')"
      ]
    },
    {
      "cell_type": "markdown",
      "source": [
        "Spacytextblob estimates sentiment with its *polarity* indicator.\n",
        "\n",
        "For example:"
      ],
      "metadata": {
        "id": "ydRVXVq7xYZt"
      },
      "id": "ydRVXVq7xYZt"
    },
    {
      "cell_type": "code",
      "execution_count": 185,
      "id": "4385dc51",
      "metadata": {
        "id": "4385dc51"
      },
      "outputs": [],
      "source": [
        "text = 'I had a really horrible day. It was the worst day ever! But every now and then I have a really good day that makes me happy.'\n",
        "doc = nlp(text)"
      ]
    },
    {
      "cell_type": "code",
      "execution_count": 186,
      "id": "20b43819",
      "metadata": {
        "id": "20b43819",
        "outputId": "368d1f95-e58c-4a33-de5e-629473e2e50a",
        "colab": {
          "base_uri": "https://localhost:8080/"
        }
      },
      "outputs": [
        {
          "output_type": "execute_result",
          "data": {
            "text/plain": [
              "-0.125"
            ]
          },
          "metadata": {},
          "execution_count": 186
        }
      ],
      "source": [
        "doc._.blob.polarity"
      ]
    },
    {
      "cell_type": "markdown",
      "source": [
        "The following function returns 1 or 0 whether the Spacy polarity agrees with the real sentiment label."
      ],
      "metadata": {
        "id": "i7WaJPasx40E"
      },
      "id": "i7WaJPasx40E"
    },
    {
      "cell_type": "code",
      "execution_count": 189,
      "id": "04804597",
      "metadata": {
        "id": "04804597"
      },
      "outputs": [],
      "source": [
        "def sentiment_checker(polarity, text, label, to_print=False):\n",
        "  \"\"\"\n",
        "  Returns 1 or 0 whether the Spacy polarity agrees with the real sentiment label.\n",
        "  If wanted, review, predicted label and real label are printed\n",
        "  \"\"\"\n",
        "  if to_print:\n",
        "    print(text)\n",
        "    print('Real label: ', label)\n",
        "    print('Spacy polarity: ', str(polarity))\n",
        "    print('Naive Bayes model prediction: ', NB_model.predict(vec.transform([text]))[0])\n",
        "    print('------------------------------------------------------------------')\n",
        "\n",
        "  if (polarity > 0 and label == 1) or (polarity < 0 and label == 0):\n",
        "    return 1\n",
        "  else:\n",
        "    return 0"
      ]
    },
    {
      "cell_type": "markdown",
      "source": [
        "The Spacy model predicts every review in the test set and the prediction is checked with the *sentiment_checker* function.\n",
        "\n",
        "If prediction and label match, the variable *score_count* increases by 1.\n",
        "\n",
        "*score_counts* lets us calculate the accuracy of the prediction, which is 70%."
      ],
      "metadata": {
        "id": "g7o90n13zMPj"
      },
      "id": "g7o90n13zMPj"
    },
    {
      "cell_type": "code",
      "source": [
        "score_count = 0\n",
        "for r,s in zip(X_test,y_test):\n",
        "    doc = nlp(r)\n",
        "    score_count += sentiment_checker(doc._.blob.polarity,r,s)"
      ],
      "metadata": {
        "id": "S0F3r0JZp1ev"
      },
      "id": "S0F3r0JZp1ev",
      "execution_count": 190,
      "outputs": []
    },
    {
      "cell_type": "code",
      "execution_count": 191,
      "id": "0f83de5c",
      "metadata": {
        "id": "0f83de5c",
        "outputId": "1f300920-3cc8-41b9-fed4-c0102445f094",
        "colab": {
          "base_uri": "https://localhost:8080/"
        }
      },
      "outputs": [
        {
          "output_type": "execute_result",
          "data": {
            "text/plain": [
              "0.7035553329994992"
            ]
          },
          "metadata": {},
          "execution_count": 191
        }
      ],
      "source": [
        "score_count/len(y_test)"
      ]
    }
  ],
  "metadata": {
    "kernelspec": {
      "display_name": "Python 3",
      "name": "python3"
    },
    "language_info": {
      "codemirror_mode": {
        "name": "ipython",
        "version": 3
      },
      "file_extension": ".py",
      "mimetype": "text/x-python",
      "name": "python",
      "nbconvert_exporter": "python",
      "pygments_lexer": "ipython3",
      "version": "3.8.12"
    },
    "colab": {
      "provenance": [],
      "gpuType": "L4",
      "machine_shape": "hm",
      "include_colab_link": true
    },
    "accelerator": "GPU"
  },
  "nbformat": 4,
  "nbformat_minor": 5
}