{
  "cells": [
    {
      "cell_type": "markdown",
      "metadata": {
        "id": "view-in-github",
        "colab_type": "text"
      },
      "source": [
        "<a href=\"https://colab.research.google.com/github/cusiandrea/datascienceportfolio/blob/main/Spam_Detection.ipynb\" target=\"_parent\"><img src=\"https://colab.research.google.com/assets/colab-badge.svg\" alt=\"Open In Colab\"/></a>"
      ]
    },
    {
      "cell_type": "markdown",
      "id": "9a33e3bc",
      "metadata": {
        "id": "9a33e3bc"
      },
      "source": [
        "## SPAM DETECTION"
      ]
    },
    {
      "cell_type": "markdown",
      "id": "ecee1657",
      "metadata": {
        "id": "ecee1657"
      },
      "source": [
        "## PROGETTO SPAM DETECTION\n",
        "### L'azienda ProfessionAI vuole realizzare una libreria capace di fare analisi delle email ricevute.\n",
        "### Nello specifico, il CEO ha richiesto di identificare le email di tipo SPAM sulle quali fare analisi contenutistiche.\n",
        "### Il CTO nello specifico ti fornisce un dataset e ti chiede di:\n",
        "### - Addestrare un classificatore per identificare SPAM\n",
        "### - Individuare i Topic principali tra le email SPAM presenti nel dataset\n",
        "### - Calcolare la distanza semantica tra i topics ottenuti, per dedurne l'eterogeneità.\n",
        "### - Estrarre dalle mail NON SPAM le Organizzazioni presenti."
      ]
    },
    {
      "cell_type": "code",
      "source": [
        "from google.colab import drive\n",
        "drive.mount('/content/drive')"
      ],
      "metadata": {
        "colab": {
          "base_uri": "https://localhost:8080/"
        },
        "id": "2s3rkKLvQ3jF",
        "outputId": "d242e6a9-4576-4a2b-f38f-6083efa2b9cc"
      },
      "id": "2s3rkKLvQ3jF",
      "execution_count": null,
      "outputs": [
        {
          "output_type": "stream",
          "name": "stdout",
          "text": [
            "Mounted at /content/drive\n"
          ]
        }
      ]
    },
    {
      "cell_type": "code",
      "execution_count": null,
      "id": "bfa987af",
      "metadata": {
        "id": "bfa987af"
      },
      "outputs": [],
      "source": [
        "import pandas as pd"
      ]
    },
    {
      "cell_type": "code",
      "execution_count": null,
      "id": "34fcb190",
      "metadata": {
        "id": "34fcb190"
      },
      "outputs": [],
      "source": [
        "dataset = pd.read_csv('/content/drive/MyDrive/Colab Notebooks/08 - Natural Language Processing/datasets/Verifica Finale - Spam Detection/spam_dataset.csv')"
      ]
    },
    {
      "cell_type": "code",
      "execution_count": null,
      "id": "5f0ee9a2",
      "metadata": {
        "colab": {
          "base_uri": "https://localhost:8080/",
          "height": 424
        },
        "id": "5f0ee9a2",
        "outputId": "6d9d7aa7-6904-4cdd-f970-1d083b95812c"
      },
      "outputs": [
        {
          "output_type": "execute_result",
          "data": {
            "text/plain": [
              "      Unnamed: 0 label                                               text  \\\n",
              "0            605   ham  Subject: enron methanol ; meter # : 988291\\nth...   \n",
              "1           2349   ham  Subject: hpl nom for january 9 , 2001\\n( see a...   \n",
              "2           3624   ham  Subject: neon retreat\\nho ho ho , we ' re arou...   \n",
              "3           4685  spam  Subject: photoshop , windows , office . cheap ...   \n",
              "4           2030   ham  Subject: re : indian springs\\nthis deal is to ...   \n",
              "...          ...   ...                                                ...   \n",
              "5166        1518   ham  Subject: put the 10 on the ft\\nthe transport v...   \n",
              "5167         404   ham  Subject: 3 / 4 / 2000 and following noms\\nhpl ...   \n",
              "5168        2933   ham  Subject: calpine daily gas nomination\\n>\\n>\\nj...   \n",
              "5169        1409   ham  Subject: industrial worksheets for august 2000...   \n",
              "5170        4807  spam  Subject: important online banking alert\\ndear ...   \n",
              "\n",
              "      label_num  \n",
              "0             0  \n",
              "1             0  \n",
              "2             0  \n",
              "3             1  \n",
              "4             0  \n",
              "...         ...  \n",
              "5166          0  \n",
              "5167          0  \n",
              "5168          0  \n",
              "5169          0  \n",
              "5170          1  \n",
              "\n",
              "[5171 rows x 4 columns]"
            ],
            "text/html": [
              "\n",
              "  <div id=\"df-09fb3f20-054f-4eb7-8c76-ec4fe371f279\" class=\"colab-df-container\">\n",
              "    <div>\n",
              "<style scoped>\n",
              "    .dataframe tbody tr th:only-of-type {\n",
              "        vertical-align: middle;\n",
              "    }\n",
              "\n",
              "    .dataframe tbody tr th {\n",
              "        vertical-align: top;\n",
              "    }\n",
              "\n",
              "    .dataframe thead th {\n",
              "        text-align: right;\n",
              "    }\n",
              "</style>\n",
              "<table border=\"1\" class=\"dataframe\">\n",
              "  <thead>\n",
              "    <tr style=\"text-align: right;\">\n",
              "      <th></th>\n",
              "      <th>Unnamed: 0</th>\n",
              "      <th>label</th>\n",
              "      <th>text</th>\n",
              "      <th>label_num</th>\n",
              "    </tr>\n",
              "  </thead>\n",
              "  <tbody>\n",
              "    <tr>\n",
              "      <th>0</th>\n",
              "      <td>605</td>\n",
              "      <td>ham</td>\n",
              "      <td>Subject: enron methanol ; meter # : 988291\\nth...</td>\n",
              "      <td>0</td>\n",
              "    </tr>\n",
              "    <tr>\n",
              "      <th>1</th>\n",
              "      <td>2349</td>\n",
              "      <td>ham</td>\n",
              "      <td>Subject: hpl nom for january 9 , 2001\\n( see a...</td>\n",
              "      <td>0</td>\n",
              "    </tr>\n",
              "    <tr>\n",
              "      <th>2</th>\n",
              "      <td>3624</td>\n",
              "      <td>ham</td>\n",
              "      <td>Subject: neon retreat\\nho ho ho , we ' re arou...</td>\n",
              "      <td>0</td>\n",
              "    </tr>\n",
              "    <tr>\n",
              "      <th>3</th>\n",
              "      <td>4685</td>\n",
              "      <td>spam</td>\n",
              "      <td>Subject: photoshop , windows , office . cheap ...</td>\n",
              "      <td>1</td>\n",
              "    </tr>\n",
              "    <tr>\n",
              "      <th>4</th>\n",
              "      <td>2030</td>\n",
              "      <td>ham</td>\n",
              "      <td>Subject: re : indian springs\\nthis deal is to ...</td>\n",
              "      <td>0</td>\n",
              "    </tr>\n",
              "    <tr>\n",
              "      <th>...</th>\n",
              "      <td>...</td>\n",
              "      <td>...</td>\n",
              "      <td>...</td>\n",
              "      <td>...</td>\n",
              "    </tr>\n",
              "    <tr>\n",
              "      <th>5166</th>\n",
              "      <td>1518</td>\n",
              "      <td>ham</td>\n",
              "      <td>Subject: put the 10 on the ft\\nthe transport v...</td>\n",
              "      <td>0</td>\n",
              "    </tr>\n",
              "    <tr>\n",
              "      <th>5167</th>\n",
              "      <td>404</td>\n",
              "      <td>ham</td>\n",
              "      <td>Subject: 3 / 4 / 2000 and following noms\\nhpl ...</td>\n",
              "      <td>0</td>\n",
              "    </tr>\n",
              "    <tr>\n",
              "      <th>5168</th>\n",
              "      <td>2933</td>\n",
              "      <td>ham</td>\n",
              "      <td>Subject: calpine daily gas nomination\\n&gt;\\n&gt;\\nj...</td>\n",
              "      <td>0</td>\n",
              "    </tr>\n",
              "    <tr>\n",
              "      <th>5169</th>\n",
              "      <td>1409</td>\n",
              "      <td>ham</td>\n",
              "      <td>Subject: industrial worksheets for august 2000...</td>\n",
              "      <td>0</td>\n",
              "    </tr>\n",
              "    <tr>\n",
              "      <th>5170</th>\n",
              "      <td>4807</td>\n",
              "      <td>spam</td>\n",
              "      <td>Subject: important online banking alert\\ndear ...</td>\n",
              "      <td>1</td>\n",
              "    </tr>\n",
              "  </tbody>\n",
              "</table>\n",
              "<p>5171 rows × 4 columns</p>\n",
              "</div>\n",
              "    <div class=\"colab-df-buttons\">\n",
              "\n",
              "  <div class=\"colab-df-container\">\n",
              "    <button class=\"colab-df-convert\" onclick=\"convertToInteractive('df-09fb3f20-054f-4eb7-8c76-ec4fe371f279')\"\n",
              "            title=\"Convert this dataframe to an interactive table.\"\n",
              "            style=\"display:none;\">\n",
              "\n",
              "  <svg xmlns=\"http://www.w3.org/2000/svg\" height=\"24px\" viewBox=\"0 -960 960 960\">\n",
              "    <path d=\"M120-120v-720h720v720H120Zm60-500h600v-160H180v160Zm220 220h160v-160H400v160Zm0 220h160v-160H400v160ZM180-400h160v-160H180v160Zm440 0h160v-160H620v160ZM180-180h160v-160H180v160Zm440 0h160v-160H620v160Z\"/>\n",
              "  </svg>\n",
              "    </button>\n",
              "\n",
              "  <style>\n",
              "    .colab-df-container {\n",
              "      display:flex;\n",
              "      gap: 12px;\n",
              "    }\n",
              "\n",
              "    .colab-df-convert {\n",
              "      background-color: #E8F0FE;\n",
              "      border: none;\n",
              "      border-radius: 50%;\n",
              "      cursor: pointer;\n",
              "      display: none;\n",
              "      fill: #1967D2;\n",
              "      height: 32px;\n",
              "      padding: 0 0 0 0;\n",
              "      width: 32px;\n",
              "    }\n",
              "\n",
              "    .colab-df-convert:hover {\n",
              "      background-color: #E2EBFA;\n",
              "      box-shadow: 0px 1px 2px rgba(60, 64, 67, 0.3), 0px 1px 3px 1px rgba(60, 64, 67, 0.15);\n",
              "      fill: #174EA6;\n",
              "    }\n",
              "\n",
              "    .colab-df-buttons div {\n",
              "      margin-bottom: 4px;\n",
              "    }\n",
              "\n",
              "    [theme=dark] .colab-df-convert {\n",
              "      background-color: #3B4455;\n",
              "      fill: #D2E3FC;\n",
              "    }\n",
              "\n",
              "    [theme=dark] .colab-df-convert:hover {\n",
              "      background-color: #434B5C;\n",
              "      box-shadow: 0px 1px 3px 1px rgba(0, 0, 0, 0.15);\n",
              "      filter: drop-shadow(0px 1px 2px rgba(0, 0, 0, 0.3));\n",
              "      fill: #FFFFFF;\n",
              "    }\n",
              "  </style>\n",
              "\n",
              "    <script>\n",
              "      const buttonEl =\n",
              "        document.querySelector('#df-09fb3f20-054f-4eb7-8c76-ec4fe371f279 button.colab-df-convert');\n",
              "      buttonEl.style.display =\n",
              "        google.colab.kernel.accessAllowed ? 'block' : 'none';\n",
              "\n",
              "      async function convertToInteractive(key) {\n",
              "        const element = document.querySelector('#df-09fb3f20-054f-4eb7-8c76-ec4fe371f279');\n",
              "        const dataTable =\n",
              "          await google.colab.kernel.invokeFunction('convertToInteractive',\n",
              "                                                    [key], {});\n",
              "        if (!dataTable) return;\n",
              "\n",
              "        const docLinkHtml = 'Like what you see? Visit the ' +\n",
              "          '<a target=\"_blank\" href=https://colab.research.google.com/notebooks/data_table.ipynb>data table notebook</a>'\n",
              "          + ' to learn more about interactive tables.';\n",
              "        element.innerHTML = '';\n",
              "        dataTable['output_type'] = 'display_data';\n",
              "        await google.colab.output.renderOutput(dataTable, element);\n",
              "        const docLink = document.createElement('div');\n",
              "        docLink.innerHTML = docLinkHtml;\n",
              "        element.appendChild(docLink);\n",
              "      }\n",
              "    </script>\n",
              "  </div>\n",
              "\n",
              "\n",
              "<div id=\"df-28a113f0-8958-418d-9e8c-aa19dc78e1eb\">\n",
              "  <button class=\"colab-df-quickchart\" onclick=\"quickchart('df-28a113f0-8958-418d-9e8c-aa19dc78e1eb')\"\n",
              "            title=\"Suggest charts\"\n",
              "            style=\"display:none;\">\n",
              "\n",
              "<svg xmlns=\"http://www.w3.org/2000/svg\" height=\"24px\"viewBox=\"0 0 24 24\"\n",
              "     width=\"24px\">\n",
              "    <g>\n",
              "        <path d=\"M19 3H5c-1.1 0-2 .9-2 2v14c0 1.1.9 2 2 2h14c1.1 0 2-.9 2-2V5c0-1.1-.9-2-2-2zM9 17H7v-7h2v7zm4 0h-2V7h2v10zm4 0h-2v-4h2v4z\"/>\n",
              "    </g>\n",
              "</svg>\n",
              "  </button>\n",
              "\n",
              "<style>\n",
              "  .colab-df-quickchart {\n",
              "      --bg-color: #E8F0FE;\n",
              "      --fill-color: #1967D2;\n",
              "      --hover-bg-color: #E2EBFA;\n",
              "      --hover-fill-color: #174EA6;\n",
              "      --disabled-fill-color: #AAA;\n",
              "      --disabled-bg-color: #DDD;\n",
              "  }\n",
              "\n",
              "  [theme=dark] .colab-df-quickchart {\n",
              "      --bg-color: #3B4455;\n",
              "      --fill-color: #D2E3FC;\n",
              "      --hover-bg-color: #434B5C;\n",
              "      --hover-fill-color: #FFFFFF;\n",
              "      --disabled-bg-color: #3B4455;\n",
              "      --disabled-fill-color: #666;\n",
              "  }\n",
              "\n",
              "  .colab-df-quickchart {\n",
              "    background-color: var(--bg-color);\n",
              "    border: none;\n",
              "    border-radius: 50%;\n",
              "    cursor: pointer;\n",
              "    display: none;\n",
              "    fill: var(--fill-color);\n",
              "    height: 32px;\n",
              "    padding: 0;\n",
              "    width: 32px;\n",
              "  }\n",
              "\n",
              "  .colab-df-quickchart:hover {\n",
              "    background-color: var(--hover-bg-color);\n",
              "    box-shadow: 0 1px 2px rgba(60, 64, 67, 0.3), 0 1px 3px 1px rgba(60, 64, 67, 0.15);\n",
              "    fill: var(--button-hover-fill-color);\n",
              "  }\n",
              "\n",
              "  .colab-df-quickchart-complete:disabled,\n",
              "  .colab-df-quickchart-complete:disabled:hover {\n",
              "    background-color: var(--disabled-bg-color);\n",
              "    fill: var(--disabled-fill-color);\n",
              "    box-shadow: none;\n",
              "  }\n",
              "\n",
              "  .colab-df-spinner {\n",
              "    border: 2px solid var(--fill-color);\n",
              "    border-color: transparent;\n",
              "    border-bottom-color: var(--fill-color);\n",
              "    animation:\n",
              "      spin 1s steps(1) infinite;\n",
              "  }\n",
              "\n",
              "  @keyframes spin {\n",
              "    0% {\n",
              "      border-color: transparent;\n",
              "      border-bottom-color: var(--fill-color);\n",
              "      border-left-color: var(--fill-color);\n",
              "    }\n",
              "    20% {\n",
              "      border-color: transparent;\n",
              "      border-left-color: var(--fill-color);\n",
              "      border-top-color: var(--fill-color);\n",
              "    }\n",
              "    30% {\n",
              "      border-color: transparent;\n",
              "      border-left-color: var(--fill-color);\n",
              "      border-top-color: var(--fill-color);\n",
              "      border-right-color: var(--fill-color);\n",
              "    }\n",
              "    40% {\n",
              "      border-color: transparent;\n",
              "      border-right-color: var(--fill-color);\n",
              "      border-top-color: var(--fill-color);\n",
              "    }\n",
              "    60% {\n",
              "      border-color: transparent;\n",
              "      border-right-color: var(--fill-color);\n",
              "    }\n",
              "    80% {\n",
              "      border-color: transparent;\n",
              "      border-right-color: var(--fill-color);\n",
              "      border-bottom-color: var(--fill-color);\n",
              "    }\n",
              "    90% {\n",
              "      border-color: transparent;\n",
              "      border-bottom-color: var(--fill-color);\n",
              "    }\n",
              "  }\n",
              "</style>\n",
              "\n",
              "  <script>\n",
              "    async function quickchart(key) {\n",
              "      const quickchartButtonEl =\n",
              "        document.querySelector('#' + key + ' button');\n",
              "      quickchartButtonEl.disabled = true;  // To prevent multiple clicks.\n",
              "      quickchartButtonEl.classList.add('colab-df-spinner');\n",
              "      try {\n",
              "        const charts = await google.colab.kernel.invokeFunction(\n",
              "            'suggestCharts', [key], {});\n",
              "      } catch (error) {\n",
              "        console.error('Error during call to suggestCharts:', error);\n",
              "      }\n",
              "      quickchartButtonEl.classList.remove('colab-df-spinner');\n",
              "      quickchartButtonEl.classList.add('colab-df-quickchart-complete');\n",
              "    }\n",
              "    (() => {\n",
              "      let quickchartButtonEl =\n",
              "        document.querySelector('#df-28a113f0-8958-418d-9e8c-aa19dc78e1eb button');\n",
              "      quickchartButtonEl.style.display =\n",
              "        google.colab.kernel.accessAllowed ? 'block' : 'none';\n",
              "    })();\n",
              "  </script>\n",
              "</div>\n",
              "\n",
              "  <div id=\"id_34f83d98-49f3-4c48-9def-37ccd3060aea\">\n",
              "    <style>\n",
              "      .colab-df-generate {\n",
              "        background-color: #E8F0FE;\n",
              "        border: none;\n",
              "        border-radius: 50%;\n",
              "        cursor: pointer;\n",
              "        display: none;\n",
              "        fill: #1967D2;\n",
              "        height: 32px;\n",
              "        padding: 0 0 0 0;\n",
              "        width: 32px;\n",
              "      }\n",
              "\n",
              "      .colab-df-generate:hover {\n",
              "        background-color: #E2EBFA;\n",
              "        box-shadow: 0px 1px 2px rgba(60, 64, 67, 0.3), 0px 1px 3px 1px rgba(60, 64, 67, 0.15);\n",
              "        fill: #174EA6;\n",
              "      }\n",
              "\n",
              "      [theme=dark] .colab-df-generate {\n",
              "        background-color: #3B4455;\n",
              "        fill: #D2E3FC;\n",
              "      }\n",
              "\n",
              "      [theme=dark] .colab-df-generate:hover {\n",
              "        background-color: #434B5C;\n",
              "        box-shadow: 0px 1px 3px 1px rgba(0, 0, 0, 0.15);\n",
              "        filter: drop-shadow(0px 1px 2px rgba(0, 0, 0, 0.3));\n",
              "        fill: #FFFFFF;\n",
              "      }\n",
              "    </style>\n",
              "    <button class=\"colab-df-generate\" onclick=\"generateWithVariable('dataset')\"\n",
              "            title=\"Generate code using this dataframe.\"\n",
              "            style=\"display:none;\">\n",
              "\n",
              "  <svg xmlns=\"http://www.w3.org/2000/svg\" height=\"24px\"viewBox=\"0 0 24 24\"\n",
              "       width=\"24px\">\n",
              "    <path d=\"M7,19H8.4L18.45,9,17,7.55,7,17.6ZM5,21V16.75L18.45,3.32a2,2,0,0,1,2.83,0l1.4,1.43a1.91,1.91,0,0,1,.58,1.4,1.91,1.91,0,0,1-.58,1.4L9.25,21ZM18.45,9,17,7.55Zm-12,3A5.31,5.31,0,0,0,4.9,8.1,5.31,5.31,0,0,0,1,6.5,5.31,5.31,0,0,0,4.9,4.9,5.31,5.31,0,0,0,6.5,1,5.31,5.31,0,0,0,8.1,4.9,5.31,5.31,0,0,0,12,6.5,5.46,5.46,0,0,0,6.5,12Z\"/>\n",
              "  </svg>\n",
              "    </button>\n",
              "    <script>\n",
              "      (() => {\n",
              "      const buttonEl =\n",
              "        document.querySelector('#id_34f83d98-49f3-4c48-9def-37ccd3060aea button.colab-df-generate');\n",
              "      buttonEl.style.display =\n",
              "        google.colab.kernel.accessAllowed ? 'block' : 'none';\n",
              "\n",
              "      buttonEl.onclick = () => {\n",
              "        google.colab.notebook.generateWithVariable('dataset');\n",
              "      }\n",
              "      })();\n",
              "    </script>\n",
              "  </div>\n",
              "\n",
              "    </div>\n",
              "  </div>\n"
            ],
            "application/vnd.google.colaboratory.intrinsic+json": {
              "type": "dataframe",
              "variable_name": "dataset",
              "summary": "{\n  \"name\": \"dataset\",\n  \"rows\": 5171,\n  \"fields\": [\n    {\n      \"column\": \"Unnamed: 0\",\n      \"properties\": {\n        \"dtype\": \"number\",\n        \"std\": 1492,\n        \"min\": 0,\n        \"max\": 5170,\n        \"num_unique_values\": 5171,\n        \"samples\": [\n          2924,\n          3839,\n          3078\n        ],\n        \"semantic_type\": \"\",\n        \"description\": \"\"\n      }\n    },\n    {\n      \"column\": \"label\",\n      \"properties\": {\n        \"dtype\": \"category\",\n        \"num_unique_values\": 2,\n        \"samples\": [\n          \"spam\",\n          \"ham\"\n        ],\n        \"semantic_type\": \"\",\n        \"description\": \"\"\n      }\n    },\n    {\n      \"column\": \"text\",\n      \"properties\": {\n        \"dtype\": \"string\",\n        \"num_unique_values\": 4993,\n        \"samples\": [\n          \"Subject: hpl / conoco - teco waha 03 / 23 / 01 purchase\\ndaren , conoco invoiced hpl at $ 5 . 87 for 03 / 23 at pgev / waha and deal ticket 685350 shows $ 4 . 87 . can you confirm the price ? thanks .\",\n          \"Subject: holiday on - call data\\npipeline contact phone fax pager\\nblack marlin blair lichentwalter 713 853 - 7367 713 646 - 3201 ( h )\\n281 370 - 1866\\ndebbie thompson 713 853 - 3144 713 646 - 3201\\n( noms due today for 23 rd through 27 th )\\nchannel jim tobacco 713 420 - 2159\\ngas control 1 505 599 - 2333\\n( open thursday . noms will be due through monday )\\ncentana william spekels 713 627 - 6290 713 762 - 3450\\ndonna spencer 713 627 - 6255\\ngas control 1 888 204 - 1718\\n( noms due today for 23 rd through 27 th )\\nduke energy annette anderson 713 260 - 8603 713 949 - 3026\\n( on call ) bob moseman 713 - 260 - 8698 ( thursday )\\nopen tomorrow - noms will be due thru the 27 th )\\nlonestar gary gafford 214 670 - 2674 214 875 - 3810\\ngas control 214 875 - 2455 or 2456\\n( noms due today , 23 rd thru 27 th )\\nnorthern natural ben markey 853 - 7581 cell 713 446 - 9404 800 931 - 0398\\n( on call ) charlie mosey 853 - 1520\\ngas control 853 -\\n( open thursday - noms due thru 27 th . )\\neast trans - east texas\\ntejas gas control 713 767 - 5366\\npaula svehla 713 230 - 3569\\nmickey chapman 713 230 - 3546\\n( open thursday - noms due thru 27 th )\\nmidcon ( y 2 k ) ken nachlinger 713 369 - 9284 713 369 - 9375 888 733 - 5954\\n( on call ) steven 888 790 - 0255\\n( y 2 k ) don 888 733 - 4602\\ngas control 713 369 - 9200\\n( noms due today , 23 rd thru 27 th )\\nmoss bluff no current business\"\n        ],\n        \"semantic_type\": \"\",\n        \"description\": \"\"\n      }\n    },\n    {\n      \"column\": \"label_num\",\n      \"properties\": {\n        \"dtype\": \"number\",\n        \"std\": 0,\n        \"min\": 0,\n        \"max\": 1,\n        \"num_unique_values\": 2,\n        \"samples\": [\n          1,\n          0\n        ],\n        \"semantic_type\": \"\",\n        \"description\": \"\"\n      }\n    }\n  ]\n}"
            }
          },
          "metadata": {},
          "execution_count": 5
        }
      ],
      "source": [
        "dataset"
      ]
    },
    {
      "cell_type": "markdown",
      "source": [
        "## **Exploring and preprocessing**"
      ],
      "metadata": {
        "id": "-Bqdk99vAtZk"
      },
      "id": "-Bqdk99vAtZk"
    },
    {
      "cell_type": "markdown",
      "source": [
        "I take a look at some *ham* and *spam* email samples:"
      ],
      "metadata": {
        "id": "GNiB2YtZA-IU"
      },
      "id": "GNiB2YtZA-IU"
    },
    {
      "cell_type": "code",
      "source": [
        "dataset[dataset['label_num']==0]['text'].iloc[0]"
      ],
      "metadata": {
        "colab": {
          "base_uri": "https://localhost:8080/",
          "height": 53
        },
        "id": "HtO9yxMYbMf0",
        "outputId": "41cd9f38-f50b-4119-dab8-53e62b4b665f"
      },
      "id": "HtO9yxMYbMf0",
      "execution_count": null,
      "outputs": [
        {
          "output_type": "execute_result",
          "data": {
            "text/plain": [
              "\"Subject: enron methanol ; meter # : 988291\\nthis is a follow up to the note i gave you on monday , 4 / 3 / 00 { preliminary\\nflow data provided by daren } .\\nplease override pop ' s daily volume { presently zero } to reflect daily\\nactivity you can obtain from gas control .\\nthis change is needed asap for economics purposes .\""
            ],
            "application/vnd.google.colaboratory.intrinsic+json": {
              "type": "string"
            }
          },
          "metadata": {},
          "execution_count": 9
        }
      ]
    },
    {
      "cell_type": "code",
      "source": [
        "dataset[dataset['label_num']==1]['text'].iloc[0]"
      ],
      "metadata": {
        "colab": {
          "base_uri": "https://localhost:8080/",
          "height": 53
        },
        "id": "9CkWPNU0CUML",
        "outputId": "9cb84c46-0145-4621-c39f-071ca60d74b1"
      },
      "id": "9CkWPNU0CUML",
      "execution_count": null,
      "outputs": [
        {
          "output_type": "execute_result",
          "data": {
            "text/plain": [
              "'Subject: photoshop , windows , office . cheap . main trending\\nabasements darer prudently fortuitous undergone\\nlighthearted charm orinoco taster\\nrailroad affluent pornographic cuvier\\nirvin parkhouse blameworthy chlorophyll\\nrobed diagrammatic fogarty clears bayda\\ninconveniencing managing represented smartness hashish\\nacademies shareholders unload badness\\ndanielson pure caffein\\nspaniard chargeable levin\\n'"
            ],
            "application/vnd.google.colaboratory.intrinsic+json": {
              "type": "string"
            }
          },
          "metadata": {},
          "execution_count": 10
        }
      ]
    },
    {
      "cell_type": "markdown",
      "source": [
        "Then I check for missing values or duplicates, finding none of them."
      ],
      "metadata": {
        "id": "80UitAlFChdh"
      },
      "id": "80UitAlFChdh"
    },
    {
      "cell_type": "code",
      "source": [
        "dataset.isna().sum()"
      ],
      "metadata": {
        "id": "Pmr8m2qQRrPt",
        "colab": {
          "base_uri": "https://localhost:8080/",
          "height": 210
        },
        "outputId": "43050f20-4ace-41aa-f8a7-dd3c70e45585"
      },
      "id": "Pmr8m2qQRrPt",
      "execution_count": null,
      "outputs": [
        {
          "output_type": "execute_result",
          "data": {
            "text/plain": [
              "Unnamed: 0    0\n",
              "label         0\n",
              "text          0\n",
              "label_num     0\n",
              "dtype: int64"
            ],
            "text/html": [
              "<div>\n",
              "<style scoped>\n",
              "    .dataframe tbody tr th:only-of-type {\n",
              "        vertical-align: middle;\n",
              "    }\n",
              "\n",
              "    .dataframe tbody tr th {\n",
              "        vertical-align: top;\n",
              "    }\n",
              "\n",
              "    .dataframe thead th {\n",
              "        text-align: right;\n",
              "    }\n",
              "</style>\n",
              "<table border=\"1\" class=\"dataframe\">\n",
              "  <thead>\n",
              "    <tr style=\"text-align: right;\">\n",
              "      <th></th>\n",
              "      <th>0</th>\n",
              "    </tr>\n",
              "  </thead>\n",
              "  <tbody>\n",
              "    <tr>\n",
              "      <th>Unnamed: 0</th>\n",
              "      <td>0</td>\n",
              "    </tr>\n",
              "    <tr>\n",
              "      <th>label</th>\n",
              "      <td>0</td>\n",
              "    </tr>\n",
              "    <tr>\n",
              "      <th>text</th>\n",
              "      <td>0</td>\n",
              "    </tr>\n",
              "    <tr>\n",
              "      <th>label_num</th>\n",
              "      <td>0</td>\n",
              "    </tr>\n",
              "  </tbody>\n",
              "</table>\n",
              "</div><br><label><b>dtype:</b> int64</label>"
            ]
          },
          "metadata": {},
          "execution_count": 6
        }
      ]
    },
    {
      "cell_type": "code",
      "source": [
        "dataset.duplicated().sum()"
      ],
      "metadata": {
        "colab": {
          "base_uri": "https://localhost:8080/"
        },
        "id": "CfU1YcQMbFVL",
        "outputId": "013c0aa6-5635-439d-f40b-413d5bcda813"
      },
      "id": "CfU1YcQMbFVL",
      "execution_count": null,
      "outputs": [
        {
          "output_type": "execute_result",
          "data": {
            "text/plain": [
              "0"
            ]
          },
          "metadata": {},
          "execution_count": 7
        }
      ]
    },
    {
      "cell_type": "markdown",
      "source": [
        "After counting samples by labels, I can see that the dataset is imbalanced, as *spam* emails represent ca. 30% of the total samples."
      ],
      "metadata": {
        "id": "6miycAPECwLO"
      },
      "id": "6miycAPECwLO"
    },
    {
      "cell_type": "code",
      "execution_count": null,
      "id": "3864817f",
      "metadata": {
        "colab": {
          "base_uri": "https://localhost:8080/",
          "height": 178
        },
        "id": "3864817f",
        "outputId": "d2ca1676-b7dd-4505-9f7b-26502bbf0bd4"
      },
      "outputs": [
        {
          "output_type": "execute_result",
          "data": {
            "text/plain": [
              "label\n",
              "ham     3672\n",
              "spam    1499\n",
              "Name: count, dtype: int64"
            ],
            "text/html": [
              "<div>\n",
              "<style scoped>\n",
              "    .dataframe tbody tr th:only-of-type {\n",
              "        vertical-align: middle;\n",
              "    }\n",
              "\n",
              "    .dataframe tbody tr th {\n",
              "        vertical-align: top;\n",
              "    }\n",
              "\n",
              "    .dataframe thead th {\n",
              "        text-align: right;\n",
              "    }\n",
              "</style>\n",
              "<table border=\"1\" class=\"dataframe\">\n",
              "  <thead>\n",
              "    <tr style=\"text-align: right;\">\n",
              "      <th></th>\n",
              "      <th>count</th>\n",
              "    </tr>\n",
              "    <tr>\n",
              "      <th>label</th>\n",
              "      <th></th>\n",
              "    </tr>\n",
              "  </thead>\n",
              "  <tbody>\n",
              "    <tr>\n",
              "      <th>ham</th>\n",
              "      <td>3672</td>\n",
              "    </tr>\n",
              "    <tr>\n",
              "      <th>spam</th>\n",
              "      <td>1499</td>\n",
              "    </tr>\n",
              "  </tbody>\n",
              "</table>\n",
              "</div><br><label><b>dtype:</b> int64</label>"
            ]
          },
          "metadata": {},
          "execution_count": 18
        }
      ],
      "source": [
        "dataset['label'].value_counts()"
      ]
    },
    {
      "cell_type": "code",
      "source": [
        "import matplotlib.pyplot as plt\n",
        "colors = ['blue', 'red']\n",
        "plt.bar(dataset['label'].unique(), [dataset['label'].value_counts()[0], dataset['label'].value_counts()[1]], color=colors)\n",
        "plt.xlabel('Labels')\n",
        "plt.ylabel('N samples')\n",
        "plt.show()"
      ],
      "metadata": {
        "colab": {
          "base_uri": "https://localhost:8080/",
          "height": 538
        },
        "id": "w6tuRGtEDaLI",
        "outputId": "374ee96b-fbfb-4113-ac5a-008a6df06a88"
      },
      "id": "w6tuRGtEDaLI",
      "execution_count": null,
      "outputs": [
        {
          "output_type": "stream",
          "name": "stderr",
          "text": [
            "<ipython-input-23-cf5b1b4e14af>:3: FutureWarning: Series.__getitem__ treating keys as positions is deprecated. In a future version, integer keys will always be treated as labels (consistent with DataFrame behavior). To access a value by position, use `ser.iloc[pos]`\n",
            "  plt.bar(dataset['label'].unique(), [dataset['label'].value_counts()[0], dataset['label'].value_counts()[1]], color=colors)\n",
            "<ipython-input-23-cf5b1b4e14af>:3: FutureWarning: Series.__getitem__ treating keys as positions is deprecated. In a future version, integer keys will always be treated as labels (consistent with DataFrame behavior). To access a value by position, use `ser.iloc[pos]`\n",
            "  plt.bar(dataset['label'].unique(), [dataset['label'].value_counts()[0], dataset['label'].value_counts()[1]], color=colors)\n"
          ]
        },
        {
          "output_type": "display_data",
          "data": {
            "text/plain": [
              "<Figure size 640x480 with 1 Axes>"
            ],
            "image/png": "[encoded data removed]"
          },
          "metadata": {}
        }
      ]
    },
    {
      "cell_type": "markdown",
      "source": [
        "With the following libraries, I create the *data_cleaner* function in order to prepare the text for the following steps."
      ],
      "metadata": {
        "id": "O5alD4tcFRYv"
      },
      "id": "O5alD4tcFRYv"
    },
    {
      "cell_type": "code",
      "source": [
        "import nltk\n",
        "nltk.download('stopwords')\n",
        "from nltk.corpus import stopwords\n",
        "import string\n",
        "import spacy\n",
        "import re"
      ],
      "metadata": {
        "colab": {
          "base_uri": "https://localhost:8080/"
        },
        "id": "qD4zvxD1g5K3",
        "outputId": "4935e139-1ecd-4eb6-d489-49e66e3ecb77"
      },
      "id": "qD4zvxD1g5K3",
      "execution_count": null,
      "outputs": [
        {
          "output_type": "stream",
          "name": "stderr",
          "text": [
            "[nltk_data] Downloading package stopwords to /root/nltk_data...\n",
            "[nltk_data]   Unzipping corpora/stopwords.zip.\n"
          ]
        }
      ]
    },
    {
      "cell_type": "markdown",
      "source": [
        "In particular:\n",
        "*   words are put in lowercase\n",
        "*   punctuation is removed\n",
        "*   words are lemmatized\n",
        "*   stopwords are removed (the words 'from', 'subject', 're', commonly found in emails, are added to the stopwords list )\n",
        "*   numbers are removed"
      ],
      "metadata": {
        "id": "KSn-5YOcGf0H"
      },
      "id": "KSn-5YOcGf0H"
    },
    {
      "cell_type": "code",
      "source": [
        "english_stopwords = stopwords.words('english')\n",
        "english_stopwords.extend(['from', 'subject', 're'])\n",
        "nlp = spacy.load('en_core_web_sm')\n",
        "punctuation = set(string.punctuation)\n",
        "\n",
        "def data_cleaner(sentence):\n",
        "    sentence = sentence.lower()\n",
        "    for c in string.punctuation:\n",
        "        sentence = sentence.replace(c, \" \")\n",
        "    document = nlp(sentence)\n",
        "    sentence = ' '.join(token.lemma_ for token in document)\n",
        "    sentence = ' '.join(word for word in sentence.split() if word not in english_stopwords)\n",
        "    sentence = re.sub('\\d', '', sentence)\n",
        "    return sentence"
      ],
      "metadata": {
        "id": "yRWOZRCsg5Np"
      },
      "id": "yRWOZRCsg5Np",
      "execution_count": null,
      "outputs": []
    },
    {
      "cell_type": "markdown",
      "source": [
        "With this function I \"clean\" every email sample of the dataset, which is put in a new dataset *df_cleaned* along with its *label_num*."
      ],
      "metadata": {
        "id": "Fk-kwNXQIBY9"
      },
      "id": "Fk-kwNXQIBY9"
    },
    {
      "cell_type": "code",
      "source": [
        "df_cleaned = pd.DataFrame(columns=['text', 'label'])\n",
        "df_cleaned['text'] = dataset['text'].apply(data_cleaner)\n",
        "df_cleaned['label'] = dataset['label_num']\n",
        "df_cleaned"
      ],
      "metadata": {
        "id": "JSlSD3bzkBMN",
        "colab": {
          "base_uri": "https://localhost:8080/",
          "height": 424
        },
        "outputId": "c66d48a7-1d42-4ef4-ada7-b99a408b19ba"
      },
      "id": "JSlSD3bzkBMN",
      "execution_count": null,
      "outputs": [
        {
          "output_type": "execute_result",
          "data": {
            "text/plain": [
              "                                                   text  label\n",
              "0     enron methanol meter  follow note I give monda...      0\n",
              "1     hpl nom january   see attached file hplnol  xl...      0\n",
              "2     neon retreat ho ho ho around wonderful time ye...      0\n",
              "3     photoshop window office cheap main trending ab...      1\n",
              "4     indian spring deal book teco pvr revenue under...      0\n",
              "...                                                 ...    ...\n",
              "5166  put  ft transport volume decrease    contract ...      0\n",
              "5167     follow nom hpl take extra  mmcf weekend try...      0\n",
              "5168  calpine daily gas nomination julie I mention e...      0\n",
              "5169  industrial worksheet august  activity attach w...      0\n",
              "5170  important online banking alert dear value citi...      1\n",
              "\n",
              "[5171 rows x 2 columns]"
            ],
            "text/html": [
              "\n",
              "  <div id=\"df-15d8edc5-f551-4128-b279-e99cc02bd391\" class=\"colab-df-container\">\n",
              "    <div>\n",
              "<style scoped>\n",
              "    .dataframe tbody tr th:only-of-type {\n",
              "        vertical-align: middle;\n",
              "    }\n",
              "\n",
              "    .dataframe tbody tr th {\n",
              "        vertical-align: top;\n",
              "    }\n",
              "\n",
              "    .dataframe thead th {\n",
              "        text-align: right;\n",
              "    }\n",
              "</style>\n",
              "<table border=\"1\" class=\"dataframe\">\n",
              "  <thead>\n",
              "    <tr style=\"text-align: right;\">\n",
              "      <th></th>\n",
              "      <th>text</th>\n",
              "      <th>label</th>\n",
              "    </tr>\n",
              "  </thead>\n",
              "  <tbody>\n",
              "    <tr>\n",
              "      <th>0</th>\n",
              "      <td>enron methanol meter  follow note I give monda...</td>\n",
              "      <td>0</td>\n",
              "    </tr>\n",
              "    <tr>\n",
              "      <th>1</th>\n",
              "      <td>hpl nom january   see attached file hplnol  xl...</td>\n",
              "      <td>0</td>\n",
              "    </tr>\n",
              "    <tr>\n",
              "      <th>2</th>\n",
              "      <td>neon retreat ho ho ho around wonderful time ye...</td>\n",
              "      <td>0</td>\n",
              "    </tr>\n",
              "    <tr>\n",
              "      <th>3</th>\n",
              "      <td>photoshop window office cheap main trending ab...</td>\n",
              "      <td>1</td>\n",
              "    </tr>\n",
              "    <tr>\n",
              "      <th>4</th>\n",
              "      <td>indian spring deal book teco pvr revenue under...</td>\n",
              "      <td>0</td>\n",
              "    </tr>\n",
              "    <tr>\n",
              "      <th>...</th>\n",
              "      <td>...</td>\n",
              "      <td>...</td>\n",
              "    </tr>\n",
              "    <tr>\n",
              "      <th>5166</th>\n",
              "      <td>put  ft transport volume decrease    contract ...</td>\n",
              "      <td>0</td>\n",
              "    </tr>\n",
              "    <tr>\n",
              "      <th>5167</th>\n",
              "      <td>follow nom hpl take extra  mmcf weekend try...</td>\n",
              "      <td>0</td>\n",
              "    </tr>\n",
              "    <tr>\n",
              "      <th>5168</th>\n",
              "      <td>calpine daily gas nomination julie I mention e...</td>\n",
              "      <td>0</td>\n",
              "    </tr>\n",
              "    <tr>\n",
              "      <th>5169</th>\n",
              "      <td>industrial worksheet august  activity attach w...</td>\n",
              "      <td>0</td>\n",
              "    </tr>\n",
              "    <tr>\n",
              "      <th>5170</th>\n",
              "      <td>important online banking alert dear value citi...</td>\n",
              "      <td>1</td>\n",
              "    </tr>\n",
              "  </tbody>\n",
              "</table>\n",
              "<p>5171 rows × 2 columns</p>\n",
              "</div>\n",
              "    <div class=\"colab-df-buttons\">\n",
              "\n",
              "  <div class=\"colab-df-container\">\n",
              "    <button class=\"colab-df-convert\" onclick=\"convertToInteractive('df-15d8edc5-f551-4128-b279-e99cc02bd391')\"\n",
              "            title=\"Convert this dataframe to an interactive table.\"\n",
              "            style=\"display:none;\">\n",
              "\n",
              "  <svg xmlns=\"http://www.w3.org/2000/svg\" height=\"24px\" viewBox=\"0 -960 960 960\">\n",
              "    <path d=\"M120-120v-720h720v720H120Zm60-500h600v-160H180v160Zm220 220h160v-160H400v160Zm0 220h160v-160H400v160ZM180-400h160v-160H180v160Zm440 0h160v-160H620v160ZM180-180h160v-160H180v160Zm440 0h160v-160H620v160Z\"/>\n",
              "  </svg>\n",
              "    </button>\n",
              "\n",
              "  <style>\n",
              "    .colab-df-container {\n",
              "      display:flex;\n",
              "      gap: 12px;\n",
              "    }\n",
              "\n",
              "    .colab-df-convert {\n",
              "      background-color: #E8F0FE;\n",
              "      border: none;\n",
              "      border-radius: 50%;\n",
              "      cursor: pointer;\n",
              "      display: none;\n",
              "      fill: #1967D2;\n",
              "      height: 32px;\n",
              "      padding: 0 0 0 0;\n",
              "      width: 32px;\n",
              "    }\n",
              "\n",
              "    .colab-df-convert:hover {\n",
              "      background-color: #E2EBFA;\n",
              "      box-shadow: 0px 1px 2px rgba(60, 64, 67, 0.3), 0px 1px 3px 1px rgba(60, 64, 67, 0.15);\n",
              "      fill: #174EA6;\n",
              "    }\n",
              "\n",
              "    .colab-df-buttons div {\n",
              "      margin-bottom: 4px;\n",
              "    }\n",
              "\n",
              "    [theme=dark] .colab-df-convert {\n",
              "      background-color: #3B4455;\n",
              "      fill: #D2E3FC;\n",
              "    }\n",
              "\n",
              "    [theme=dark] .colab-df-convert:hover {\n",
              "      background-color: #434B5C;\n",
              "      box-shadow: 0px 1px 3px 1px rgba(0, 0, 0, 0.15);\n",
              "      filter: drop-shadow(0px 1px 2px rgba(0, 0, 0, 0.3));\n",
              "      fill: #FFFFFF;\n",
              "    }\n",
              "  </style>\n",
              "\n",
              "    <script>\n",
              "      const buttonEl =\n",
              "        document.querySelector('#df-15d8edc5-f551-4128-b279-e99cc02bd391 button.colab-df-convert');\n",
              "      buttonEl.style.display =\n",
              "        google.colab.kernel.accessAllowed ? 'block' : 'none';\n",
              "\n",
              "      async function convertToInteractive(key) {\n",
              "        const element = document.querySelector('#df-15d8edc5-f551-4128-b279-e99cc02bd391');\n",
              "        const dataTable =\n",
              "          await google.colab.kernel.invokeFunction('convertToInteractive',\n",
              "                                                    [key], {});\n",
              "        if (!dataTable) return;\n",
              "\n",
              "        const docLinkHtml = 'Like what you see? Visit the ' +\n",
              "          '<a target=\"_blank\" href=https://colab.research.google.com/notebooks/data_table.ipynb>data table notebook</a>'\n",
              "          + ' to learn more about interactive tables.';\n",
              "        element.innerHTML = '';\n",
              "        dataTable['output_type'] = 'display_data';\n",
              "        await google.colab.output.renderOutput(dataTable, element);\n",
              "        const docLink = document.createElement('div');\n",
              "        docLink.innerHTML = docLinkHtml;\n",
              "        element.appendChild(docLink);\n",
              "      }\n",
              "    </script>\n",
              "  </div>\n",
              "\n",
              "\n",
              "<div id=\"df-c85a7cc1-5f7e-4462-a768-46e5ccc9269e\">\n",
              "  <button class=\"colab-df-quickchart\" onclick=\"quickchart('df-c85a7cc1-5f7e-4462-a768-46e5ccc9269e')\"\n",
              "            title=\"Suggest charts\"\n",
              "            style=\"display:none;\">\n",
              "\n",
              "<svg xmlns=\"http://www.w3.org/2000/svg\" height=\"24px\"viewBox=\"0 0 24 24\"\n",
              "     width=\"24px\">\n",
              "    <g>\n",
              "        <path d=\"M19 3H5c-1.1 0-2 .9-2 2v14c0 1.1.9 2 2 2h14c1.1 0 2-.9 2-2V5c0-1.1-.9-2-2-2zM9 17H7v-7h2v7zm4 0h-2V7h2v10zm4 0h-2v-4h2v4z\"/>\n",
              "    </g>\n",
              "</svg>\n",
              "  </button>\n",
              "\n",
              "<style>\n",
              "  .colab-df-quickchart {\n",
              "      --bg-color: #E8F0FE;\n",
              "      --fill-color: #1967D2;\n",
              "      --hover-bg-color: #E2EBFA;\n",
              "      --hover-fill-color: #174EA6;\n",
              "      --disabled-fill-color: #AAA;\n",
              "      --disabled-bg-color: #DDD;\n",
              "  }\n",
              "\n",
              "  [theme=dark] .colab-df-quickchart {\n",
              "      --bg-color: #3B4455;\n",
              "      --fill-color: #D2E3FC;\n",
              "      --hover-bg-color: #434B5C;\n",
              "      --hover-fill-color: #FFFFFF;\n",
              "      --disabled-bg-color: #3B4455;\n",
              "      --disabled-fill-color: #666;\n",
              "  }\n",
              "\n",
              "  .colab-df-quickchart {\n",
              "    background-color: var(--bg-color);\n",
              "    border: none;\n",
              "    border-radius: 50%;\n",
              "    cursor: pointer;\n",
              "    display: none;\n",
              "    fill: var(--fill-color);\n",
              "    height: 32px;\n",
              "    padding: 0;\n",
              "    width: 32px;\n",
              "  }\n",
              "\n",
              "  .colab-df-quickchart:hover {\n",
              "    background-color: var(--hover-bg-color);\n",
              "    box-shadow: 0 1px 2px rgba(60, 64, 67, 0.3), 0 1px 3px 1px rgba(60, 64, 67, 0.15);\n",
              "    fill: var(--button-hover-fill-color);\n",
              "  }\n",
              "\n",
              "  .colab-df-quickchart-complete:disabled,\n",
              "  .colab-df-quickchart-complete:disabled:hover {\n",
              "    background-color: var(--disabled-bg-color);\n",
              "    fill: var(--disabled-fill-color);\n",
              "    box-shadow: none;\n",
              "  }\n",
              "\n",
              "  .colab-df-spinner {\n",
              "    border: 2px solid var(--fill-color);\n",
              "    border-color: transparent;\n",
              "    border-bottom-color: var(--fill-color);\n",
              "    animation:\n",
              "      spin 1s steps(1) infinite;\n",
              "  }\n",
              "\n",
              "  @keyframes spin {\n",
              "    0% {\n",
              "      border-color: transparent;\n",
              "      border-bottom-color: var(--fill-color);\n",
              "      border-left-color: var(--fill-color);\n",
              "    }\n",
              "    20% {\n",
              "      border-color: transparent;\n",
              "      border-left-color: var(--fill-color);\n",
              "      border-top-color: var(--fill-color);\n",
              "    }\n",
              "    30% {\n",
              "      border-color: transparent;\n",
              "      border-left-color: var(--fill-color);\n",
              "      border-top-color: var(--fill-color);\n",
              "      border-right-color: var(--fill-color);\n",
              "    }\n",
              "    40% {\n",
              "      border-color: transparent;\n",
              "      border-right-color: var(--fill-color);\n",
              "      border-top-color: var(--fill-color);\n",
              "    }\n",
              "    60% {\n",
              "      border-color: transparent;\n",
              "      border-right-color: var(--fill-color);\n",
              "    }\n",
              "    80% {\n",
              "      border-color: transparent;\n",
              "      border-right-color: var(--fill-color);\n",
              "      border-bottom-color: var(--fill-color);\n",
              "    }\n",
              "    90% {\n",
              "      border-color: transparent;\n",
              "      border-bottom-color: var(--fill-color);\n",
              "    }\n",
              "  }\n",
              "</style>\n",
              "\n",
              "  <script>\n",
              "    async function quickchart(key) {\n",
              "      const quickchartButtonEl =\n",
              "        document.querySelector('#' + key + ' button');\n",
              "      quickchartButtonEl.disabled = true;  // To prevent multiple clicks.\n",
              "      quickchartButtonEl.classList.add('colab-df-spinner');\n",
              "      try {\n",
              "        const charts = await google.colab.kernel.invokeFunction(\n",
              "            'suggestCharts', [key], {});\n",
              "      } catch (error) {\n",
              "        console.error('Error during call to suggestCharts:', error);\n",
              "      }\n",
              "      quickchartButtonEl.classList.remove('colab-df-spinner');\n",
              "      quickchartButtonEl.classList.add('colab-df-quickchart-complete');\n",
              "    }\n",
              "    (() => {\n",
              "      let quickchartButtonEl =\n",
              "        document.querySelector('#df-c85a7cc1-5f7e-4462-a768-46e5ccc9269e button');\n",
              "      quickchartButtonEl.style.display =\n",
              "        google.colab.kernel.accessAllowed ? 'block' : 'none';\n",
              "    })();\n",
              "  </script>\n",
              "</div>\n",
              "\n",
              "  <div id=\"id_8eccd93c-bc8a-4f32-8431-6f4a085dd976\">\n",
              "    <style>\n",
              "      .colab-df-generate {\n",
              "        background-color: #E8F0FE;\n",
              "        border: none;\n",
              "        border-radius: 50%;\n",
              "        cursor: pointer;\n",
              "        display: none;\n",
              "        fill: #1967D2;\n",
              "        height: 32px;\n",
              "        padding: 0 0 0 0;\n",
              "        width: 32px;\n",
              "      }\n",
              "\n",
              "      .colab-df-generate:hover {\n",
              "        background-color: #E2EBFA;\n",
              "        box-shadow: 0px 1px 2px rgba(60, 64, 67, 0.3), 0px 1px 3px 1px rgba(60, 64, 67, 0.15);\n",
              "        fill: #174EA6;\n",
              "      }\n",
              "\n",
              "      [theme=dark] .colab-df-generate {\n",
              "        background-color: #3B4455;\n",
              "        fill: #D2E3FC;\n",
              "      }\n",
              "\n",
              "      [theme=dark] .colab-df-generate:hover {\n",
              "        background-color: #434B5C;\n",
              "        box-shadow: 0px 1px 3px 1px rgba(0, 0, 0, 0.15);\n",
              "        filter: drop-shadow(0px 1px 2px rgba(0, 0, 0, 0.3));\n",
              "        fill: #FFFFFF;\n",
              "      }\n",
              "    </style>\n",
              "    <button class=\"colab-df-generate\" onclick=\"generateWithVariable('df_cleaned')\"\n",
              "            title=\"Generate code using this dataframe.\"\n",
              "            style=\"display:none;\">\n",
              "\n",
              "  <svg xmlns=\"http://www.w3.org/2000/svg\" height=\"24px\"viewBox=\"0 0 24 24\"\n",
              "       width=\"24px\">\n",
              "    <path d=\"M7,19H8.4L18.45,9,17,7.55,7,17.6ZM5,21V16.75L18.45,3.32a2,2,0,0,1,2.83,0l1.4,1.43a1.91,1.91,0,0,1,.58,1.4,1.91,1.91,0,0,1-.58,1.4L9.25,21ZM18.45,9,17,7.55Zm-12,3A5.31,5.31,0,0,0,4.9,8.1,5.31,5.31,0,0,0,1,6.5,5.31,5.31,0,0,0,4.9,4.9,5.31,5.31,0,0,0,6.5,1,5.31,5.31,0,0,0,8.1,4.9,5.31,5.31,0,0,0,12,6.5,5.46,5.46,0,0,0,6.5,12Z\"/>\n",
              "  </svg>\n",
              "    </button>\n",
              "    <script>\n",
              "      (() => {\n",
              "      const buttonEl =\n",
              "        document.querySelector('#id_8eccd93c-bc8a-4f32-8431-6f4a085dd976 button.colab-df-generate');\n",
              "      buttonEl.style.display =\n",
              "        google.colab.kernel.accessAllowed ? 'block' : 'none';\n",
              "\n",
              "      buttonEl.onclick = () => {\n",
              "        google.colab.notebook.generateWithVariable('df_cleaned');\n",
              "      }\n",
              "      })();\n",
              "    </script>\n",
              "  </div>\n",
              "\n",
              "    </div>\n",
              "  </div>\n"
            ],
            "application/vnd.google.colaboratory.intrinsic+json": {
              "type": "dataframe",
              "variable_name": "df_cleaned",
              "summary": "{\n  \"name\": \"df_cleaned\",\n  \"rows\": 5171,\n  \"fields\": [\n    {\n      \"column\": \"text\",\n      \"properties\": {\n        \"dtype\": \"string\",\n        \"num_unique_values\": 4638,\n        \"samples\": [\n          \"eastran september first month nomination effective    delivery eastran   mmbtu dy redeliverie  fuel cotton valley  pg e\",\n          \"everyone need gwpfx high quality medd low price v codin   valliuum   vi graa   cai lli   codeinne   xa naax   le vittra   orderr deliver fedex full tracking   satisfactiionnss guaaranteeed rpuxf\",\n          \"producer shut list victoria  line work fyi forward gary hank hou ect      pm enron north america corp melissa grave      pm george weissman hou ect ect cc gary hank hou ect ect mary jo johnson hou ect ect gary bryan hou ect ect jill zivley hou ect ect producer shut list victoria  line work george gary call I shut situation minute ago specifically regard meter  meter tailgate three river therefore hpl field employee able contact producer probably idea gas come go meter gary suggest deal maker contact producer verbally connie sutton follow write notice per discussion since mary jo gary afternoon I forward message concerned contract cody texas lp     samson lone star     let I know information I provide thank melissa forward melissa grave hou ect      pm enron north america corp gary hank      pm connie sutton hou ect ect lauri allen hou ect ect pat clyne corp enron enron melissa grave hou ect ect mary solmonson hou ect ect james mckay hou ect ect cc earl tisdale hou ect ect gary besancon gco enron enron rodney roger gco enron enron shawna flynn hou ect ect producer shut list victoria  line work hpl complete tie replace guadalupe river crossing swinney victoria  follow meter shut approximately   january   bring back line sometime evening january    mark  common point  swickheimer  cologne  battle fld  coletto creek  mokeen  swickheimer  duty   apache  freeman  talber graham  sheridan energy  hughe hughe  pentex  esperanza  new horizon  dynamic  bnp petroleum  hilcorp  spindletop  southern gas  strand energy  edge petroleum  vintage  petro corporation  duke three river gas plant  c e berclair  c lucas  southern resource  mider  delhi sarco question please feel free call I  thank gary\"\n        ],\n        \"semantic_type\": \"\",\n        \"description\": \"\"\n      }\n    },\n    {\n      \"column\": \"label\",\n      \"properties\": {\n        \"dtype\": \"number\",\n        \"std\": 0,\n        \"min\": 0,\n        \"max\": 1,\n        \"num_unique_values\": 2,\n        \"samples\": [\n          1,\n          0\n        ],\n        \"semantic_type\": \"\",\n        \"description\": \"\"\n      }\n    }\n  ]\n}"
            }
          },
          "metadata": {},
          "execution_count": 26
        }
      ]
    },
    {
      "cell_type": "markdown",
      "source": [
        "Let's compare the first sample, before and after the clean function"
      ],
      "metadata": {
        "id": "IHLTuXcMJ2f2"
      },
      "id": "IHLTuXcMJ2f2"
    },
    {
      "cell_type": "code",
      "source": [
        "dataset['text'].iloc[0]"
      ],
      "metadata": {
        "colab": {
          "base_uri": "https://localhost:8080/",
          "height": 53
        },
        "id": "1ZyaXY3iic6D",
        "outputId": "f9b4327d-90c9-493a-e108-a63722375504"
      },
      "id": "1ZyaXY3iic6D",
      "execution_count": null,
      "outputs": [
        {
          "output_type": "execute_result",
          "data": {
            "text/plain": [
              "\"Subject: enron methanol ; meter # : 988291\\nthis is a follow up to the note i gave you on monday , 4 / 3 / 00 { preliminary\\nflow data provided by daren } .\\nplease override pop ' s daily volume { presently zero } to reflect daily\\nactivity you can obtain from gas control .\\nthis change is needed asap for economics purposes .\""
            ],
            "application/vnd.google.colaboratory.intrinsic+json": {
              "type": "string"
            }
          },
          "metadata": {},
          "execution_count": 16
        }
      ]
    },
    {
      "cell_type": "code",
      "source": [
        "df_cleaned['text'].iloc[0]"
      ],
      "metadata": {
        "colab": {
          "base_uri": "https://localhost:8080/",
          "height": 35
        },
        "id": "QmSQWFOSmivO",
        "outputId": "d5af2697-9ce0-4424-fc26-98d8a7d3682c"
      },
      "id": "QmSQWFOSmivO",
      "execution_count": null,
      "outputs": [
        {
          "output_type": "execute_result",
          "data": {
            "text/plain": [
              "' enron methanol meter  follow note I give monday    preliminary flow datum provide daren please override pop daily volume presently zero reflect daily activity obtain gas control change need asap economic purpose'"
            ],
            "application/vnd.google.colaboratory.intrinsic+json": {
              "type": "string"
            }
          },
          "metadata": {},
          "execution_count": 17
        }
      ]
    },
    {
      "cell_type": "markdown",
      "source": [
        "In order to train a classification model, the texts need to be vectorized.\n",
        "To do so I use *CountVectorizer*, that creates a token array for each sample of the dataset."
      ],
      "metadata": {
        "id": "3hk-Uv6wK1Ym"
      },
      "id": "3hk-Uv6wK1Ym"
    },
    {
      "cell_type": "code",
      "source": [
        "import numpy as np\n",
        "from sklearn.feature_extraction.text import CountVectorizer\n",
        "cvec = CountVectorizer()\n",
        "X = cvec.fit_transform(df_cleaned['text']).toarray()\n",
        "y = df_cleaned['label'].values"
      ],
      "metadata": {
        "id": "8R6r-gixunj9"
      },
      "id": "8R6r-gixunj9",
      "execution_count": null,
      "outputs": []
    },
    {
      "cell_type": "code",
      "source": [
        "X.shape"
      ],
      "metadata": {
        "colab": {
          "base_uri": "https://localhost:8080/"
        },
        "id": "ZMHgeraSL7-F",
        "outputId": "aee60e3a-d5fa-4cc0-de1f-18a74c0c5641"
      },
      "id": "ZMHgeraSL7-F",
      "execution_count": null,
      "outputs": [
        {
          "output_type": "execute_result",
          "data": {
            "text/plain": [
              "(5171, 41396)"
            ]
          },
          "metadata": {},
          "execution_count": 30
        }
      ]
    },
    {
      "cell_type": "code",
      "source": [
        "y.shape"
      ],
      "metadata": {
        "colab": {
          "base_uri": "https://localhost:8080/"
        },
        "id": "Q3vHG4JGMDNH",
        "outputId": "c0629c8f-96c2-4e08-acec-13ae6f45ec1e"
      },
      "id": "Q3vHG4JGMDNH",
      "execution_count": null,
      "outputs": [
        {
          "output_type": "execute_result",
          "data": {
            "text/plain": [
              "(5171,)"
            ]
          },
          "metadata": {},
          "execution_count": 32
        }
      ]
    },
    {
      "cell_type": "markdown",
      "source": [
        "As mentioned earlier, the dataset is significantly **imbalanced**. Therefore I use *SMOTE* in order to balance the dataset. *SMOTE* creates new synthetic *spam* samples (the minority category) needed to perfectly balance (50-50) the dataset."
      ],
      "metadata": {
        "id": "4mzn5J_XMG35"
      },
      "id": "4mzn5J_XMG35"
    },
    {
      "cell_type": "code",
      "source": [
        "from imblearn.over_sampling import SMOTE\n",
        "smote = SMOTE(random_state=0)\n",
        "X_resampled, y_resampled = smote.fit_resample(X, y)"
      ],
      "metadata": {
        "id": "L3hWnlHu0YMe"
      },
      "id": "L3hWnlHu0YMe",
      "execution_count": null,
      "outputs": []
    },
    {
      "cell_type": "markdown",
      "source": [
        "The dataset now has 7.344 samples, perfectly balanced between *ham* and *spam*, both with 3.672 samples."
      ],
      "metadata": {
        "id": "RktP5Ym1OFwX"
      },
      "id": "RktP5Ym1OFwX"
    },
    {
      "cell_type": "code",
      "source": [
        "X_resampled.shape"
      ],
      "metadata": {
        "colab": {
          "base_uri": "https://localhost:8080/"
        },
        "id": "aVtbekYU0YPQ",
        "outputId": "b1e2b20b-ce0b-4471-c340-4ea4ee33ece6"
      },
      "id": "aVtbekYU0YPQ",
      "execution_count": null,
      "outputs": [
        {
          "output_type": "execute_result",
          "data": {
            "text/plain": [
              "(7344, 41396)"
            ]
          },
          "metadata": {},
          "execution_count": 35
        }
      ]
    },
    {
      "cell_type": "code",
      "source": [
        "y_resampled.shape"
      ],
      "metadata": {
        "colab": {
          "base_uri": "https://localhost:8080/"
        },
        "id": "oDhYoZWp0YR_",
        "outputId": "684537da-cd5e-46b1-d5af-e361b2212933"
      },
      "id": "oDhYoZWp0YR_",
      "execution_count": null,
      "outputs": [
        {
          "output_type": "execute_result",
          "data": {
            "text/plain": [
              "(7344,)"
            ]
          },
          "metadata": {},
          "execution_count": 36
        }
      ]
    },
    {
      "cell_type": "code",
      "source": [
        "spam_samples = np.sum(y_resampled)\n",
        "ham_samples = y_resampled.shape[0]-np.sum(y_resampled)\n",
        "print('Number of ham samples: ',ham_samples)\n",
        "print('Number of spam samples: ',spam_samples)"
      ],
      "metadata": {
        "colab": {
          "base_uri": "https://localhost:8080/"
        },
        "id": "DSJrkycm0YVP",
        "outputId": "f0e894ec-246f-4fb2-dfbd-0aa40d47d27f"
      },
      "id": "DSJrkycm0YVP",
      "execution_count": null,
      "outputs": [
        {
          "output_type": "stream",
          "name": "stdout",
          "text": [
            "Number of ham samples:  3672\n",
            "Number of spam samples:  3672\n"
          ]
        }
      ]
    },
    {
      "cell_type": "code",
      "source": [
        "plt.bar(dataset['label'].unique(), [ham_samples, spam_samples], color=colors)\n",
        "plt.xlabel('Labels')\n",
        "plt.ylabel('N samples')\n",
        "plt.show()"
      ],
      "metadata": {
        "colab": {
          "base_uri": "https://localhost:8080/",
          "height": 449
        },
        "id": "Ta1z0NT1Nb_y",
        "outputId": "3f5562a3-58c0-4b0b-fe31-281a0987d2c9"
      },
      "id": "Ta1z0NT1Nb_y",
      "execution_count": null,
      "outputs": [
        {
          "output_type": "display_data",
          "data": {
            "text/plain": [
              "<Figure size 640x480 with 1 Axes>"
            ],
            "image/png": "[encoded data removed]"
          },
          "metadata": {}
        }
      ]
    },
    {
      "cell_type": "markdown",
      "source": [
        "I split the balanced dataset in train and test sets."
      ],
      "metadata": {
        "id": "-vfau9wG-3jO"
      },
      "id": "-vfau9wG-3jO"
    },
    {
      "cell_type": "code",
      "source": [
        "from sklearn.model_selection import train_test_split\n",
        "\n",
        "X_train, X_test, y_train, y_test = train_test_split(X_resampled, y_resampled, test_size=0.2, random_state=0)"
      ],
      "metadata": {
        "id": "cmx5-eQyvBYz"
      },
      "id": "cmx5-eQyvBYz",
      "execution_count": null,
      "outputs": []
    },
    {
      "cell_type": "markdown",
      "source": [
        "## **Classification model**"
      ],
      "metadata": {
        "id": "KvcGrAraPWMa"
      },
      "id": "KvcGrAraPWMa"
    },
    {
      "cell_type": "markdown",
      "source": [
        "In order to classify emails I define the following neural netwotk model with Tensorflow.\n"
      ],
      "metadata": {
        "id": "frHodqE-PhSd"
      },
      "id": "frHodqE-PhSd"
    },
    {
      "cell_type": "code",
      "source": [
        "import tensorflow as tf\n",
        "from tensorflow.keras.models import Sequential, load_model\n",
        "from tensorflow.keras.layers import Dense, Dropout\n",
        "from tensorflow.keras.callbacks import EarlyStopping"
      ],
      "metadata": {
        "id": "sZ1z-UethWMc"
      },
      "id": "sZ1z-UethWMc",
      "execution_count": null,
      "outputs": []
    },
    {
      "cell_type": "code",
      "source": [
        "model_nn = Sequential()\n",
        "model_nn.add(Dense(128, activation='relu', input_dim=X_train.shape[1]))\n",
        "model_nn.add(Dropout(0.5))\n",
        "model_nn.add(Dense(64, activation='relu'))\n",
        "model_nn.add(Dense(1, activation='sigmoid'))\n",
        "model_nn.summary()"
      ],
      "metadata": {
        "colab": {
          "base_uri": "https://localhost:8080/",
          "height": 327
        },
        "id": "lrf4OHTmfzBV",
        "outputId": "5b71a5b9-fbce-42ed-ab36-b2b355cd00c5"
      },
      "id": "lrf4OHTmfzBV",
      "execution_count": null,
      "outputs": [
        {
          "output_type": "stream",
          "name": "stderr",
          "text": [
            "/usr/local/lib/python3.10/dist-packages/keras/src/layers/core/dense.py:87: UserWarning: Do not pass an `input_shape`/`input_dim` argument to a layer. When using Sequential models, prefer using an `Input(shape)` object as the first layer in the model instead.\n",
            "  super().__init__(activity_regularizer=activity_regularizer, **kwargs)\n"
          ]
        },
        {
          "output_type": "display_data",
          "data": {
            "text/plain": [
              "\u001b[1mModel: \"sequential_1\"\u001b[0m\n"
            ],
            "text/html": [
              "<pre style=\"white-space:pre;overflow-x:auto;line-height:normal;font-family:Menlo,'DejaVu Sans Mono',consolas,'Courier New',monospace\"><span style=\"font-weight: bold\">Model: \"sequential_1\"</span>\n",
              "</pre>\n"
            ]
          },
          "metadata": {}
        },
        {
          "output_type": "display_data",
          "data": {
            "text/plain": [
              "┏━━━━━━━━━━━━━━━━━━━━━━━━━━━━━━━━━━━━━━┳━━━━━━━━━━━━━━━━━━━━━━━━━━━━━┳━━━━━━━━━━━━━━━━━┓\n",
              "┃\u001b[1m \u001b[0m\u001b[1mLayer (type)                        \u001b[0m\u001b[1m \u001b[0m┃\u001b[1m \u001b[0m\u001b[1mOutput Shape               \u001b[0m\u001b[1m \u001b[0m┃\u001b[1m \u001b[0m\u001b[1m        Param #\u001b[0m\u001b[1m \u001b[0m┃\n",
              "┡━━━━━━━━━━━━━━━━━━━━━━━━━━━━━━━━━━━━━━╇━━━━━━━━━━━━━━━━━━━━━━━━━━━━━╇━━━━━━━━━━━━━━━━━┩\n",
              "│ dense_3 (\u001b[38;5;33mDense\u001b[0m)                      │ (\u001b[38;5;45mNone\u001b[0m, \u001b[38;5;34m128\u001b[0m)                 │       \u001b[38;5;34m5,298,816\u001b[0m │\n",
              "├──────────────────────────────────────┼─────────────────────────────┼─────────────────┤\n",
              "│ dropout_1 (\u001b[38;5;33mDropout\u001b[0m)                  │ (\u001b[38;5;45mNone\u001b[0m, \u001b[38;5;34m128\u001b[0m)                 │               \u001b[38;5;34m0\u001b[0m │\n",
              "├──────────────────────────────────────┼─────────────────────────────┼─────────────────┤\n",
              "│ dense_4 (\u001b[38;5;33mDense\u001b[0m)                      │ (\u001b[38;5;45mNone\u001b[0m, \u001b[38;5;34m64\u001b[0m)                  │           \u001b[38;5;34m8,256\u001b[0m │\n",
              "├──────────────────────────────────────┼─────────────────────────────┼─────────────────┤\n",
              "│ dense_5 (\u001b[38;5;33mDense\u001b[0m)                      │ (\u001b[38;5;45mNone\u001b[0m, \u001b[38;5;34m1\u001b[0m)                   │              \u001b[38;5;34m65\u001b[0m │\n",
              "└──────────────────────────────────────┴─────────────────────────────┴─────────────────┘\n"
            ],
            "text/html": [
              "<pre style=\"white-space:pre;overflow-x:auto;line-height:normal;font-family:Menlo,'DejaVu Sans Mono',consolas,'Courier New',monospace\">┏━━━━━━━━━━━━━━━━━━━━━━━━━━━━━━━━━━━━━━┳━━━━━━━━━━━━━━━━━━━━━━━━━━━━━┳━━━━━━━━━━━━━━━━━┓\n",
              "┃<span style=\"font-weight: bold\"> Layer (type)                         </span>┃<span style=\"font-weight: bold\"> Output Shape                </span>┃<span style=\"font-weight: bold\">         Param # </span>┃\n",
              "┡━━━━━━━━━━━━━━━━━━━━━━━━━━━━━━━━━━━━━━╇━━━━━━━━━━━━━━━━━━━━━━━━━━━━━╇━━━━━━━━━━━━━━━━━┩\n",
              "│ dense_3 (<span style=\"color: #0087ff; text-decoration-color: #0087ff\">Dense</span>)                      │ (<span style=\"color: #00d7ff; text-decoration-color: #00d7ff\">None</span>, <span style=\"color: #00af00; text-decoration-color: #00af00\">128</span>)                 │       <span style=\"color: #00af00; text-decoration-color: #00af00\">5,298,816</span> │\n",
              "├──────────────────────────────────────┼─────────────────────────────┼─────────────────┤\n",
              "│ dropout_1 (<span style=\"color: #0087ff; text-decoration-color: #0087ff\">Dropout</span>)                  │ (<span style=\"color: #00d7ff; text-decoration-color: #00d7ff\">None</span>, <span style=\"color: #00af00; text-decoration-color: #00af00\">128</span>)                 │               <span style=\"color: #00af00; text-decoration-color: #00af00\">0</span> │\n",
              "├──────────────────────────────────────┼─────────────────────────────┼─────────────────┤\n",
              "│ dense_4 (<span style=\"color: #0087ff; text-decoration-color: #0087ff\">Dense</span>)                      │ (<span style=\"color: #00d7ff; text-decoration-color: #00d7ff\">None</span>, <span style=\"color: #00af00; text-decoration-color: #00af00\">64</span>)                  │           <span style=\"color: #00af00; text-decoration-color: #00af00\">8,256</span> │\n",
              "├──────────────────────────────────────┼─────────────────────────────┼─────────────────┤\n",
              "│ dense_5 (<span style=\"color: #0087ff; text-decoration-color: #0087ff\">Dense</span>)                      │ (<span style=\"color: #00d7ff; text-decoration-color: #00d7ff\">None</span>, <span style=\"color: #00af00; text-decoration-color: #00af00\">1</span>)                   │              <span style=\"color: #00af00; text-decoration-color: #00af00\">65</span> │\n",
              "└──────────────────────────────────────┴─────────────────────────────┴─────────────────┘\n",
              "</pre>\n"
            ]
          },
          "metadata": {}
        },
        {
          "output_type": "display_data",
          "data": {
            "text/plain": [
              "\u001b[1m Total params: \u001b[0m\u001b[38;5;34m5,307,137\u001b[0m (20.25 MB)\n"
            ],
            "text/html": [
              "<pre style=\"white-space:pre;overflow-x:auto;line-height:normal;font-family:Menlo,'DejaVu Sans Mono',consolas,'Courier New',monospace\"><span style=\"font-weight: bold\"> Total params: </span><span style=\"color: #00af00; text-decoration-color: #00af00\">5,307,137</span> (20.25 MB)\n",
              "</pre>\n"
            ]
          },
          "metadata": {}
        },
        {
          "output_type": "display_data",
          "data": {
            "text/plain": [
              "\u001b[1m Trainable params: \u001b[0m\u001b[38;5;34m5,307,137\u001b[0m (20.25 MB)\n"
            ],
            "text/html": [
              "<pre style=\"white-space:pre;overflow-x:auto;line-height:normal;font-family:Menlo,'DejaVu Sans Mono',consolas,'Courier New',monospace\"><span style=\"font-weight: bold\"> Trainable params: </span><span style=\"color: #00af00; text-decoration-color: #00af00\">5,307,137</span> (20.25 MB)\n",
              "</pre>\n"
            ]
          },
          "metadata": {}
        },
        {
          "output_type": "display_data",
          "data": {
            "text/plain": [
              "\u001b[1m Non-trainable params: \u001b[0m\u001b[38;5;34m0\u001b[0m (0.00 B)\n"
            ],
            "text/html": [
              "<pre style=\"white-space:pre;overflow-x:auto;line-height:normal;font-family:Menlo,'DejaVu Sans Mono',consolas,'Courier New',monospace\"><span style=\"font-weight: bold\"> Non-trainable params: </span><span style=\"color: #00af00; text-decoration-color: #00af00\">0</span> (0.00 B)\n",
              "</pre>\n"
            ]
          },
          "metadata": {}
        }
      ]
    },
    {
      "cell_type": "code",
      "source": [
        "model_nn.compile(optimizer='adam', loss='binary_crossentropy', metrics=['accuracy'])"
      ],
      "metadata": {
        "id": "9oClgcamhwDG"
      },
      "id": "9oClgcamhwDG",
      "execution_count": null,
      "outputs": []
    },
    {
      "cell_type": "code",
      "source": [
        "callback_es = EarlyStopping(monitor='val_accuracy', min_delta=0.001, patience=2, verbose=1, restore_best_weights=True)"
      ],
      "metadata": {
        "id": "POvkHpn9RPQ5"
      },
      "id": "POvkHpn9RPQ5",
      "execution_count": null,
      "outputs": []
    },
    {
      "cell_type": "code",
      "source": [
        "model_nn.fit(X_train, y_train, epochs=20, validation_split=0.1, shuffle=True, callbacks=[callback_es])"
      ],
      "metadata": {
        "colab": {
          "base_uri": "https://localhost:8080/"
        },
        "collapsed": true,
        "id": "rdV_dP4AiFTz",
        "outputId": "a35a01e3-961c-4885-cc2e-923fa59aa04f"
      },
      "id": "rdV_dP4AiFTz",
      "execution_count": null,
      "outputs": [
        {
          "output_type": "stream",
          "name": "stdout",
          "text": [
            "Epoch 1/20\n",
            "\u001b[1m166/166\u001b[0m \u001b[32m━━━━━━━━━━━━━━━━━━━━\u001b[0m\u001b[37m\u001b[0m \u001b[1m8s\u001b[0m 22ms/step - accuracy: 0.9257 - loss: 0.3229 - val_accuracy: 0.9881 - val_loss: 0.0666\n",
            "Epoch 2/20\n",
            "\u001b[1m166/166\u001b[0m \u001b[32m━━━━━━━━━━━━━━━━━━━━\u001b[0m\u001b[37m\u001b[0m \u001b[1m5s\u001b[0m 9ms/step - accuracy: 0.9941 - loss: 0.0233 - val_accuracy: 0.9898 - val_loss: 0.0381\n",
            "Epoch 3/20\n",
            "\u001b[1m166/166\u001b[0m \u001b[32m━━━━━━━━━━━━━━━━━━━━\u001b[0m\u001b[37m\u001b[0m \u001b[1m3s\u001b[0m 12ms/step - accuracy: 0.9978 - loss: 0.0103 - val_accuracy: 0.9898 - val_loss: 0.0357\n",
            "Epoch 4/20\n",
            "\u001b[1m166/166\u001b[0m \u001b[32m━━━━━━━━━━━━━━━━━━━━\u001b[0m\u001b[37m\u001b[0m \u001b[1m2s\u001b[0m 9ms/step - accuracy: 0.9991 - loss: 0.0038 - val_accuracy: 0.9915 - val_loss: 0.0430\n",
            "Epoch 5/20\n",
            "\u001b[1m166/166\u001b[0m \u001b[32m━━━━━━━━━━━━━━━━━━━━\u001b[0m\u001b[37m\u001b[0m \u001b[1m1s\u001b[0m 8ms/step - accuracy: 0.9998 - loss: 0.0018 - val_accuracy: 0.9915 - val_loss: 0.0429\n",
            "Epoch 6/20\n",
            "\u001b[1m166/166\u001b[0m \u001b[32m━━━━━━━━━━━━━━━━━━━━\u001b[0m\u001b[37m\u001b[0m \u001b[1m3s\u001b[0m 9ms/step - accuracy: 0.9999 - loss: 0.0014 - val_accuracy: 0.9915 - val_loss: 0.0523\n",
            "Epoch 6: early stopping\n",
            "Restoring model weights from the end of the best epoch: 4.\n"
          ]
        },
        {
          "output_type": "execute_result",
          "data": {
            "text/plain": [
              "<keras.src.callbacks.history.History at 0x7e7fab456a40>"
            ]
          },
          "metadata": {},
          "execution_count": 48
        }
      ]
    },
    {
      "cell_type": "code",
      "source": [
        "model_nn.evaluate(X_test, y_test)"
      ],
      "metadata": {
        "colab": {
          "base_uri": "https://localhost:8080/"
        },
        "id": "lknE3P2WiUg3",
        "outputId": "52573fe2-3158-440f-c760-e34c7e57cdab"
      },
      "id": "lknE3P2WiUg3",
      "execution_count": null,
      "outputs": [
        {
          "output_type": "stream",
          "name": "stdout",
          "text": [
            "\u001b[1m46/46\u001b[0m \u001b[32m━━━━━━━━━━━━━━━━━━━━\u001b[0m\u001b[37m\u001b[0m \u001b[1m1s\u001b[0m 20ms/step - accuracy: 0.9858 - loss: 0.1247\n"
          ]
        },
        {
          "output_type": "execute_result",
          "data": {
            "text/plain": [
              "[0.10401508957147598, 0.9870660305023193]"
            ]
          },
          "metadata": {},
          "execution_count": 49
        }
      ]
    },
    {
      "cell_type": "markdown",
      "source": [
        "The fitted model performs really well in classifying spam, in both train and validation sets, with a 99% accuracy.\n",
        "The accuracy is basically the same on the test set."
      ],
      "metadata": {
        "id": "HxFTefH-SYYt"
      },
      "id": "HxFTefH-SYYt"
    },
    {
      "cell_type": "markdown",
      "source": [
        "In order to furtherly test the model, I took 1 *ham* and 1 *spam* examples from another dataset (https://www.kaggle.com/datasets/jackksoncsie/spam-email-dataset) and use the model to predict wether it is *ham* or *spam*.\n",
        "The model classifies correctly these samples."
      ],
      "metadata": {
        "id": "51diSZ29S82u"
      },
      "id": "51diSZ29S82u"
    },
    {
      "cell_type": "code",
      "source": [
        "spam_sentence_test = 'Subject: naturally irresistible your corporate identity  lt is really hard to recollect a company : the  market is full of suqgestions and the information isoverwhelminq ; but a good  catchy logo , stylish statlonery and outstanding website  will make the task much easier .  we do not promise that havinq ordered a iogo your  company will automaticaily become a world ieader : it isguite ciear that  without good products , effective business organization and practicable aim it  will be hotat nowadays market ; but we do promise that your marketing efforts  will become much more effective . here is the list of clear  benefits : creativeness : hand - made , original logos , specially done  to reflect your distinctive company image . convenience : logo and stationery  are provided in all formats ; easy - to - use content management system letsyou  change your website content and even its structure . promptness : you  will see logo drafts within three business days . affordability : your  marketing break - through shouldnt make gaps in your budget . 100 % satisfaction  guaranteed : we provide unlimited amount of changes with no extra fees for you to  be surethat you will love the result of this collaboration . have a look at our  portfolio'"
      ],
      "metadata": {
        "id": "szt8zLSL5FPM"
      },
      "id": "szt8zLSL5FPM",
      "execution_count": null,
      "outputs": []
    },
    {
      "cell_type": "code",
      "source": [
        "ham_sentence_test = 'Subject: re : london contact number  hi anita ,  how are you ? i arrived yesterday late morning from the london gatwick airport . due to rush hour traffic , etc . it took a while to get into the city to the hotel .  also , due to may day ( may lst ) protests / riots , etc . , the hotel management strongly recommended that we remain in the hotel .  however , i am in the office today . i can be reached via email or via telephone at 44 ( 0 ) 207 783 5647 .  take care ,  iris  - - - - - original message - - - - -  from : dupont , anita  sent : tuesday , may 01 , 2001 5 : 23 pm  to : mmumford @ enron . com  cc : mack , iris ; crenshaw , shirley  subject : i . m . mack 30 apr - 15 may * * plse review for accuracy * * agent ce / ce booking ref x 7 w 882 mack / iris eb 1972 enron corp  importance : high  see iris itinerary below . i thought her initial plan was to land this morning and come in to enron house in early afternoon . see itinerary for phone number of hotel . let me know if i can help in any  other way . thanks . anita  service date from to depart arrive  continental airlines 30 apr houston tx london gatwick 350 p 655 a  co 34 j mon g . bush iah gatwick 01 may  terminal dom terminal s  dinner / snack non stop  reservation confirmed 9 : 05 duration  vegetarian meal , non - dairy confirmed  aircraft : boeing 777 - 200 / 300  hotel 30 apr athenaeum hotel and apartments  11 may 116 piccadilly  london england , wlv obj  united kingdom  telephone : 44 - ( 0 ) - 207 - 499 - 3464  fax : 44 - ( 0 ) - 207 - 493 - 1860  confirmation : claire 25 apr  rate : rac gbp 270 . 00 per night  guarantee given  prereg actual arr lmay 655 am apartment  to avoid billing cancel by 6 pm 24 hrs prior  continental airlines 11 may london gatwick houston tx 1200 n 415 p  co 5 j fri gatwick g . bush iah  terminal s terminal dom  lunch / snack non stop  reservation confirmed 10 : 15 duration  vegetarian meal , non - dairy confirmed  aircraft : boeing 777 - 200 / 300'"
      ],
      "metadata": {
        "id": "flzY8wMH5dcB"
      },
      "id": "flzY8wMH5dcB",
      "execution_count": null,
      "outputs": []
    },
    {
      "cell_type": "code",
      "source": [
        "model_nn.predict(cvec.transform([data_cleaner(spam_sentence_test)]).toarray())"
      ],
      "metadata": {
        "colab": {
          "base_uri": "https://localhost:8080/"
        },
        "id": "1P5ENpuFjAkQ",
        "outputId": "c18ec630-a52d-451e-f395-0ddaed76e30d"
      },
      "id": "1P5ENpuFjAkQ",
      "execution_count": null,
      "outputs": [
        {
          "output_type": "stream",
          "name": "stdout",
          "text": [
            "\u001b[1m1/1\u001b[0m \u001b[32m━━━━━━━━━━━━━━━━━━━━\u001b[0m\u001b[37m\u001b[0m \u001b[1m0s\u001b[0m 393ms/step\n"
          ]
        },
        {
          "output_type": "execute_result",
          "data": {
            "text/plain": [
              "array([[0.9999999]], dtype=float32)"
            ]
          },
          "metadata": {},
          "execution_count": 52
        }
      ]
    },
    {
      "cell_type": "code",
      "source": [
        "model_nn.predict(cvec.transform([data_cleaner(ham_sentence_test)]).toarray())"
      ],
      "metadata": {
        "colab": {
          "base_uri": "https://localhost:8080/"
        },
        "id": "Fuh_m9okjWaJ",
        "outputId": "6d62916e-0740-4be8-ed50-fead36e81cb1"
      },
      "id": "Fuh_m9okjWaJ",
      "execution_count": null,
      "outputs": [
        {
          "output_type": "stream",
          "name": "stdout",
          "text": [
            "\u001b[1m1/1\u001b[0m \u001b[32m━━━━━━━━━━━━━━━━━━━━\u001b[0m\u001b[37m\u001b[0m \u001b[1m0s\u001b[0m 22ms/step\n"
          ]
        },
        {
          "output_type": "execute_result",
          "data": {
            "text/plain": [
              "array([[2.8092717e-10]], dtype=float32)"
            ]
          },
          "metadata": {},
          "execution_count": 53
        }
      ]
    },
    {
      "cell_type": "code",
      "source": [
        "#model_nn.save(\"/content/drive/MyDrive/Colab Notebooks/08 - Natural Language Processing/Progetto/model_nn.keras\")"
      ],
      "metadata": {
        "id": "Ek0jaPYom90p"
      },
      "id": "Ek0jaPYom90p",
      "execution_count": null,
      "outputs": []
    },
    {
      "cell_type": "code",
      "source": [
        "#model_nn = load_model(\"/content/drive/MyDrive/Colab Notebooks/08 - Natural Language Processing/Progetto/model_nn.keras\")"
      ],
      "metadata": {
        "id": "JSR523cln18Z"
      },
      "id": "JSR523cln18Z",
      "execution_count": null,
      "outputs": []
    },
    {
      "cell_type": "markdown",
      "source": [
        "## **Topic modelling**"
      ],
      "metadata": {
        "id": "VvQJi1KSUbZr"
      },
      "id": "VvQJi1KSUbZr"
    },
    {
      "cell_type": "markdown",
      "source": [
        "In order to find the main topics of the spam portion of the dataset I use the LDA model, after some preprocessing steps.\n",
        "\n",
        "At first, I save all the original spam samples in a more convenient dataframe *df_spam*."
      ],
      "metadata": {
        "id": "94At-Scx9pcO"
      },
      "id": "94At-Scx9pcO"
    },
    {
      "cell_type": "code",
      "source": [
        "df_spam = df_cleaned[df_cleaned['label']==1]\n",
        "df_spam.shape"
      ],
      "metadata": {
        "id": "_Ly558hCPgy7",
        "colab": {
          "base_uri": "https://localhost:8080/"
        },
        "outputId": "7f3ced94-c47a-4c1d-84cd-03aafdea08f8"
      },
      "id": "_Ly558hCPgy7",
      "execution_count": null,
      "outputs": [
        {
          "output_type": "execute_result",
          "data": {
            "text/plain": [
              "(1499, 2)"
            ]
          },
          "metadata": {},
          "execution_count": 55
        }
      ]
    },
    {
      "cell_type": "markdown",
      "source": [
        "As the emails texts have already been cleaned, there are only a few steps required:\n",
        "1.   split each email in order to obtain a list of words\n",
        "2.   removing words shorter than 5 letters, as they are probably not very meaningful"
      ],
      "metadata": {
        "id": "IQuFp7jSZTIE"
      },
      "id": "IQuFp7jSZTIE"
    },
    {
      "cell_type": "code",
      "source": [
        "split_email = [email.split() for email in df_spam['text']]\n",
        "data_words = []\n",
        "for email in split_email:\n",
        "  data_words.append([word for word in email if len(word) >=5])"
      ],
      "metadata": {
        "id": "35VBTJ2L91NJ"
      },
      "id": "35VBTJ2L91NJ",
      "execution_count": null,
      "outputs": []
    },
    {
      "cell_type": "markdown",
      "source": [
        "I obtain the list *data_words*, where each item is a list of preprocessed (and at least 5 letter long) words corresponding to a spam email."
      ],
      "metadata": {
        "id": "ravjfIHLauzx"
      },
      "id": "ravjfIHLauzx"
    },
    {
      "cell_type": "code",
      "source": [
        "#data_words"
      ],
      "metadata": {
        "collapsed": true,
        "id": "XtgEYaNlErKy"
      },
      "id": "XtgEYaNlErKy",
      "execution_count": null,
      "outputs": []
    },
    {
      "cell_type": "markdown",
      "source": [
        "With the *Gensim* library, I create a word dictionary and tokenize the texts in order to use the *LDA* model."
      ],
      "metadata": {
        "id": "Fe3H9GIeb15X"
      },
      "id": "Fe3H9GIeb15X"
    },
    {
      "cell_type": "code",
      "source": [
        "import gensim.corpora as corpora\n",
        "word_dict = corpora.Dictionary(data_words)\n",
        "corpus = [word_dict.doc2bow(email) for email in data_words]"
      ],
      "metadata": {
        "id": "bif1gzlw-lmQ"
      },
      "id": "bif1gzlw-lmQ",
      "execution_count": null,
      "outputs": []
    },
    {
      "cell_type": "markdown",
      "source": [
        "I build the LDA model, and find the most outlined results with 3 topics and 8 passes."
      ],
      "metadata": {
        "id": "NN4nni0qciS5"
      },
      "id": "NN4nni0qciS5"
    },
    {
      "cell_type": "code",
      "source": [
        "import gensim\n",
        "lda_model = gensim.models.LdaMulticore(corpus=corpus,\n",
        "                                       id2word=word_dict,\n",
        "                                       num_topics=3,\n",
        "                                       passes = 8)"
      ],
      "metadata": {
        "id": "qXelqjzq_FhB"
      },
      "id": "qXelqjzq_FhB",
      "execution_count": null,
      "outputs": []
    },
    {
      "cell_type": "code",
      "source": [
        "#lda_model.save(\"/content/drive/MyDrive/Colab Notebooks/08 - Natural Language Processing/Progetto/lda_model\")\n",
        "#from gensim.models.ldamodel import LdaModel\n",
        "#lda_model = LdaModel.load(\"/content/drive/MyDrive/Colab Notebooks/08 - Natural Language Processing/Progetto/lda_model\")"
      ],
      "metadata": {
        "id": "mrik0tJyryJQ"
      },
      "id": "mrik0tJyryJQ",
      "execution_count": null,
      "outputs": []
    },
    {
      "cell_type": "code",
      "source": [
        "from pprint import pprint\n",
        "pprint(lda_model.print_topics())\n",
        "doc_lda = lda_model[corpus]"
      ],
      "metadata": {
        "colab": {
          "base_uri": "https://localhost:8080/"
        },
        "id": "VSPwKMuzvfn5",
        "outputId": "791f73dd-4f02-451e-98b8-7d2b38d3c906"
      },
      "id": "VSPwKMuzvfn5",
      "execution_count": null,
      "outputs": [
        {
          "output_type": "stream",
          "name": "stdout",
          "text": [
            "[(0,\n",
            "  '0.010*\"height\" + 0.008*\"width\" + 0.007*\"price\" + 0.006*\"align\" + '\n",
            "  '0.005*\"color\" + 0.005*\"border\" + 0.004*\"adobe\" + 0.004*\"window\" + '\n",
            "  '0.004*\"microsoft\" + 0.004*\"professional\"'),\n",
            " (1,\n",
            "  '0.004*\"online\" + 0.004*\"viagra\" + 0.004*\"please\" + 0.004*\"cialis\" + '\n",
            "  '0.004*\"order\" + 0.003*\"prescription\" + 0.003*\"thank\" + 0.002*\"account\" + '\n",
            "  '0.002*\"click\" + 0.002*\"email\"'),\n",
            " (2,\n",
            "  '0.012*\"company\" + 0.007*\"statement\" + 0.007*\"information\" + 0.006*\"stock\" + '\n",
            "  '0.006*\"price\" + 0.005*\"email\" + 0.005*\"security\" + 0.004*\"please\" + '\n",
            "  '0.004*\"investment\" + 0.004*\"report\"')]\n"
          ]
        }
      ]
    },
    {
      "cell_type": "markdown",
      "source": [
        "The 3 main topics found in the spam emails, according to my interpretation of the LDA results, are:\n",
        "\n",
        "1) 0: *software*\n",
        "\n",
        "2) 1: *male sexual performances enhancement*\n",
        "\n",
        "3) 2: *finance and investments*\n",
        "\n",
        "\n"
      ],
      "metadata": {
        "id": "SAyTDy05euf-"
      },
      "id": "SAyTDy05euf-"
    },
    {
      "cell_type": "markdown",
      "source": [
        "In order to assign to each *spam* email its topic, I define the following function that extract the \"dominant\" topic from a given text and iterate it on every *spam* email."
      ],
      "metadata": {
        "id": "vFpjO4R0ghfI"
      },
      "id": "vFpjO4R0ghfI"
    },
    {
      "cell_type": "code",
      "source": [
        "def max_topic(document_topics_probs):\n",
        "  topics_probs = [item[1] for item in document_topics_probs]\n",
        "  return topics_probs.index(max(topics_probs))\n",
        "\n",
        "topic_list = []\n",
        "for email in corpus:\n",
        "  email_topics_probs = lda_model.get_document_topics(email)\n",
        "  topic_list.append(max_topic(email_topics_probs))"
      ],
      "metadata": {
        "id": "qxWSuKIiYdsT"
      },
      "id": "qxWSuKIiYdsT",
      "execution_count": null,
      "outputs": []
    },
    {
      "cell_type": "markdown",
      "source": [
        "I check that the *topic_list* has the same size as the spam samples and that the topics are actually 3 (0, 1, 2)."
      ],
      "metadata": {
        "id": "0PPlB3Z-iwpR"
      },
      "id": "0PPlB3Z-iwpR"
    },
    {
      "cell_type": "code",
      "source": [
        "len(topic_list)"
      ],
      "metadata": {
        "colab": {
          "base_uri": "https://localhost:8080/"
        },
        "id": "rIYg8GdopXwc",
        "outputId": "43ac63b6-e880-45b3-8287-6cddf5ba0137"
      },
      "id": "rIYg8GdopXwc",
      "execution_count": null,
      "outputs": [
        {
          "output_type": "execute_result",
          "data": {
            "text/plain": [
              "1499"
            ]
          },
          "metadata": {},
          "execution_count": 77
        }
      ]
    },
    {
      "cell_type": "code",
      "source": [
        "set(topic_list)"
      ],
      "metadata": {
        "colab": {
          "base_uri": "https://localhost:8080/"
        },
        "id": "OL0XX_jeqG3O",
        "outputId": "1556e773-ffc8-4f60-a89a-c53c2b187490"
      },
      "id": "OL0XX_jeqG3O",
      "execution_count": null,
      "outputs": [
        {
          "output_type": "execute_result",
          "data": {
            "text/plain": [
              "{0, 1, 2}"
            ]
          },
          "metadata": {},
          "execution_count": 78
        }
      ]
    },
    {
      "cell_type": "markdown",
      "source": [
        "Eventually, I create a specific dataframe with spam samples and their topic."
      ],
      "metadata": {
        "id": "RL0VYGOajIlX"
      },
      "id": "RL0VYGOajIlX"
    },
    {
      "cell_type": "code",
      "source": [
        "df_spam_topics = df_spam.copy()\n",
        "df_spam_topics['topic'] = topic_list\n",
        "df_spam_topics"
      ],
      "metadata": {
        "colab": {
          "base_uri": "https://localhost:8080/",
          "height": 424
        },
        "id": "7ejs1H4blnG0",
        "outputId": "e3f8fe5a-43ce-4121-968f-f56956d7be7c"
      },
      "id": "7ejs1H4blnG0",
      "execution_count": null,
      "outputs": [
        {
          "output_type": "execute_result",
          "data": {
            "text/plain": [
              "                                                   text  label  topic\n",
              "3     photoshop window office cheap main trending ab...      1      0\n",
              "7     look medication good source difficult make mat...      1      1\n",
              "10    vocable rnd word asceticism vcsc brand new sto...      1      0\n",
              "11    report  wffur attion brom est inst siupie  pgs...      1      1\n",
              "13    vic odin n ow berne hotbox carnal bride cutwor...      1      0\n",
              "...                                                 ...    ...    ...\n",
              "5159  picture streamline denizen ajar chase heavens ...      1      0\n",
              "5161  penny stock time nomad international inc ndin ...      1      0\n",
              "5162  anomaly boy  uosda apaprove mledms heure crack...      1      0\n",
              "5164              slutty milf want meet take ilaa liqaa      1      0\n",
              "5170  important online banking alert dear value citi...      1      0\n",
              "\n",
              "[1499 rows x 3 columns]"
            ],
            "text/html": [
              "\n",
              "  <div id=\"df-adf03999-e32d-4e1b-8449-2009aa8e8833\" class=\"colab-df-container\">\n",
              "    <div>\n",
              "<style scoped>\n",
              "    .dataframe tbody tr th:only-of-type {\n",
              "        vertical-align: middle;\n",
              "    }\n",
              "\n",
              "    .dataframe tbody tr th {\n",
              "        vertical-align: top;\n",
              "    }\n",
              "\n",
              "    .dataframe thead th {\n",
              "        text-align: right;\n",
              "    }\n",
              "</style>\n",
              "<table border=\"1\" class=\"dataframe\">\n",
              "  <thead>\n",
              "    <tr style=\"text-align: right;\">\n",
              "      <th></th>\n",
              "      <th>text</th>\n",
              "      <th>label</th>\n",
              "      <th>topic</th>\n",
              "    </tr>\n",
              "  </thead>\n",
              "  <tbody>\n",
              "    <tr>\n",
              "      <th>3</th>\n",
              "      <td>photoshop window office cheap main trending ab...</td>\n",
              "      <td>1</td>\n",
              "      <td>0</td>\n",
              "    </tr>\n",
              "    <tr>\n",
              "      <th>7</th>\n",
              "      <td>look medication good source difficult make mat...</td>\n",
              "      <td>1</td>\n",
              "      <td>1</td>\n",
              "    </tr>\n",
              "    <tr>\n",
              "      <th>10</th>\n",
              "      <td>vocable rnd word asceticism vcsc brand new sto...</td>\n",
              "      <td>1</td>\n",
              "      <td>0</td>\n",
              "    </tr>\n",
              "    <tr>\n",
              "      <th>11</th>\n",
              "      <td>report  wffur attion brom est inst siupie  pgs...</td>\n",
              "      <td>1</td>\n",
              "      <td>1</td>\n",
              "    </tr>\n",
              "    <tr>\n",
              "      <th>13</th>\n",
              "      <td>vic odin n ow berne hotbox carnal bride cutwor...</td>\n",
              "      <td>1</td>\n",
              "      <td>0</td>\n",
              "    </tr>\n",
              "    <tr>\n",
              "      <th>...</th>\n",
              "      <td>...</td>\n",
              "      <td>...</td>\n",
              "      <td>...</td>\n",
              "    </tr>\n",
              "    <tr>\n",
              "      <th>5159</th>\n",
              "      <td>picture streamline denizen ajar chase heavens ...</td>\n",
              "      <td>1</td>\n",
              "      <td>0</td>\n",
              "    </tr>\n",
              "    <tr>\n",
              "      <th>5161</th>\n",
              "      <td>penny stock time nomad international inc ndin ...</td>\n",
              "      <td>1</td>\n",
              "      <td>0</td>\n",
              "    </tr>\n",
              "    <tr>\n",
              "      <th>5162</th>\n",
              "      <td>anomaly boy  uosda apaprove mledms heure crack...</td>\n",
              "      <td>1</td>\n",
              "      <td>0</td>\n",
              "    </tr>\n",
              "    <tr>\n",
              "      <th>5164</th>\n",
              "      <td>slutty milf want meet take ilaa liqaa</td>\n",
              "      <td>1</td>\n",
              "      <td>0</td>\n",
              "    </tr>\n",
              "    <tr>\n",
              "      <th>5170</th>\n",
              "      <td>important online banking alert dear value citi...</td>\n",
              "      <td>1</td>\n",
              "      <td>0</td>\n",
              "    </tr>\n",
              "  </tbody>\n",
              "</table>\n",
              "<p>1499 rows × 3 columns</p>\n",
              "</div>\n",
              "    <div class=\"colab-df-buttons\">\n",
              "\n",
              "  <div class=\"colab-df-container\">\n",
              "    <button class=\"colab-df-convert\" onclick=\"convertToInteractive('df-adf03999-e32d-4e1b-8449-2009aa8e8833')\"\n",
              "            title=\"Convert this dataframe to an interactive table.\"\n",
              "            style=\"display:none;\">\n",
              "\n",
              "  <svg xmlns=\"http://www.w3.org/2000/svg\" height=\"24px\" viewBox=\"0 -960 960 960\">\n",
              "    <path d=\"M120-120v-720h720v720H120Zm60-500h600v-160H180v160Zm220 220h160v-160H400v160Zm0 220h160v-160H400v160ZM180-400h160v-160H180v160Zm440 0h160v-160H620v160ZM180-180h160v-160H180v160Zm440 0h160v-160H620v160Z\"/>\n",
              "  </svg>\n",
              "    </button>\n",
              "\n",
              "  <style>\n",
              "    .colab-df-container {\n",
              "      display:flex;\n",
              "      gap: 12px;\n",
              "    }\n",
              "\n",
              "    .colab-df-convert {\n",
              "      background-color: #E8F0FE;\n",
              "      border: none;\n",
              "      border-radius: 50%;\n",
              "      cursor: pointer;\n",
              "      display: none;\n",
              "      fill: #1967D2;\n",
              "      height: 32px;\n",
              "      padding: 0 0 0 0;\n",
              "      width: 32px;\n",
              "    }\n",
              "\n",
              "    .colab-df-convert:hover {\n",
              "      background-color: #E2EBFA;\n",
              "      box-shadow: 0px 1px 2px rgba(60, 64, 67, 0.3), 0px 1px 3px 1px rgba(60, 64, 67, 0.15);\n",
              "      fill: #174EA6;\n",
              "    }\n",
              "\n",
              "    .colab-df-buttons div {\n",
              "      margin-bottom: 4px;\n",
              "    }\n",
              "\n",
              "    [theme=dark] .colab-df-convert {\n",
              "      background-color: #3B4455;\n",
              "      fill: #D2E3FC;\n",
              "    }\n",
              "\n",
              "    [theme=dark] .colab-df-convert:hover {\n",
              "      background-color: #434B5C;\n",
              "      box-shadow: 0px 1px 3px 1px rgba(0, 0, 0, 0.15);\n",
              "      filter: drop-shadow(0px 1px 2px rgba(0, 0, 0, 0.3));\n",
              "      fill: #FFFFFF;\n",
              "    }\n",
              "  </style>\n",
              "\n",
              "    <script>\n",
              "      const buttonEl =\n",
              "        document.querySelector('#df-adf03999-e32d-4e1b-8449-2009aa8e8833 button.colab-df-convert');\n",
              "      buttonEl.style.display =\n",
              "        google.colab.kernel.accessAllowed ? 'block' : 'none';\n",
              "\n",
              "      async function convertToInteractive(key) {\n",
              "        const element = document.querySelector('#df-adf03999-e32d-4e1b-8449-2009aa8e8833');\n",
              "        const dataTable =\n",
              "          await google.colab.kernel.invokeFunction('convertToInteractive',\n",
              "                                                    [key], {});\n",
              "        if (!dataTable) return;\n",
              "\n",
              "        const docLinkHtml = 'Like what you see? Visit the ' +\n",
              "          '<a target=\"_blank\" href=https://colab.research.google.com/notebooks/data_table.ipynb>data table notebook</a>'\n",
              "          + ' to learn more about interactive tables.';\n",
              "        element.innerHTML = '';\n",
              "        dataTable['output_type'] = 'display_data';\n",
              "        await google.colab.output.renderOutput(dataTable, element);\n",
              "        const docLink = document.createElement('div');\n",
              "        docLink.innerHTML = docLinkHtml;\n",
              "        element.appendChild(docLink);\n",
              "      }\n",
              "    </script>\n",
              "  </div>\n",
              "\n",
              "\n",
              "<div id=\"df-30aa2d7d-cf6c-4445-b952-548e527d47b4\">\n",
              "  <button class=\"colab-df-quickchart\" onclick=\"quickchart('df-30aa2d7d-cf6c-4445-b952-548e527d47b4')\"\n",
              "            title=\"Suggest charts\"\n",
              "            style=\"display:none;\">\n",
              "\n",
              "<svg xmlns=\"http://www.w3.org/2000/svg\" height=\"24px\"viewBox=\"0 0 24 24\"\n",
              "     width=\"24px\">\n",
              "    <g>\n",
              "        <path d=\"M19 3H5c-1.1 0-2 .9-2 2v14c0 1.1.9 2 2 2h14c1.1 0 2-.9 2-2V5c0-1.1-.9-2-2-2zM9 17H7v-7h2v7zm4 0h-2V7h2v10zm4 0h-2v-4h2v4z\"/>\n",
              "    </g>\n",
              "</svg>\n",
              "  </button>\n",
              "\n",
              "<style>\n",
              "  .colab-df-quickchart {\n",
              "      --bg-color: #E8F0FE;\n",
              "      --fill-color: #1967D2;\n",
              "      --hover-bg-color: #E2EBFA;\n",
              "      --hover-fill-color: #174EA6;\n",
              "      --disabled-fill-color: #AAA;\n",
              "      --disabled-bg-color: #DDD;\n",
              "  }\n",
              "\n",
              "  [theme=dark] .colab-df-quickchart {\n",
              "      --bg-color: #3B4455;\n",
              "      --fill-color: #D2E3FC;\n",
              "      --hover-bg-color: #434B5C;\n",
              "      --hover-fill-color: #FFFFFF;\n",
              "      --disabled-bg-color: #3B4455;\n",
              "      --disabled-fill-color: #666;\n",
              "  }\n",
              "\n",
              "  .colab-df-quickchart {\n",
              "    background-color: var(--bg-color);\n",
              "    border: none;\n",
              "    border-radius: 50%;\n",
              "    cursor: pointer;\n",
              "    display: none;\n",
              "    fill: var(--fill-color);\n",
              "    height: 32px;\n",
              "    padding: 0;\n",
              "    width: 32px;\n",
              "  }\n",
              "\n",
              "  .colab-df-quickchart:hover {\n",
              "    background-color: var(--hover-bg-color);\n",
              "    box-shadow: 0 1px 2px rgba(60, 64, 67, 0.3), 0 1px 3px 1px rgba(60, 64, 67, 0.15);\n",
              "    fill: var(--button-hover-fill-color);\n",
              "  }\n",
              "\n",
              "  .colab-df-quickchart-complete:disabled,\n",
              "  .colab-df-quickchart-complete:disabled:hover {\n",
              "    background-color: var(--disabled-bg-color);\n",
              "    fill: var(--disabled-fill-color);\n",
              "    box-shadow: none;\n",
              "  }\n",
              "\n",
              "  .colab-df-spinner {\n",
              "    border: 2px solid var(--fill-color);\n",
              "    border-color: transparent;\n",
              "    border-bottom-color: var(--fill-color);\n",
              "    animation:\n",
              "      spin 1s steps(1) infinite;\n",
              "  }\n",
              "\n",
              "  @keyframes spin {\n",
              "    0% {\n",
              "      border-color: transparent;\n",
              "      border-bottom-color: var(--fill-color);\n",
              "      border-left-color: var(--fill-color);\n",
              "    }\n",
              "    20% {\n",
              "      border-color: transparent;\n",
              "      border-left-color: var(--fill-color);\n",
              "      border-top-color: var(--fill-color);\n",
              "    }\n",
              "    30% {\n",
              "      border-color: transparent;\n",
              "      border-left-color: var(--fill-color);\n",
              "      border-top-color: var(--fill-color);\n",
              "      border-right-color: var(--fill-color);\n",
              "    }\n",
              "    40% {\n",
              "      border-color: transparent;\n",
              "      border-right-color: var(--fill-color);\n",
              "      border-top-color: var(--fill-color);\n",
              "    }\n",
              "    60% {\n",
              "      border-color: transparent;\n",
              "      border-right-color: var(--fill-color);\n",
              "    }\n",
              "    80% {\n",
              "      border-color: transparent;\n",
              "      border-right-color: var(--fill-color);\n",
              "      border-bottom-color: var(--fill-color);\n",
              "    }\n",
              "    90% {\n",
              "      border-color: transparent;\n",
              "      border-bottom-color: var(--fill-color);\n",
              "    }\n",
              "  }\n",
              "</style>\n",
              "\n",
              "  <script>\n",
              "    async function quickchart(key) {\n",
              "      const quickchartButtonEl =\n",
              "        document.querySelector('#' + key + ' button');\n",
              "      quickchartButtonEl.disabled = true;  // To prevent multiple clicks.\n",
              "      quickchartButtonEl.classList.add('colab-df-spinner');\n",
              "      try {\n",
              "        const charts = await google.colab.kernel.invokeFunction(\n",
              "            'suggestCharts', [key], {});\n",
              "      } catch (error) {\n",
              "        console.error('Error during call to suggestCharts:', error);\n",
              "      }\n",
              "      quickchartButtonEl.classList.remove('colab-df-spinner');\n",
              "      quickchartButtonEl.classList.add('colab-df-quickchart-complete');\n",
              "    }\n",
              "    (() => {\n",
              "      let quickchartButtonEl =\n",
              "        document.querySelector('#df-30aa2d7d-cf6c-4445-b952-548e527d47b4 button');\n",
              "      quickchartButtonEl.style.display =\n",
              "        google.colab.kernel.accessAllowed ? 'block' : 'none';\n",
              "    })();\n",
              "  </script>\n",
              "</div>\n",
              "\n",
              "  <div id=\"id_45d261a3-5c87-4594-b7a4-39b319519dd1\">\n",
              "    <style>\n",
              "      .colab-df-generate {\n",
              "        background-color: #E8F0FE;\n",
              "        border: none;\n",
              "        border-radius: 50%;\n",
              "        cursor: pointer;\n",
              "        display: none;\n",
              "        fill: #1967D2;\n",
              "        height: 32px;\n",
              "        padding: 0 0 0 0;\n",
              "        width: 32px;\n",
              "      }\n",
              "\n",
              "      .colab-df-generate:hover {\n",
              "        background-color: #E2EBFA;\n",
              "        box-shadow: 0px 1px 2px rgba(60, 64, 67, 0.3), 0px 1px 3px 1px rgba(60, 64, 67, 0.15);\n",
              "        fill: #174EA6;\n",
              "      }\n",
              "\n",
              "      [theme=dark] .colab-df-generate {\n",
              "        background-color: #3B4455;\n",
              "        fill: #D2E3FC;\n",
              "      }\n",
              "\n",
              "      [theme=dark] .colab-df-generate:hover {\n",
              "        background-color: #434B5C;\n",
              "        box-shadow: 0px 1px 3px 1px rgba(0, 0, 0, 0.15);\n",
              "        filter: drop-shadow(0px 1px 2px rgba(0, 0, 0, 0.3));\n",
              "        fill: #FFFFFF;\n",
              "      }\n",
              "    </style>\n",
              "    <button class=\"colab-df-generate\" onclick=\"generateWithVariable('df_spam_topics')\"\n",
              "            title=\"Generate code using this dataframe.\"\n",
              "            style=\"display:none;\">\n",
              "\n",
              "  <svg xmlns=\"http://www.w3.org/2000/svg\" height=\"24px\"viewBox=\"0 0 24 24\"\n",
              "       width=\"24px\">\n",
              "    <path d=\"M7,19H8.4L18.45,9,17,7.55,7,17.6ZM5,21V16.75L18.45,3.32a2,2,0,0,1,2.83,0l1.4,1.43a1.91,1.91,0,0,1,.58,1.4,1.91,1.91,0,0,1-.58,1.4L9.25,21ZM18.45,9,17,7.55Zm-12,3A5.31,5.31,0,0,0,4.9,8.1,5.31,5.31,0,0,0,1,6.5,5.31,5.31,0,0,0,4.9,4.9,5.31,5.31,0,0,0,6.5,1,5.31,5.31,0,0,0,8.1,4.9,5.31,5.31,0,0,0,12,6.5,5.46,5.46,0,0,0,6.5,12Z\"/>\n",
              "  </svg>\n",
              "    </button>\n",
              "    <script>\n",
              "      (() => {\n",
              "      const buttonEl =\n",
              "        document.querySelector('#id_45d261a3-5c87-4594-b7a4-39b319519dd1 button.colab-df-generate');\n",
              "      buttonEl.style.display =\n",
              "        google.colab.kernel.accessAllowed ? 'block' : 'none';\n",
              "\n",
              "      buttonEl.onclick = () => {\n",
              "        google.colab.notebook.generateWithVariable('df_spam_topics');\n",
              "      }\n",
              "      })();\n",
              "    </script>\n",
              "  </div>\n",
              "\n",
              "    </div>\n",
              "  </div>\n"
            ],
            "application/vnd.google.colaboratory.intrinsic+json": {
              "type": "dataframe",
              "variable_name": "df_spam_topics",
              "summary": "{\n  \"name\": \"df_spam_topics\",\n  \"rows\": 1499,\n  \"fields\": [\n    {\n      \"column\": \"text\",\n      \"properties\": {\n        \"dtype\": \"string\",\n        \"num_unique_values\": 1456,\n        \"samples\": [\n          \"hi buddy feel vitality feel great without pain v  c  n  gg  piil  oo comparison report day shlpp  ng stop wachovia account trisha newsome lensgrinder btl r prague  czech republic phone    mobile    email oweoce c  ntris com please reply message shareware  year usage download note content reply manipulation craze bridgeport sis glutamine alumina time fri  jan     \",\n          \"dell pentium    ghz system   dell system feature powerful combination intel pentium    ghz processor  mb ram large  gb hard disk drive play host microsoft windows xp home edition cd rw drive dvd rom drive floppy disk drive pre instal integrate graphic integrated audio include get running processor ram hdd drive p    ghz  mb  gb dvd cdrw fdd winxp home vga sound visit http www computron I com deal one stop distributorjebel ali duty free zonewww computron I com late clearance sale list contact sale department limited quantity available select special complaint suggestion contact customerservice computron I com compaq hewlett packard  com dell intel iomega epson aopen creative toshiba apc cisco us robotic microsoft canon intellinet targus viewsonic ibm sony lot tel    price u dollar ex work fax    jebel ali duty free zone www computron I com price availability change usa canada u e without notice receive special offer plain text format reply mail request export email consider spam long include contact information remove instruction message intend dealer reseller somehow get list error reason would like remove please reply remove line message message send compliance federal legislation commercial e mail h r  section  paragraph e  bill  title iii pass  th u congress logo trademark property respective ownerstoshiba export product may exactly show unsubscribe computron  follow link click link copy paste address browser\",\n          \"real teen love make sex ton video beautiful teen girl erotic angel sweet european girl nasty blowjob vivid face cumshot teen defloration rough throat fuck hot college lesbian deep anal sex coed group hardcore fresh exclusive teen photo video content teen mega portal inside remove email\"\n        ],\n        \"semantic_type\": \"\",\n        \"description\": \"\"\n      }\n    },\n    {\n      \"column\": \"label\",\n      \"properties\": {\n        \"dtype\": \"number\",\n        \"std\": 0,\n        \"min\": 1,\n        \"max\": 1,\n        \"num_unique_values\": 1,\n        \"samples\": [\n          1\n        ],\n        \"semantic_type\": \"\",\n        \"description\": \"\"\n      }\n    },\n    {\n      \"column\": \"topic\",\n      \"properties\": {\n        \"dtype\": \"number\",\n        \"std\": 0,\n        \"min\": 0,\n        \"max\": 2,\n        \"num_unique_values\": 3,\n        \"samples\": [\n          0\n        ],\n        \"semantic_type\": \"\",\n        \"description\": \"\"\n      }\n    }\n  ]\n}"
            }
          },
          "metadata": {},
          "execution_count": 79
        }
      ]
    },
    {
      "cell_type": "markdown",
      "source": [
        "\n",
        "According to the *LDA model*, most of the *spam* emails deal with software (764), while 478 samples are about male sexual performances. 257 *spam* emails talk about finance."
      ],
      "metadata": {
        "id": "yoCAfzNRj3cU"
      },
      "id": "yoCAfzNRj3cU"
    },
    {
      "cell_type": "code",
      "source": [
        "df_spam_topics['topic'].value_counts()"
      ],
      "metadata": {
        "colab": {
          "base_uri": "https://localhost:8080/",
          "height": 210
        },
        "id": "Us7zRc8joQv7",
        "outputId": "3833abae-9f2a-4572-c776-1d74cbbb59e7"
      },
      "id": "Us7zRc8joQv7",
      "execution_count": null,
      "outputs": [
        {
          "output_type": "execute_result",
          "data": {
            "text/plain": [
              "topic\n",
              "0    764\n",
              "1    478\n",
              "2    257\n",
              "Name: count, dtype: int64"
            ],
            "text/html": [
              "<div>\n",
              "<style scoped>\n",
              "    .dataframe tbody tr th:only-of-type {\n",
              "        vertical-align: middle;\n",
              "    }\n",
              "\n",
              "    .dataframe tbody tr th {\n",
              "        vertical-align: top;\n",
              "    }\n",
              "\n",
              "    .dataframe thead th {\n",
              "        text-align: right;\n",
              "    }\n",
              "</style>\n",
              "<table border=\"1\" class=\"dataframe\">\n",
              "  <thead>\n",
              "    <tr style=\"text-align: right;\">\n",
              "      <th></th>\n",
              "      <th>count</th>\n",
              "    </tr>\n",
              "    <tr>\n",
              "      <th>topic</th>\n",
              "      <th></th>\n",
              "    </tr>\n",
              "  </thead>\n",
              "  <tbody>\n",
              "    <tr>\n",
              "      <th>0</th>\n",
              "      <td>764</td>\n",
              "    </tr>\n",
              "    <tr>\n",
              "      <th>1</th>\n",
              "      <td>478</td>\n",
              "    </tr>\n",
              "    <tr>\n",
              "      <th>2</th>\n",
              "      <td>257</td>\n",
              "    </tr>\n",
              "  </tbody>\n",
              "</table>\n",
              "</div><br><label><b>dtype:</b> int64</label>"
            ]
          },
          "metadata": {},
          "execution_count": 43
        }
      ]
    },
    {
      "cell_type": "code",
      "source": [
        "colors = ['blue', 'red', 'green']\n",
        "plt.bar(['Software', 'Performance enhancement', 'Finance'], [df_spam_topics['topic'].value_counts()[0], df_spam_topics['topic'].value_counts()[1], df_spam_topics['topic'].value_counts()[2]], color=colors)\n",
        "plt.xlabel('Topics')\n",
        "plt.ylabel('N samples')\n",
        "plt.show()"
      ],
      "metadata": {
        "id": "1Hp6FUgIos-U",
        "colab": {
          "base_uri": "https://localhost:8080/",
          "height": 449
        },
        "outputId": "61af5d64-0f9a-4cc7-e8da-00061981667b"
      },
      "id": "1Hp6FUgIos-U",
      "execution_count": null,
      "outputs": [
        {
          "output_type": "display_data",
          "data": {
            "text/plain": [
              "<Figure size 640x480 with 1 Axes>"
            ],
            "image/png": "[encoded data removed]"
          },
          "metadata": {}
        }
      ]
    },
    {
      "cell_type": "markdown",
      "source": [
        "## **Semantic similarity**"
      ],
      "metadata": {
        "id": "iCsVBMkYlAKu"
      },
      "id": "iCsVBMkYlAKu"
    },
    {
      "cell_type": "markdown",
      "source": [
        "In order to calculate the semantic similarity between the topics, I need to use a *Gensim* pre-trained model capable of transforming words in ***embedding***. The word embeddings will be used later to calculate an average embedding vector for each topic."
      ],
      "metadata": {
        "id": "8riOMGfRnZ5N"
      },
      "id": "8riOMGfRnZ5N"
    },
    {
      "cell_type": "code",
      "source": [
        "import gensim.downloader\n",
        "glove_vectors = gensim.downloader.load('glove-wiki-gigaword-300')"
      ],
      "metadata": {
        "id": "35i8-cw6n4T1",
        "colab": {
          "base_uri": "https://localhost:8080/"
        },
        "outputId": "c6915af3-e25a-42ac-b3a6-9a3450386006"
      },
      "id": "35i8-cw6n4T1",
      "execution_count": null,
      "outputs": [
        {
          "output_type": "stream",
          "name": "stdout",
          "text": [
            "[==================================================] 100.0% 376.1/376.1MB downloaded\n"
          ]
        }
      ]
    },
    {
      "cell_type": "markdown",
      "source": [
        "For a more convenient elaboration of the embeddings and the vectors, I create another dataframe, with the *spam* emails already pre-processed for Topic Modeling and their corresponding topic."
      ],
      "metadata": {
        "id": "2765TIxJouQR"
      },
      "id": "2765TIxJouQR"
    },
    {
      "cell_type": "code",
      "source": [
        "df_spam_emb = pd.DataFrame(columns=['split_email', 'topic'])\n",
        "df_spam_emb['split_email'] = data_words\n",
        "df_spam_emb['topic'] = list(df_spam_topics['topic'])\n",
        "df_spam_emb.head()"
      ],
      "metadata": {
        "colab": {
          "base_uri": "https://localhost:8080/",
          "height": 206
        },
        "id": "4_0snslYpnb3",
        "outputId": "d8309153-570f-41fd-ac83-cb42b75acdf6"
      },
      "id": "4_0snslYpnb3",
      "execution_count": null,
      "outputs": [
        {
          "output_type": "execute_result",
          "data": {
            "text/plain": [
              "                                         split_email  topic\n",
              "0  [photoshop, window, office, cheap, trending, a...      0\n",
              "1  [medication, source, difficult, material, cond...      1\n",
              "2  [vocable, asceticism, brand, stock, attention,...      0\n",
              "3  [report, wffur, attion, siupie, asently, presy...      1\n",
              "4  [berne, hotbox, carnal, bride, cutworm, dyadic...      0"
            ],
            "text/html": [
              "\n",
              "  <div id=\"df-1505c1ba-4980-4597-8b73-ec96a1393e9b\" class=\"colab-df-container\">\n",
              "    <div>\n",
              "<style scoped>\n",
              "    .dataframe tbody tr th:only-of-type {\n",
              "        vertical-align: middle;\n",
              "    }\n",
              "\n",
              "    .dataframe tbody tr th {\n",
              "        vertical-align: top;\n",
              "    }\n",
              "\n",
              "    .dataframe thead th {\n",
              "        text-align: right;\n",
              "    }\n",
              "</style>\n",
              "<table border=\"1\" class=\"dataframe\">\n",
              "  <thead>\n",
              "    <tr style=\"text-align: right;\">\n",
              "      <th></th>\n",
              "      <th>split_email</th>\n",
              "      <th>topic</th>\n",
              "    </tr>\n",
              "  </thead>\n",
              "  <tbody>\n",
              "    <tr>\n",
              "      <th>0</th>\n",
              "      <td>[photoshop, window, office, cheap, trending, a...</td>\n",
              "      <td>0</td>\n",
              "    </tr>\n",
              "    <tr>\n",
              "      <th>1</th>\n",
              "      <td>[medication, source, difficult, material, cond...</td>\n",
              "      <td>1</td>\n",
              "    </tr>\n",
              "    <tr>\n",
              "      <th>2</th>\n",
              "      <td>[vocable, asceticism, brand, stock, attention,...</td>\n",
              "      <td>0</td>\n",
              "    </tr>\n",
              "    <tr>\n",
              "      <th>3</th>\n",
              "      <td>[report, wffur, attion, siupie, asently, presy...</td>\n",
              "      <td>1</td>\n",
              "    </tr>\n",
              "    <tr>\n",
              "      <th>4</th>\n",
              "      <td>[berne, hotbox, carnal, bride, cutworm, dyadic...</td>\n",
              "      <td>0</td>\n",
              "    </tr>\n",
              "  </tbody>\n",
              "</table>\n",
              "</div>\n",
              "    <div class=\"colab-df-buttons\">\n",
              "\n",
              "  <div class=\"colab-df-container\">\n",
              "    <button class=\"colab-df-convert\" onclick=\"convertToInteractive('df-1505c1ba-4980-4597-8b73-ec96a1393e9b')\"\n",
              "            title=\"Convert this dataframe to an interactive table.\"\n",
              "            style=\"display:none;\">\n",
              "\n",
              "  <svg xmlns=\"http://www.w3.org/2000/svg\" height=\"24px\" viewBox=\"0 -960 960 960\">\n",
              "    <path d=\"M120-120v-720h720v720H120Zm60-500h600v-160H180v160Zm220 220h160v-160H400v160Zm0 220h160v-160H400v160ZM180-400h160v-160H180v160Zm440 0h160v-160H620v160ZM180-180h160v-160H180v160Zm440 0h160v-160H620v160Z\"/>\n",
              "  </svg>\n",
              "    </button>\n",
              "\n",
              "  <style>\n",
              "    .colab-df-container {\n",
              "      display:flex;\n",
              "      gap: 12px;\n",
              "    }\n",
              "\n",
              "    .colab-df-convert {\n",
              "      background-color: #E8F0FE;\n",
              "      border: none;\n",
              "      border-radius: 50%;\n",
              "      cursor: pointer;\n",
              "      display: none;\n",
              "      fill: #1967D2;\n",
              "      height: 32px;\n",
              "      padding: 0 0 0 0;\n",
              "      width: 32px;\n",
              "    }\n",
              "\n",
              "    .colab-df-convert:hover {\n",
              "      background-color: #E2EBFA;\n",
              "      box-shadow: 0px 1px 2px rgba(60, 64, 67, 0.3), 0px 1px 3px 1px rgba(60, 64, 67, 0.15);\n",
              "      fill: #174EA6;\n",
              "    }\n",
              "\n",
              "    .colab-df-buttons div {\n",
              "      margin-bottom: 4px;\n",
              "    }\n",
              "\n",
              "    [theme=dark] .colab-df-convert {\n",
              "      background-color: #3B4455;\n",
              "      fill: #D2E3FC;\n",
              "    }\n",
              "\n",
              "    [theme=dark] .colab-df-convert:hover {\n",
              "      background-color: #434B5C;\n",
              "      box-shadow: 0px 1px 3px 1px rgba(0, 0, 0, 0.15);\n",
              "      filter: drop-shadow(0px 1px 2px rgba(0, 0, 0, 0.3));\n",
              "      fill: #FFFFFF;\n",
              "    }\n",
              "  </style>\n",
              "\n",
              "    <script>\n",
              "      const buttonEl =\n",
              "        document.querySelector('#df-1505c1ba-4980-4597-8b73-ec96a1393e9b button.colab-df-convert');\n",
              "      buttonEl.style.display =\n",
              "        google.colab.kernel.accessAllowed ? 'block' : 'none';\n",
              "\n",
              "      async function convertToInteractive(key) {\n",
              "        const element = document.querySelector('#df-1505c1ba-4980-4597-8b73-ec96a1393e9b');\n",
              "        const dataTable =\n",
              "          await google.colab.kernel.invokeFunction('convertToInteractive',\n",
              "                                                    [key], {});\n",
              "        if (!dataTable) return;\n",
              "\n",
              "        const docLinkHtml = 'Like what you see? Visit the ' +\n",
              "          '<a target=\"_blank\" href=https://colab.research.google.com/notebooks/data_table.ipynb>data table notebook</a>'\n",
              "          + ' to learn more about interactive tables.';\n",
              "        element.innerHTML = '';\n",
              "        dataTable['output_type'] = 'display_data';\n",
              "        await google.colab.output.renderOutput(dataTable, element);\n",
              "        const docLink = document.createElement('div');\n",
              "        docLink.innerHTML = docLinkHtml;\n",
              "        element.appendChild(docLink);\n",
              "      }\n",
              "    </script>\n",
              "  </div>\n",
              "\n",
              "\n",
              "<div id=\"df-f68b3283-51e9-4fac-9a4e-2fa4d71054bf\">\n",
              "  <button class=\"colab-df-quickchart\" onclick=\"quickchart('df-f68b3283-51e9-4fac-9a4e-2fa4d71054bf')\"\n",
              "            title=\"Suggest charts\"\n",
              "            style=\"display:none;\">\n",
              "\n",
              "<svg xmlns=\"http://www.w3.org/2000/svg\" height=\"24px\"viewBox=\"0 0 24 24\"\n",
              "     width=\"24px\">\n",
              "    <g>\n",
              "        <path d=\"M19 3H5c-1.1 0-2 .9-2 2v14c0 1.1.9 2 2 2h14c1.1 0 2-.9 2-2V5c0-1.1-.9-2-2-2zM9 17H7v-7h2v7zm4 0h-2V7h2v10zm4 0h-2v-4h2v4z\"/>\n",
              "    </g>\n",
              "</svg>\n",
              "  </button>\n",
              "\n",
              "<style>\n",
              "  .colab-df-quickchart {\n",
              "      --bg-color: #E8F0FE;\n",
              "      --fill-color: #1967D2;\n",
              "      --hover-bg-color: #E2EBFA;\n",
              "      --hover-fill-color: #174EA6;\n",
              "      --disabled-fill-color: #AAA;\n",
              "      --disabled-bg-color: #DDD;\n",
              "  }\n",
              "\n",
              "  [theme=dark] .colab-df-quickchart {\n",
              "      --bg-color: #3B4455;\n",
              "      --fill-color: #D2E3FC;\n",
              "      --hover-bg-color: #434B5C;\n",
              "      --hover-fill-color: #FFFFFF;\n",
              "      --disabled-bg-color: #3B4455;\n",
              "      --disabled-fill-color: #666;\n",
              "  }\n",
              "\n",
              "  .colab-df-quickchart {\n",
              "    background-color: var(--bg-color);\n",
              "    border: none;\n",
              "    border-radius: 50%;\n",
              "    cursor: pointer;\n",
              "    display: none;\n",
              "    fill: var(--fill-color);\n",
              "    height: 32px;\n",
              "    padding: 0;\n",
              "    width: 32px;\n",
              "  }\n",
              "\n",
              "  .colab-df-quickchart:hover {\n",
              "    background-color: var(--hover-bg-color);\n",
              "    box-shadow: 0 1px 2px rgba(60, 64, 67, 0.3), 0 1px 3px 1px rgba(60, 64, 67, 0.15);\n",
              "    fill: var(--button-hover-fill-color);\n",
              "  }\n",
              "\n",
              "  .colab-df-quickchart-complete:disabled,\n",
              "  .colab-df-quickchart-complete:disabled:hover {\n",
              "    background-color: var(--disabled-bg-color);\n",
              "    fill: var(--disabled-fill-color);\n",
              "    box-shadow: none;\n",
              "  }\n",
              "\n",
              "  .colab-df-spinner {\n",
              "    border: 2px solid var(--fill-color);\n",
              "    border-color: transparent;\n",
              "    border-bottom-color: var(--fill-color);\n",
              "    animation:\n",
              "      spin 1s steps(1) infinite;\n",
              "  }\n",
              "\n",
              "  @keyframes spin {\n",
              "    0% {\n",
              "      border-color: transparent;\n",
              "      border-bottom-color: var(--fill-color);\n",
              "      border-left-color: var(--fill-color);\n",
              "    }\n",
              "    20% {\n",
              "      border-color: transparent;\n",
              "      border-left-color: var(--fill-color);\n",
              "      border-top-color: var(--fill-color);\n",
              "    }\n",
              "    30% {\n",
              "      border-color: transparent;\n",
              "      border-left-color: var(--fill-color);\n",
              "      border-top-color: var(--fill-color);\n",
              "      border-right-color: var(--fill-color);\n",
              "    }\n",
              "    40% {\n",
              "      border-color: transparent;\n",
              "      border-right-color: var(--fill-color);\n",
              "      border-top-color: var(--fill-color);\n",
              "    }\n",
              "    60% {\n",
              "      border-color: transparent;\n",
              "      border-right-color: var(--fill-color);\n",
              "    }\n",
              "    80% {\n",
              "      border-color: transparent;\n",
              "      border-right-color: var(--fill-color);\n",
              "      border-bottom-color: var(--fill-color);\n",
              "    }\n",
              "    90% {\n",
              "      border-color: transparent;\n",
              "      border-bottom-color: var(--fill-color);\n",
              "    }\n",
              "  }\n",
              "</style>\n",
              "\n",
              "  <script>\n",
              "    async function quickchart(key) {\n",
              "      const quickchartButtonEl =\n",
              "        document.querySelector('#' + key + ' button');\n",
              "      quickchartButtonEl.disabled = true;  // To prevent multiple clicks.\n",
              "      quickchartButtonEl.classList.add('colab-df-spinner');\n",
              "      try {\n",
              "        const charts = await google.colab.kernel.invokeFunction(\n",
              "            'suggestCharts', [key], {});\n",
              "      } catch (error) {\n",
              "        console.error('Error during call to suggestCharts:', error);\n",
              "      }\n",
              "      quickchartButtonEl.classList.remove('colab-df-spinner');\n",
              "      quickchartButtonEl.classList.add('colab-df-quickchart-complete');\n",
              "    }\n",
              "    (() => {\n",
              "      let quickchartButtonEl =\n",
              "        document.querySelector('#df-f68b3283-51e9-4fac-9a4e-2fa4d71054bf button');\n",
              "      quickchartButtonEl.style.display =\n",
              "        google.colab.kernel.accessAllowed ? 'block' : 'none';\n",
              "    })();\n",
              "  </script>\n",
              "</div>\n",
              "\n",
              "    </div>\n",
              "  </div>\n"
            ],
            "application/vnd.google.colaboratory.intrinsic+json": {
              "type": "dataframe",
              "variable_name": "df_spam_emb",
              "summary": "{\n  \"name\": \"df_spam_emb\",\n  \"rows\": 1499,\n  \"fields\": [\n    {\n      \"column\": \"split_email\",\n      \"properties\": {\n        \"dtype\": \"object\",\n        \"semantic_type\": \"\",\n        \"description\": \"\"\n      }\n    },\n    {\n      \"column\": \"topic\",\n      \"properties\": {\n        \"dtype\": \"number\",\n        \"std\": 0,\n        \"min\": 0,\n        \"max\": 2,\n        \"num_unique_values\": 3,\n        \"samples\": [\n          0,\n          1,\n          2\n        ],\n        \"semantic_type\": \"\",\n        \"description\": \"\"\n      }\n    }\n  ]\n}"
            }
          },
          "metadata": {},
          "execution_count": 82
        }
      ]
    },
    {
      "cell_type": "markdown",
      "source": [
        "As the goal is to measure the distance between the **average vectors** of each topic, I report below a function that estimates an average vector by calculating the **mean** of every word embedding of a given text.\n",
        "\n",
        "Using the *key_to_index* method of the *Gensim* model saved in *glove_vectors* I can transform every word in an embedding and add it incrementally. While returning the result, the mean is calculated considering also the possible words that can not be embedded by the model.\n",
        "\n",
        "The arrays length (300) is defined by the selected model."
      ],
      "metadata": {
        "id": "9qSZvWU0p25X"
      },
      "id": "9qSZvWU0p25X"
    },
    {
      "cell_type": "code",
      "source": [
        "def avg_vector(text):\n",
        "    to_remove = 0\n",
        "    vector = np.zeros(300)\n",
        "    for word in text:\n",
        "        if word in glove_vectors.key_to_index.keys():\n",
        "            vector += glove_vectors.get_vector(word)\n",
        "        else:\n",
        "            to_remove += 1\n",
        "    if len(text)== to_remove:\n",
        "        return np.zeros(300)\n",
        "\n",
        "    return vector/(len(text)-to_remove)"
      ],
      "metadata": {
        "id": "9WvWuevspe98"
      },
      "id": "9WvWuevspe98",
      "execution_count": null,
      "outputs": []
    },
    {
      "cell_type": "markdown",
      "source": [
        "The function below creates a list of words for a given dataframe (like the last one created, *df_spam_emb*) and topic index.\n",
        "Every word that belongs to a spam email of the given topic index is collected in a single list, creating a sort of \"topic dictionary\"."
      ],
      "metadata": {
        "id": "ICiU6XZkqz2t"
      },
      "id": "ICiU6XZkqz2t"
    },
    {
      "cell_type": "code",
      "source": [
        "def create_topic_word_list(df, topic):\n",
        "  topic_word_list = []\n",
        "  for email in df[df['topic']==topic]['split_email']:\n",
        "    topic_word_list += email\n",
        "  return topic_word_list"
      ],
      "metadata": {
        "id": "7Cr1ceUGvVyv"
      },
      "id": "7Cr1ceUGvVyv",
      "execution_count": null,
      "outputs": []
    },
    {
      "cell_type": "markdown",
      "source": [
        "Then I iterate the *create_topic_word_list* function for each topic index, in order to get a list for each topic (saved in the *word_list_by_topics* list)."
      ],
      "metadata": {
        "id": "8RbVZQXorr4V"
      },
      "id": "8RbVZQXorr4V"
    },
    {
      "cell_type": "code",
      "source": [
        "word_list_by_topics = []\n",
        "for topic in set(topic_list):\n",
        "  word_list_by_topics.append(create_topic_word_list(df_spam_emb, topic))"
      ],
      "metadata": {
        "id": "RJ_SoQ82xi6T"
      },
      "id": "RJ_SoQ82xi6T",
      "execution_count": null,
      "outputs": []
    },
    {
      "cell_type": "markdown",
      "source": [
        "Having 3 lists of words for each topic, I can finally calculate the average vector for each topic."
      ],
      "metadata": {
        "id": "-prTs26PtMI9"
      },
      "id": "-prTs26PtMI9"
    },
    {
      "cell_type": "code",
      "source": [
        "topic_vectors = []\n",
        "for word_list in word_list_by_topics:\n",
        "    topic_vectors.append(avg_vector(word_list))"
      ],
      "metadata": {
        "id": "bOFY1_4vtMZ7"
      },
      "id": "bOFY1_4vtMZ7",
      "execution_count": null,
      "outputs": []
    },
    {
      "cell_type": "markdown",
      "source": [
        "In order to calculate the similarity between topics, I need to import the *spatial* module from *scipy* library, as it is measured by the *cosine distance*."
      ],
      "metadata": {
        "id": "1NM-qhTsvBWl"
      },
      "id": "1NM-qhTsvBWl"
    },
    {
      "cell_type": "code",
      "source": [
        "from scipy import spatial"
      ],
      "metadata": {
        "id": "qSCYO0tqpngi"
      },
      "id": "qSCYO0tqpngi",
      "execution_count": null,
      "outputs": []
    },
    {
      "cell_type": "code",
      "source": [
        "print('Distance between software (0) and male sexual performances enhancement (1)')\n",
        "print(round(1 - spatial.distance.cosine(topic_vectors[0], topic_vectors[1]), 2))"
      ],
      "metadata": {
        "colab": {
          "base_uri": "https://localhost:8080/"
        },
        "id": "onzTGecW1bZr",
        "outputId": "957e3048-cc3d-402f-c38c-eede4775bf4a"
      },
      "id": "onzTGecW1bZr",
      "execution_count": null,
      "outputs": [
        {
          "output_type": "stream",
          "name": "stdout",
          "text": [
            "Distance between software (0) and male sexual performances enhancement (1)\n",
            "0.99\n"
          ]
        }
      ]
    },
    {
      "cell_type": "code",
      "source": [
        "print('Distance between software (0) and finance (2)')\n",
        "print(round(1 - spatial.distance.cosine(topic_vectors[0], topic_vectors[2]), 2))"
      ],
      "metadata": {
        "colab": {
          "base_uri": "https://localhost:8080/"
        },
        "id": "xfnvyl1H1fOc",
        "outputId": "68cef75f-663e-47f3-e7f0-85652e0205f8"
      },
      "id": "xfnvyl1H1fOc",
      "execution_count": null,
      "outputs": [
        {
          "output_type": "stream",
          "name": "stdout",
          "text": [
            "Distance between software (0) and finance (2)\n",
            "0.98\n"
          ]
        }
      ]
    },
    {
      "cell_type": "code",
      "source": [
        "print('Distance between finance (2) and male sexual performances enhancement (1)')\n",
        "print(round(1 - spatial.distance.cosine(topic_vectors[2], topic_vectors[1]), 2))"
      ],
      "metadata": {
        "colab": {
          "base_uri": "https://localhost:8080/"
        },
        "id": "oC8i-iYK1n0o",
        "outputId": "11ced5ac-352b-4ef3-83eb-a03365ea675d"
      },
      "id": "oC8i-iYK1n0o",
      "execution_count": null,
      "outputs": [
        {
          "output_type": "stream",
          "name": "stdout",
          "text": [
            "Distance between finance (2) and male sexual performances enhancement (1)\n",
            "0.99\n"
          ]
        }
      ]
    },
    {
      "cell_type": "markdown",
      "source": [
        "The measures of the distances between topics reach very high level, meaning that the topics, according to this model, are very similar."
      ],
      "metadata": {
        "id": "5ru_heVZwc2U"
      },
      "id": "5ru_heVZwc2U"
    },
    {
      "cell_type": "markdown",
      "source": [
        "## **Named Entity Recognition - Organizations**"
      ],
      "metadata": {
        "id": "igWo_AaDyHAS"
      },
      "id": "igWo_AaDyHAS"
    },
    {
      "cell_type": "markdown",
      "source": [
        "In order to extract from the *ham* emails the organizations' names, I will use the *Named Entity Recognition (**NER**)* functionalities of the *spacy* library models, already imported at the beginning of this notebook."
      ],
      "metadata": {
        "id": "PDUGgIf-ydLU"
      },
      "id": "PDUGgIf-ydLU"
    },
    {
      "cell_type": "markdown",
      "source": [
        "I define a different data cleaning function to prepare the *ham* emails to *NER*. Compared to the one used so far in this notebook, this one does not *lemmatize* the words, as they need to be read by the model in their original form."
      ],
      "metadata": {
        "id": "KpwJOckZz4M2"
      },
      "id": "KpwJOckZz4M2"
    },
    {
      "cell_type": "code",
      "source": [
        "def data_cleaner_ner(sentence):\n",
        "  sentence = sentence.lower()\n",
        "  for c in string.punctuation:\n",
        "    sentence = sentence.replace(c, \" \")\n",
        "  sentence = ' '.join(word for word in sentence.split() if word not in english_stopwords)\n",
        "  sentence = re.sub('\\d', '', sentence)\n",
        "  return sentence"
      ],
      "metadata": {
        "id": "5zCheMajyBv9"
      },
      "id": "5zCheMajyBv9",
      "execution_count": null,
      "outputs": []
    },
    {
      "cell_type": "markdown",
      "source": [
        "The ham emails texts are then cleaned and saved in a list."
      ],
      "metadata": {
        "id": "fmIOHYwF0wU8"
      },
      "id": "fmIOHYwF0wU8"
    },
    {
      "cell_type": "code",
      "source": [
        "ham_list = list(dataset['text'].apply(data_cleaner_ner))"
      ],
      "metadata": {
        "id": "vKE0l_XSQPUT"
      },
      "id": "vKE0l_XSQPUT",
      "execution_count": null,
      "outputs": []
    },
    {
      "cell_type": "markdown",
      "source": [
        "Using *nlp* and the *ent_type_* method iterating on every *ham* email, I can save the words recognized as Organization (*ORG*) in a list.\n",
        "\n",
        "More than 4.000 words (printed below) have been recognized as Organizations."
      ],
      "metadata": {
        "id": "SMRqvJgH03Wj"
      },
      "id": "SMRqvJgH03Wj"
    },
    {
      "cell_type": "code",
      "source": [
        "org_list = []\n",
        "for email in ham_list:\n",
        "  doc = nlp(email)\n",
        "  for token in doc:\n",
        "    if str(token.ent_type_) == 'ORG':\n",
        "      org_list.append(str(token))"
      ],
      "metadata": {
        "collapsed": true,
        "id": "CzLgG0XxQjnL"
      },
      "id": "CzLgG0XxQjnL",
      "execution_count": null,
      "outputs": []
    },
    {
      "cell_type": "code",
      "source": [
        "len(set(org_list))"
      ],
      "metadata": {
        "colab": {
          "base_uri": "https://localhost:8080/"
        },
        "id": "vjo18rh0Q4G0",
        "outputId": "67e65393-b829-40b9-8a0f-d74f9aa4d44a"
      },
      "id": "vjo18rh0Q4G0",
      "execution_count": null,
      "outputs": [
        {
          "output_type": "execute_result",
          "data": {
            "text/plain": [
              "4077"
            ]
          },
          "metadata": {},
          "execution_count": 101
        }
      ]
    },
    {
      "cell_type": "code",
      "source": [
        "set(org_list)"
      ],
      "metadata": {
        "colab": {
          "base_uri": "https://localhost:8080/"
        },
        "id": "Tm0NT90b5dI_",
        "outputId": "4415544a-cf12-4a51-85bc-14f0e2c4867d"
      },
      "id": "Tm0NT90b5dI_",
      "execution_count": null,
      "outputs": [
        {
          "output_type": "execute_result",
          "data": {
            "text/plain": [
              "{'mandey',\n",
              " 'mahayana',\n",
              " 'abruptness',\n",
              " 'carte',\n",
              " 'lavorato',\n",
              " 'frankfurt',\n",
              " 'desist',\n",
              " 'strawflower',\n",
              " 'spot',\n",
              " 'portland',\n",
              " 'resource',\n",
              " 'plr',\n",
              " 'per',\n",
              " 'beautician',\n",
              " 'welcome',\n",
              " 'slingshot',\n",
              " 'complimentary',\n",
              " 'ldp',\n",
              " 'woodward',\n",
              " 'deliberate',\n",
              " 'ics',\n",
              " 'dmi',\n",
              " 'johannesburg',\n",
              " 'nokia',\n",
              " 'apollonian',\n",
              " 'entertainment',\n",
              " 'revolutionizing',\n",
              " 'pendant',\n",
              " 'metro',\n",
              " 'florist',\n",
              " 'cia',\n",
              " 'ichneumon',\n",
              " 'gift',\n",
              " 'sordo',\n",
              " 'snapshot',\n",
              " 'finance',\n",
              " 'regency',\n",
              " 'spoke',\n",
              " 'burnell',\n",
              " 'hou',\n",
              " 'cooper',\n",
              " 'spmbsxz',\n",
              " 'part',\n",
              " 'madsen',\n",
              " 'ford',\n",
              " 'ihpw',\n",
              " 'forma',\n",
              " 'carey',\n",
              " 'hope',\n",
              " 'portugal',\n",
              " 'cocklebur',\n",
              " 'sub',\n",
              " 'accounting',\n",
              " 'greenery',\n",
              " 'planning',\n",
              " 'wheaton',\n",
              " 'newsome',\n",
              " 'negotiates',\n",
              " 'baptist',\n",
              " 'nathan',\n",
              " 'fioric',\n",
              " 'lithospheric',\n",
              " 'announcements',\n",
              " 'onl',\n",
              " 'sherri',\n",
              " 'dru',\n",
              " 'dtoi',\n",
              " 'cowboy',\n",
              " 'divalent',\n",
              " 'pf',\n",
              " 'iejczcus',\n",
              " 'son',\n",
              " 'tus',\n",
              " 'whiting',\n",
              " 'gener',\n",
              " 'wvbyxtvff',\n",
              " 'ingersoll',\n",
              " 'arm',\n",
              " 'points',\n",
              " 'workperson',\n",
              " 'saxophone',\n",
              " 'ky',\n",
              " 'corpsman',\n",
              " 'jpg',\n",
              " 'pbs',\n",
              " 'airlines',\n",
              " 'seu',\n",
              " 'xoxdqga',\n",
              " 'counsel',\n",
              " 'created',\n",
              " 'africa',\n",
              " 'kcs',\n",
              " 'persecution',\n",
              " 'announced',\n",
              " 'frank',\n",
              " 'hookworm',\n",
              " 'pursuant',\n",
              " 'nl',\n",
              " 'qfukrwbo',\n",
              " 'union',\n",
              " 'briton',\n",
              " 'clark',\n",
              " 'spinaker',\n",
              " 'loch',\n",
              " 'replacing',\n",
              " 'keith',\n",
              " 'declaimer',\n",
              " 'enroncredit',\n",
              " 'rkhfbb',\n",
              " 'crump',\n",
              " 'tjt',\n",
              " 'huong',\n",
              " 'smrzz',\n",
              " 'bryson',\n",
              " 'pictures',\n",
              " 'saudi',\n",
              " 'gloria',\n",
              " 'cypress',\n",
              " 'medicate',\n",
              " 'wstlladh',\n",
              " 'ob',\n",
              " 'plankton',\n",
              " 'tpmktlgw',\n",
              " 'photoshop',\n",
              " 'valenzuela',\n",
              " 'jh',\n",
              " 'elebrex',\n",
              " 'mason',\n",
              " 'hinwvhea',\n",
              " 'desideratum',\n",
              " 'caterpillar',\n",
              " 'bang',\n",
              " 'mills',\n",
              " 'tfwg',\n",
              " 'barbara',\n",
              " 'cabal',\n",
              " 'holding',\n",
              " 'idol',\n",
              " 'draw',\n",
              " 'matriarchal',\n",
              " 'heeeeereee',\n",
              " 'caneum',\n",
              " 'dairymen',\n",
              " 'juggernaut',\n",
              " 'review',\n",
              " 'kundin',\n",
              " 'apperception',\n",
              " 'mmc',\n",
              " 'basketball',\n",
              " 'consultation',\n",
              " 'languid',\n",
              " 'searobin',\n",
              " 'vail',\n",
              " 'alleyway',\n",
              " 'genesco',\n",
              " 'uunila',\n",
              " 'philipp',\n",
              " 'resources',\n",
              " 'hilcorp',\n",
              " 'river',\n",
              " 'shanie',\n",
              " 'reg',\n",
              " 'alloc',\n",
              " 'texoma',\n",
              " 'mwongozi',\n",
              " 'duke',\n",
              " 'less',\n",
              " 'williams',\n",
              " 'bsurfgrl',\n",
              " 'blare',\n",
              " 'service',\n",
              " 'olivetti',\n",
              " 'leila',\n",
              " 'bou',\n",
              " 'jeter',\n",
              " 'offers',\n",
              " 'nomad',\n",
              " 'bachelor',\n",
              " 'walter',\n",
              " 'auf',\n",
              " 'game',\n",
              " 'font',\n",
              " 'shallower',\n",
              " 'rd',\n",
              " 'patricia',\n",
              " 'xual',\n",
              " 'expensive',\n",
              " 'firstcall',\n",
              " 'de',\n",
              " 'sur',\n",
              " 'victor',\n",
              " 'exports',\n",
              " 'invoice',\n",
              " 'bbb',\n",
              " 'tianjin',\n",
              " 'children',\n",
              " 'daily',\n",
              " 'fm',\n",
              " 'example',\n",
              " 'alwond',\n",
              " 'psychotherapist',\n",
              " 'modesty',\n",
              " 'hifalutin',\n",
              " 'thompsonville',\n",
              " 'ext',\n",
              " 'pharmacy',\n",
              " 'tpfiyxn',\n",
              " 'kenny',\n",
              " 'lynnbottlinger',\n",
              " 'lana',\n",
              " 'channel',\n",
              " '       ',\n",
              " 'cumberland',\n",
              " 'rusty',\n",
              " 'southeast',\n",
              " 'tenaska',\n",
              " 'lummox',\n",
              " 'liken',\n",
              " 'cardoso',\n",
              " 'gordian',\n",
              " 'noms',\n",
              " 'nebenarbeit',\n",
              " 'ztv',\n",
              " 'biank',\n",
              " 'filed',\n",
              " 'gm',\n",
              " 'bexp',\n",
              " 'na',\n",
              " 'hyatt',\n",
              " 'mauricio',\n",
              " 'iwl',\n",
              " 'zrrzlq',\n",
              " 'yarbrough',\n",
              " 'gillespie',\n",
              " 'von',\n",
              " 'rectifier',\n",
              " 'roz',\n",
              " 'fuz',\n",
              " 'malone',\n",
              " 'wfovcn',\n",
              " 'group',\n",
              " 'luu',\n",
              " 'lipton',\n",
              " 'scopic',\n",
              " 'house',\n",
              " 'riga',\n",
              " 'jinx',\n",
              " 'petroleum',\n",
              " 'mca',\n",
              " 'e',\n",
              " 'extends',\n",
              " 'mendelssohn',\n",
              " 'yjycunv',\n",
              " 'spreadsheet',\n",
              " 'fmwh',\n",
              " 'dow',\n",
              " 'bi',\n",
              " 'maggi',\n",
              " 'idx',\n",
              " 'shuttle',\n",
              " 'keyboard',\n",
              " 'sa',\n",
              " 'equa',\n",
              " 'dkfoac',\n",
              " 'delete',\n",
              " 'gradually',\n",
              " 'trainman',\n",
              " 'cdsc',\n",
              " 'medcom',\n",
              " 'cowbell',\n",
              " 'rop',\n",
              " 'bakhtiari',\n",
              " 'dallas',\n",
              " 'cognate',\n",
              " 'followup',\n",
              " 'blue',\n",
              " 'willis',\n",
              " 'eex',\n",
              " 'arclength',\n",
              " 'senate',\n",
              " 'deal',\n",
              " 'islamic',\n",
              " 'jyquf',\n",
              " 'miliions',\n",
              " 'zomtc',\n",
              " 'ascent',\n",
              " 'zaeaxtmw',\n",
              " 'rdxvywhsq',\n",
              " 'el',\n",
              " 'nsf',\n",
              " 'ndin',\n",
              " 'xta',\n",
              " 'commonwealth',\n",
              " 'barcelona',\n",
              " 'bowman',\n",
              " 'ku',\n",
              " 'hold',\n",
              " 'porche',\n",
              " 'bill',\n",
              " 'cliff',\n",
              " 'tripod',\n",
              " 'oakdale',\n",
              " 'crosswort',\n",
              " 'chapman',\n",
              " 'bundestag',\n",
              " 'frieze',\n",
              " 'mjg',\n",
              " 'wendy',\n",
              " 'g',\n",
              " 'wallboard',\n",
              " 'punctuate',\n",
              " 'longview',\n",
              " 'genierc',\n",
              " 'carcinoma',\n",
              " 'dougherty',\n",
              " 'clickathome',\n",
              " 'huntley',\n",
              " 'tarbell',\n",
              " 'su',\n",
              " 'ecobank',\n",
              " 'whereon',\n",
              " 'meeessaageees',\n",
              " 'alstom',\n",
              " 'bird',\n",
              " 'urbanek',\n",
              " 'hirl',\n",
              " 'airpanel',\n",
              " 'committeeman',\n",
              " 'brenham',\n",
              " 'discount',\n",
              " 'plainfield',\n",
              " 'wil',\n",
              " 'nyu',\n",
              " 'srm',\n",
              " 'jfwtoeglo',\n",
              " 'camp',\n",
              " 'fendi',\n",
              " 'end',\n",
              " 'mia',\n",
              " 'ntermin',\n",
              " 'addison',\n",
              " 'shannon',\n",
              " 'palestinian',\n",
              " 'xyvoqldtkmr',\n",
              " 'icckmv',\n",
              " 'tpbvzbs',\n",
              " 'vengeance',\n",
              " 'oihdpxk',\n",
              " 'immense',\n",
              " 'fight',\n",
              " 'division',\n",
              " 'demanding',\n",
              " 'banshee',\n",
              " 'deals',\n",
              " 'crosstex',\n",
              " 'gigacycle',\n",
              " 'yc',\n",
              " 'vioxx',\n",
              " 'klein',\n",
              " 'access',\n",
              " 'betray',\n",
              " 'autodesk',\n",
              " 'duel',\n",
              " 'east',\n",
              " 'healthline',\n",
              " 'charlottesville',\n",
              " 'safety',\n",
              " 'millenium',\n",
              " 'brand',\n",
              " 'mov',\n",
              " 'qiwszlr',\n",
              " 'hector',\n",
              " 'esophagi',\n",
              " 'nis',\n",
              " 'basf',\n",
              " 'cameron',\n",
              " 'eigenspace',\n",
              " 'socio',\n",
              " 'bless',\n",
              " 'orestes',\n",
              " 'bathroom',\n",
              " 'rhenium',\n",
              " 'peggy',\n",
              " 'dxxtin',\n",
              " 'evangelic',\n",
              " 'maximilian',\n",
              " 'xi',\n",
              " 'des',\n",
              " 'somewhere',\n",
              " 'fangming',\n",
              " 'harris',\n",
              " 'olg',\n",
              " 'profile',\n",
              " 'kbwnbxb',\n",
              " 'yeasp',\n",
              " 'bwnbsp',\n",
              " 'michael',\n",
              " 'venice',\n",
              " 'genex',\n",
              " 'florida',\n",
              " 'mackey',\n",
              " 'spirit',\n",
              " 'pc',\n",
              " 'dmorea',\n",
              " 'brucellosis',\n",
              " 'station',\n",
              " 'bu',\n",
              " 'midlothian',\n",
              " 'zocor',\n",
              " 'igent',\n",
              " 'esperanza',\n",
              " '\\x12',\n",
              " 'pbr',\n",
              " 'environment',\n",
              " 'theresa',\n",
              " 'camden',\n",
              " 'lank',\n",
              " 'ciallls',\n",
              " 'unit',\n",
              " 'action',\n",
              " 'meter',\n",
              " 'images',\n",
              " 'states',\n",
              " 'wizard',\n",
              " 'ping',\n",
              " 'cromwellian',\n",
              " 'vicente',\n",
              " 'codicil',\n",
              " 'patch',\n",
              " 'initia',\n",
              " 'fax',\n",
              " 'arrowhead',\n",
              " 'samsung',\n",
              " 'canoe',\n",
              " 'cpjtrsbqgogmjnyi',\n",
              " 'stock',\n",
              " 'rhone',\n",
              " 'ga',\n",
              " 'ada',\n",
              " 'charset',\n",
              " 'quanta',\n",
              " 'boris',\n",
              " 'honesty',\n",
              " 'rvq',\n",
              " 'stuckey',\n",
              " 'technologies',\n",
              " 'glenda',\n",
              " 'frayed',\n",
              " 'chubby',\n",
              " 'golf',\n",
              " 'wronskian',\n",
              " 'beresford',\n",
              " 'lmb',\n",
              " 'electro',\n",
              " 'fiche',\n",
              " 'pa',\n",
              " 'chicago',\n",
              " 'taken',\n",
              " 'catnip',\n",
              " 'tiyu',\n",
              " 'homelanddeferred',\n",
              " 'yon',\n",
              " 'bed',\n",
              " 'tandem',\n",
              " 'dah',\n",
              " 'worldnet',\n",
              " 'margery',\n",
              " 'openi',\n",
              " 'angst',\n",
              " 'keohane',\n",
              " 'abyssinia',\n",
              " 'antoine',\n",
              " 'nascar',\n",
              " 'fac',\n",
              " 'berkeiey',\n",
              " 'mich',\n",
              " 'wassupsouthparkl',\n",
              " 'kerr',\n",
              " 'chlorate',\n",
              " 'breadwinner',\n",
              " 'van',\n",
              " 'cooperate',\n",
              " 'clinoprroxene',\n",
              " 'gore',\n",
              " 'vzqcfq',\n",
              " 'payroll',\n",
              " 'days',\n",
              " 'parks',\n",
              " 'investments',\n",
              " 'knox',\n",
              " 'berall',\n",
              " 'j',\n",
              " 'urdvcgcx',\n",
              " 'kraft',\n",
              " 'com',\n",
              " 'villagomez',\n",
              " 'behalf',\n",
              " 'ghvpmapc',\n",
              " 'newswires',\n",
              " 'function',\n",
              " 'ghhxaz',\n",
              " 'productivity',\n",
              " 'orlando',\n",
              " 'inland',\n",
              " 'yfunb',\n",
              " 'bandstand',\n",
              " 'parimutuel',\n",
              " 'actuals',\n",
              " 'connive',\n",
              " 'partner',\n",
              " 'durham',\n",
              " 'microsoft',\n",
              " 'crt',\n",
              " 'joanie',\n",
              " 'tnpc',\n",
              " 'owe',\n",
              " 'boeing',\n",
              " 'bethlehem',\n",
              " 'oft',\n",
              " 'vgvbuvj',\n",
              " 'bell',\n",
              " 'doc',\n",
              " 'idftkyjv',\n",
              " 'ruth',\n",
              " 'washington',\n",
              " 'dang',\n",
              " 'capitol',\n",
              " 'bejttroci',\n",
              " 'limited',\n",
              " 'canterbury',\n",
              " 'perregaux',\n",
              " 'institute',\n",
              " 'advantage',\n",
              " 'priice',\n",
              " 'despond',\n",
              " 'officer',\n",
              " 'proposition',\n",
              " 'bfhoqf',\n",
              " 'bo',\n",
              " 'enjoy',\n",
              " 'emblem',\n",
              " 'rights',\n",
              " 'karamie',\n",
              " 'berlitz',\n",
              " 'junoesque',\n",
              " 'ppksvk',\n",
              " 'updated',\n",
              " 'kslkbkcrbavoc',\n",
              " 'lange',\n",
              " 'haggle',\n",
              " 'zwftnqlp',\n",
              " 'ftworth',\n",
              " 'brett',\n",
              " 'jason',\n",
              " 'cleveland',\n",
              " 'medicatimoln',\n",
              " 'clean',\n",
              " 'kremlin',\n",
              " 'befog',\n",
              " 'eddie',\n",
              " 'singapore',\n",
              " 'byr',\n",
              " 'newcastle',\n",
              " 'cheap',\n",
              " 'presas',\n",
              " 'boyle',\n",
              " 'sam',\n",
              " 'alamo',\n",
              " 'facilities',\n",
              " 'artemis',\n",
              " 'yahoo',\n",
              " 'ge',\n",
              " 'kids',\n",
              " 'nigeria',\n",
              " 'ck',\n",
              " 'tcms',\n",
              " 'toys',\n",
              " 'society',\n",
              " 'betrayeraustria',\n",
              " 'playboy',\n",
              " 'stan',\n",
              " 'stockroom',\n",
              " 'creditors',\n",
              " 'chilean',\n",
              " 'lacerta',\n",
              " 'farm',\n",
              " 'dkdqndz',\n",
              " 'companies',\n",
              " 'yqwe',\n",
              " 'responsible',\n",
              " 'amex',\n",
              " 'ehronline',\n",
              " 'croon',\n",
              " 'mary',\n",
              " 'consortium',\n",
              " 'gmxeml',\n",
              " 'weir',\n",
              " 'jqnwsba',\n",
              " 'wallah',\n",
              " 'praxair',\n",
              " 'actinic',\n",
              " 'john',\n",
              " 'following',\n",
              " 'intszetz',\n",
              " 'w',\n",
              " 'technology',\n",
              " 'escada',\n",
              " 'ainet',\n",
              " 'caramel',\n",
              " 'foyer',\n",
              " 'dhny',\n",
              " 'foot',\n",
              " 'arcadia',\n",
              " 'evans',\n",
              " 'screw',\n",
              " 'dnisew',\n",
              " 'sanchez',\n",
              " 'molly',\n",
              " 'ccgm',\n",
              " 'lillie',\n",
              " 'supply',\n",
              " 'pooling',\n",
              " 'leading',\n",
              " 'trongdidrex',\n",
              " 'lindley',\n",
              " 'interrogator',\n",
              " 'tetra',\n",
              " 'depth',\n",
              " 'kristen',\n",
              " 'pmvsjkrko',\n",
              " 'cable',\n",
              " 'meters',\n",
              " 'cell',\n",
              " 'mickey',\n",
              " 'sandy',\n",
              " 'zero',\n",
              " 'gat',\n",
              " 'first',\n",
              " 'withvourbon',\n",
              " 'dalton',\n",
              " 'collection',\n",
              " 'thou',\n",
              " 'feb',\n",
              " 'pps',\n",
              " 'nata',\n",
              " 'nasdaq',\n",
              " 'dogbane',\n",
              " 'archangel',\n",
              " 'marron',\n",
              " 'drill',\n",
              " 'bristol',\n",
              " 'bike',\n",
              " 'motel',\n",
              " 'winston',\n",
              " 'pond',\n",
              " 'zhu',\n",
              " 'hill',\n",
              " 'october',\n",
              " 'jameson',\n",
              " 'downhill',\n",
              " 'coronet',\n",
              " 'heller',\n",
              " 'numismatist',\n",
              " 'mitchell',\n",
              " 'systems',\n",
              " 'eqwhmvqif',\n",
              " 'tobacco',\n",
              " 'reproductions',\n",
              " 'cheating',\n",
              " 'bipartite',\n",
              " 'comrade',\n",
              " 'johns',\n",
              " 'neevr',\n",
              " 'zgblkaj',\n",
              " 'mvae',\n",
              " 'lesswrl',\n",
              " 'loganville',\n",
              " 'event',\n",
              " 'marc',\n",
              " 'profiler',\n",
              " 'concept',\n",
              " 'reliability',\n",
              " 'juvenile',\n",
              " 'katherine',\n",
              " 'prop',\n",
              " 'counterparty',\n",
              " 'goodlett',\n",
              " 'september',\n",
              " 'jzjoen',\n",
              " 'dot',\n",
              " 'deep',\n",
              " 'vente',\n",
              " 'nippon',\n",
              " 'doppler',\n",
              " 'loibl',\n",
              " 'tex',\n",
              " 'assessment',\n",
              " 'engineer',\n",
              " 'mike',\n",
              " 'louise',\n",
              " 'cogen',\n",
              " 'teiephone',\n",
              " 'reference',\n",
              " 'amaze',\n",
              " 'gate',\n",
              " 'refinery',\n",
              " 'news',\n",
              " 'craig',\n",
              " 'give',\n",
              " 'ebs',\n",
              " 'stacey',\n",
              " 'hull',\n",
              " 'mkxcyvozibdj',\n",
              " 'daigle',\n",
              " 'jablonsky',\n",
              " 'green',\n",
              " 'cynthiadepeche',\n",
              " 'preview',\n",
              " 'peter',\n",
              " 'financiers',\n",
              " 'panel',\n",
              " 'catalogue',\n",
              " 'please',\n",
              " 'jenabug',\n",
              " 'mcdonald',\n",
              " 'christiana',\n",
              " 'corel',\n",
              " 'caulk',\n",
              " 'aderso',\n",
              " 'provider',\n",
              " 'berke',\n",
              " 'yrmnwavl',\n",
              " 'khindria',\n",
              " 'third',\n",
              " 'grmzde',\n",
              " 'armaceutical',\n",
              " 'flo',\n",
              " 'viewsonic',\n",
              " 'mohammedanization',\n",
              " 'kainbojwt',\n",
              " 'ugs',\n",
              " 'effect',\n",
              " 'duplex',\n",
              " 'gda',\n",
              " 'fjccw',\n",
              " 'xrhwbjh',\n",
              " 'chapter',\n",
              " 'cochrane',\n",
              " 'cnn',\n",
              " 'highlights',\n",
              " 'artprice',\n",
              " 'media',\n",
              " 'exception',\n",
              " 'fw',\n",
              " 'fmvcn',\n",
              " 'roven',\n",
              " 'corporation',\n",
              " 'tussioneex',\n",
              " 'guyana',\n",
              " 'custodial',\n",
              " 'leth',\n",
              " 'mbysoi',\n",
              " 'myrrh',\n",
              " 'andrew',\n",
              " 'yap',\n",
              " 'relations',\n",
              " 'delta',\n",
              " 'pardon',\n",
              " 'pec',\n",
              " 'comjamaica',\n",
              " 'schumack',\n",
              " 'hispaniola',\n",
              " 'aladdin',\n",
              " 'startech',\n",
              " 'landfill',\n",
              " 'calger',\n",
              " 'tufco',\n",
              " 'chum',\n",
              " 'dri',\n",
              " 'google',\n",
              " 'andersen',\n",
              " 'exon',\n",
              " 'gif',\n",
              " 'iona',\n",
              " 'oracle',\n",
              " 'butyrate',\n",
              " 'rnd',\n",
              " 'jet',\n",
              " 'conduct',\n",
              " 'cyrillic',\n",
              " 'bankruptcy',\n",
              " 'tejas',\n",
              " 'lucas',\n",
              " 'bagie',\n",
              " 'bxpaax',\n",
              " 'rollup',\n",
              " 'phoenix',\n",
              " 'scribner',\n",
              " 'quality',\n",
              " 'person',\n",
              " 'liebe',\n",
              " 'killing',\n",
              " 'lone',\n",
              " 'fyi',\n",
              " 'mont',\n",
              " 'johnson',\n",
              " 'healthcare',\n",
              " 'nba',\n",
              " 'securities',\n",
              " 'epgt',\n",
              " 'pathogenic',\n",
              " 'shut',\n",
              " 'vlcod',\n",
              " 'harder',\n",
              " 'nasd',\n",
              " 'hwjll',\n",
              " 'gulett',\n",
              " 'cicero',\n",
              " 'postcondition',\n",
              " 'boggle',\n",
              " 'executive',\n",
              " 'kndprscoa',\n",
              " 'rogers',\n",
              " 'fiona',\n",
              " 'gpgfin',\n",
              " 'cinm',\n",
              " 'marol',\n",
              " 'mgi',\n",
              " 'ercot',\n",
              " 'list',\n",
              " 'ksu',\n",
              " 'customers',\n",
              " 'ednan',\n",
              " 'urgent',\n",
              " 'yxzbhr',\n",
              " 'dfarmer',\n",
              " 'venture',\n",
              " 'dodson',\n",
              " 'amazing',\n",
              " 'william',\n",
              " 'pharmaceutic',\n",
              " 'oxford',\n",
              " 'jgc',\n",
              " 'agrbrsnq',\n",
              " 'buddy',\n",
              " 'ridia',\n",
              " 'regimen',\n",
              " 'karma',\n",
              " 'framboesia',\n",
              " 'zmpem',\n",
              " 'jaguar',\n",
              " 'gzniec',\n",
              " 'maugham',\n",
              " 'ltd',\n",
              " 'cheapcaribbean',\n",
              " 'xpx',\n",
              " 'hjicctoii',\n",
              " 'sperry',\n",
              " 'life',\n",
              " 'foster',\n",
              " 'gtxdbs',\n",
              " 'bunsen',\n",
              " 'jmthbbg',\n",
              " 'weldon',\n",
              " 'madurai',\n",
              " 'vargas',\n",
              " 'wegen',\n",
              " 'cinco',\n",
              " 'uppzzfypb',\n",
              " 'vermont',\n",
              " 'corey',\n",
              " 'cfgl',\n",
              " 'earthwatch',\n",
              " 'houston',\n",
              " 'nc',\n",
              " 'blanchard',\n",
              " 'amateur',\n",
              " 'consolidated',\n",
              " 'week',\n",
              " 'benien',\n",
              " 'kensington',\n",
              " 'square',\n",
              " 'kin',\n",
              " 'iqucas',\n",
              " 'beloit',\n",
              " 'inculcate',\n",
              " 'tsxgnvu',\n",
              " 'fbi',\n",
              " 'rooftree',\n",
              " 'ruddy',\n",
              " 'penetrate',\n",
              " 'exxonmobil',\n",
              " 'communications',\n",
              " 'marian',\n",
              " 'delphinium',\n",
              " 'log',\n",
              " 'ambiance',\n",
              " 'dominguez',\n",
              " 'moore',\n",
              " 'karachi',\n",
              " 'regale',\n",
              " 'xv',\n",
              " 'nakib',\n",
              " 'online',\n",
              " 'titgsndtl',\n",
              " 'nova',\n",
              " 'monteverdi',\n",
              " 'imagine',\n",
              " 'doll',\n",
              " 'ministry',\n",
              " 'member',\n",
              " 'belvieu',\n",
              " 'bergstrom',\n",
              " 'calico',\n",
              " 'parley',\n",
              " 'betelgeuse',\n",
              " 'ivrkzvmo',\n",
              " 'anderson',\n",
              " 'confirmed',\n",
              " 'accurate',\n",
              " 'colonial',\n",
              " 'tunnel',\n",
              " 'deliveries',\n",
              " 'hockey',\n",
              " 'sharp',\n",
              " 'ming',\n",
              " 'charles',\n",
              " 'syntroleum',\n",
              " 'mikelgoblue',\n",
              " 'costa',\n",
              " 'llandaff',\n",
              " 'fermium',\n",
              " 'gci',\n",
              " 'brim',\n",
              " 'pentagram',\n",
              " 'bandwagon',\n",
              " 'authenticclaire',\n",
              " 'schooner',\n",
              " 'dereference',\n",
              " 'vickie',\n",
              " 'bac',\n",
              " 'z',\n",
              " 'krshwz',\n",
              " 'erda',\n",
              " 'pipes',\n",
              " 'rey',\n",
              " 'midcon',\n",
              " 'wombat',\n",
              " 'valisum',\n",
              " 'bradley',\n",
              " 'vpeiqsj',\n",
              " 'aol',\n",
              " 'gte',\n",
              " 'align',\n",
              " 'goodell',\n",
              " 'stadium',\n",
              " 'royal',\n",
              " 'multicell',\n",
              " 'marsh',\n",
              " 'acadia',\n",
              " 'prozac',\n",
              " 'march',\n",
              " 'ruqgplxxd',\n",
              " 'raam',\n",
              " 'lovea',\n",
              " 'ponderosa',\n",
              " 'wire',\n",
              " 'nwztfc',\n",
              " 'icebox',\n",
              " 'tbr',\n",
              " 'nica',\n",
              " 'hotels',\n",
              " 'jw',\n",
              " 'ti',\n",
              " 'morgen',\n",
              " 'wpt',\n",
              " 'mt',\n",
              " 'adelia',\n",
              " 'eott',\n",
              " 'avril',\n",
              " 'semiramis',\n",
              " 'kjqhkwrbo',\n",
              " 'magnolia',\n",
              " 'blush',\n",
              " 'littie',\n",
              " 'company',\n",
              " 'lower',\n",
              " 'kenneth',\n",
              " 'marcus',\n",
              " 'brute',\n",
              " 'constance',\n",
              " 'vic',\n",
              " 'ium',\n",
              " 'gkqdgdgjq',\n",
              " 'jersey',\n",
              " 'devon',\n",
              " 'manhattan',\n",
              " 'co',\n",
              " 'abject',\n",
              " 'guinness',\n",
              " ...}"
            ]
          },
          "metadata": {},
          "execution_count": 102
        }
      ]
    },
    {
      "cell_type": "code",
      "source": [],
      "metadata": {
        "id": "H1XIx1cw6FKR"
      },
      "id": "H1XIx1cw6FKR",
      "execution_count": null,
      "outputs": []
    }
  ],
  "metadata": {
    "kernelspec": {
      "display_name": "Python 3",
      "name": "python3"
    },
    "language_info": {
      "codemirror_mode": {
        "name": "ipython",
        "version": 3
      },
      "file_extension": ".py",
      "mimetype": "text/x-python",
      "name": "python",
      "nbconvert_exporter": "python",
      "pygments_lexer": "ipython3",
      "version": "3.8.12"
    },
    "colab": {
      "provenance": [],
      "gpuType": "T4",
      "include_colab_link": true
    },
    "accelerator": "GPU"
  },
  "nbformat": 4,
  "nbformat_minor": 5
}